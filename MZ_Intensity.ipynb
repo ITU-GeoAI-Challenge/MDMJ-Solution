{
  "nbformat": 4,
  "nbformat_minor": 0,
  "metadata": {
    "colab": {
      "provenance": []
    },
    "kernelspec": {
      "name": "python3",
      "display_name": "Python 3"
    },
    "language_info": {
      "name": "python"
    },
    "widgets": {
      "application/vnd.jupyter.widget-state+json": {
        "ae9f53adf06c46158203af65cc8a0046": {
          "model_module": "jupyter-leaflet",
          "model_name": "LeafletMapModel",
          "model_module_version": "^0.17",
          "state": {
            "_dom_classes": [],
            "_model_module": "jupyter-leaflet",
            "_model_module_version": "^0.17",
            "_model_name": "LeafletMapModel",
            "_view_count": null,
            "_view_module": "jupyter-leaflet",
            "_view_module_version": "^0.17",
            "_view_name": "LeafletMapView",
            "bottom": 145588,
            "bounce_at_zoom_limits": true,
            "box_zoom": true,
            "center": [
              -19.155546551403607,
              34.41605804086233
            ],
            "close_popup_on_click": true,
            "controls": [
              "IPY_MODEL_8b3e22baeecf4751bce397ee31f98bd5",
              "IPY_MODEL_85809c4c8874489ab4a37d86f10f5379",
              "IPY_MODEL_07ead5c06c3046e8aa75151caada1969",
              "IPY_MODEL_ffe10845f74b460c85cba436354035c8",
              "IPY_MODEL_5e0d9f1d4b7044db820f54cc2196a535",
              "IPY_MODEL_94ae947ea10a44a4b38a7944a206f140",
              "IPY_MODEL_2e3f0f0af745411cae9feab37641d937",
              "IPY_MODEL_b2e5f867311a45a8a2b944dfd9addd76"
            ],
            "crs": {
              "name": "EPSG3857",
              "custom": false
            },
            "default_style": "IPY_MODEL_47a0ba5d98d5419d80bbf3aff126bc1c",
            "double_click_zoom": true,
            "dragging": true,
            "dragging_style": "IPY_MODEL_ee3379aa670642f39cbe840711736e35",
            "east": 35.20844695687795,
            "fullscreen": false,
            "inertia": true,
            "inertia_deceleration": 3000,
            "inertia_max_speed": 1500,
            "interpolation": "bilinear",
            "keyboard": true,
            "keyboard_pan_offset": 80,
            "keyboard_zoom_offset": 1,
            "layers": [
              "IPY_MODEL_cd18dc68554a4da69bc5012fecd04aaa",
              "IPY_MODEL_f8fb3bddc37c4fb6bf5e995bb2abbe92",
              "IPY_MODEL_32cc47d7d75f4c5a9c7eb2cfbde59403",
              "IPY_MODEL_26815648950d4a408eb477d6b3237634"
            ],
            "layout": "IPY_MODEL_6b17c8a199de4e35970cf5f8efa5b716",
            "left": 155556.00866406615,
            "max_zoom": 24,
            "min_zoom": null,
            "modisdate": "2022-10-13",
            "north": -18.765913990627432,
            "options": [
              "bounce_at_zoom_limits",
              "box_zoom",
              "center",
              "close_popup_on_click",
              "double_click_zoom",
              "dragging",
              "fullscreen",
              "inertia",
              "inertia_deceleration",
              "inertia_max_speed",
              "interpolation",
              "keyboard",
              "keyboard_pan_offset",
              "keyboard_zoom_offset",
              "max_zoom",
              "min_zoom",
              "prefer_canvas",
              "scroll_wheel_zoom",
              "tap",
              "tap_tolerance",
              "touch_zoom",
              "world_copy_jump",
              "zoom",
              "zoom_animation_threshold",
              "zoom_delta",
              "zoom_snap"
            ],
            "panes": {},
            "prefer_canvas": false,
            "right": 156710.00866406615,
            "scroll_wheel_zoom": true,
            "south": -19.544260884841158,
            "style": "IPY_MODEL_47a0ba5d98d5419d80bbf3aff126bc1c",
            "tap": true,
            "tap_tolerance": 15,
            "top": 144988,
            "touch_zoom": true,
            "west": 33.62366912484671,
            "window_url": "https://dkz97rbezhk-496ff2e9c6d22116-0-colab.googleusercontent.com/outputframe.html?vrz=colab-20221013-060049-RC00_480849705",
            "world_copy_jump": false,
            "zoom": 10,
            "zoom_animation_threshold": 4,
            "zoom_delta": 1,
            "zoom_snap": 1
          }
        },
        "8b3e22baeecf4751bce397ee31f98bd5": {
          "model_module": "jupyter-leaflet",
          "model_name": "LeafletWidgetControlModel",
          "model_module_version": "^0.17",
          "state": {
            "_model_module": "jupyter-leaflet",
            "_model_module_version": "^0.17",
            "_model_name": "LeafletWidgetControlModel",
            "_view_count": null,
            "_view_module": "jupyter-leaflet",
            "_view_module_version": "^0.17",
            "_view_name": "LeafletWidgetControlView",
            "max_height": null,
            "max_width": null,
            "min_height": null,
            "min_width": null,
            "options": [
              "position",
              "transparent_bg"
            ],
            "position": "topleft",
            "transparent_bg": false,
            "widget": "IPY_MODEL_92a19518828647168faa011e3519dd80"
          }
        },
        "85809c4c8874489ab4a37d86f10f5379": {
          "model_module": "jupyter-leaflet",
          "model_name": "LeafletZoomControlModel",
          "model_module_version": "^0.17",
          "state": {
            "_model_module": "jupyter-leaflet",
            "_model_module_version": "^0.17",
            "_model_name": "LeafletZoomControlModel",
            "_view_count": null,
            "_view_module": "jupyter-leaflet",
            "_view_module_version": "^0.17",
            "_view_name": "LeafletZoomControlView",
            "options": [
              "position",
              "zoom_in_text",
              "zoom_in_title",
              "zoom_out_text",
              "zoom_out_title"
            ],
            "position": "topleft",
            "zoom_in_text": "+",
            "zoom_in_title": "Zoom in",
            "zoom_out_text": "-",
            "zoom_out_title": "Zoom out"
          }
        },
        "07ead5c06c3046e8aa75151caada1969": {
          "model_module": "jupyter-leaflet",
          "model_name": "LeafletScaleControlModel",
          "model_module_version": "^0.17",
          "state": {
            "_model_module": "jupyter-leaflet",
            "_model_module_version": "^0.17",
            "_model_name": "LeafletScaleControlModel",
            "_view_count": null,
            "_view_module": "jupyter-leaflet",
            "_view_module_version": "^0.17",
            "_view_name": "LeafletScaleControlView",
            "imperial": true,
            "max_width": 100,
            "metric": true,
            "options": [
              "imperial",
              "max_width",
              "metric",
              "position",
              "update_when_idle"
            ],
            "position": "bottomleft",
            "update_when_idle": false
          }
        },
        "ffe10845f74b460c85cba436354035c8": {
          "model_module": "jupyter-leaflet",
          "model_name": "LeafletFullScreenControlModel",
          "model_module_version": "^0.17",
          "state": {
            "_model_module": "jupyter-leaflet",
            "_model_module_version": "^0.17",
            "_model_name": "LeafletFullScreenControlModel",
            "_view_count": null,
            "_view_module": "jupyter-leaflet",
            "_view_module_version": "^0.17",
            "_view_name": "LeafletFullScreenControlView",
            "options": [
              "position"
            ],
            "position": "topleft"
          }
        },
        "5e0d9f1d4b7044db820f54cc2196a535": {
          "model_module": "jupyter-leaflet",
          "model_name": "LeafletMeasureControlModel",
          "model_module_version": "^0.17",
          "state": {
            "_custom_units": {},
            "_model_module": "jupyter-leaflet",
            "_model_module_version": "^0.17",
            "_model_name": "LeafletMeasureControlModel",
            "_view_count": null,
            "_view_module": "jupyter-leaflet",
            "_view_module_version": "^0.17",
            "_view_name": "LeafletMeasureControlView",
            "active_color": "orange",
            "capture_z_index": 10000,
            "completed_color": "#C8F2BE",
            "options": [
              "active_color",
              "capture_z_index",
              "completed_color",
              "popup_options",
              "position",
              "primary_area_unit",
              "primary_length_unit",
              "secondary_area_unit",
              "secondary_length_unit"
            ],
            "popup_options": {
              "className": "leaflet-measure-resultpopup",
              "autoPanPadding": [
                10,
                10
              ]
            },
            "position": "bottomleft",
            "primary_area_unit": "acres",
            "primary_length_unit": "kilometers",
            "secondary_area_unit": null,
            "secondary_length_unit": null
          }
        },
        "94ae947ea10a44a4b38a7944a206f140": {
          "model_module": "jupyter-leaflet",
          "model_name": "LeafletAttributionControlModel",
          "model_module_version": "^0.17",
          "state": {
            "_model_module": "jupyter-leaflet",
            "_model_module_version": "^0.17",
            "_model_name": "LeafletAttributionControlModel",
            "_view_count": null,
            "_view_module": "jupyter-leaflet",
            "_view_module_version": "^0.17",
            "_view_name": "LeafletAttributionControlView",
            "options": [
              "position",
              "prefix"
            ],
            "position": "bottomright",
            "prefix": "ipyleaflet"
          }
        },
        "2e3f0f0af745411cae9feab37641d937": {
          "model_module": "jupyter-leaflet",
          "model_name": "LeafletDrawControlModel",
          "model_module_version": "^0.17",
          "state": {
            "_model_module": "jupyter-leaflet",
            "_model_module_version": "^0.17",
            "_model_name": "LeafletDrawControlModel",
            "_view_count": null,
            "_view_module": "jupyter-leaflet",
            "_view_module_version": "^0.17",
            "_view_name": "LeafletDrawControlView",
            "circle": {
              "shapeOptions": {
                "color": "#3388ff"
              }
            },
            "circlemarker": {},
            "data": [],
            "edit": true,
            "marker": {
              "shapeOptions": {
                "color": "#3388ff"
              }
            },
            "options": [
              "position"
            ],
            "polygon": {
              "shapeOptions": {}
            },
            "polyline": {
              "shapeOptions": {}
            },
            "position": "topleft",
            "rectangle": {
              "shapeOptions": {
                "color": "#3388ff"
              }
            },
            "remove": true
          }
        },
        "b2e5f867311a45a8a2b944dfd9addd76": {
          "model_module": "jupyter-leaflet",
          "model_name": "LeafletWidgetControlModel",
          "model_module_version": "^0.17",
          "state": {
            "_model_module": "jupyter-leaflet",
            "_model_module_version": "^0.17",
            "_model_name": "LeafletWidgetControlModel",
            "_view_count": null,
            "_view_module": "jupyter-leaflet",
            "_view_module_version": "^0.17",
            "_view_name": "LeafletWidgetControlView",
            "max_height": null,
            "max_width": null,
            "min_height": null,
            "min_width": null,
            "options": [
              "position",
              "transparent_bg"
            ],
            "position": "topright",
            "transparent_bg": false,
            "widget": "IPY_MODEL_5d1e268dca8a4fea9885357c66ccdf5e"
          }
        },
        "47a0ba5d98d5419d80bbf3aff126bc1c": {
          "model_module": "jupyter-leaflet",
          "model_name": "LeafletMapStyleModel",
          "model_module_version": "^0.17",
          "state": {
            "_model_module": "jupyter-leaflet",
            "_model_module_version": "^0.17",
            "_model_name": "LeafletMapStyleModel",
            "_view_count": null,
            "_view_module": "@jupyter-widgets/base",
            "_view_module_version": "1.2.0",
            "_view_name": "StyleView",
            "cursor": "grab"
          }
        },
        "ee3379aa670642f39cbe840711736e35": {
          "model_module": "jupyter-leaflet",
          "model_name": "LeafletMapStyleModel",
          "model_module_version": "^0.17",
          "state": {
            "_model_module": "jupyter-leaflet",
            "_model_module_version": "^0.17",
            "_model_name": "LeafletMapStyleModel",
            "_view_count": null,
            "_view_module": "@jupyter-widgets/base",
            "_view_module_version": "1.2.0",
            "_view_name": "StyleView",
            "cursor": "move"
          }
        },
        "cd18dc68554a4da69bc5012fecd04aaa": {
          "model_module": "jupyter-leaflet",
          "model_name": "LeafletTileLayerModel",
          "model_module_version": "^0.17",
          "state": {
            "_model_module": "jupyter-leaflet",
            "_model_module_version": "^0.17",
            "_model_name": "LeafletTileLayerModel",
            "_view_count": null,
            "_view_module": "jupyter-leaflet",
            "_view_module_version": "^0.17",
            "_view_name": "LeafletTileLayerView",
            "attribution": "&copy; <a href=\"https://www.openstreetmap.org/copyright\">OpenStreetMap</a> contributors",
            "base": true,
            "bottom": true,
            "bounds": null,
            "detect_retina": false,
            "loading": false,
            "max_native_zoom": null,
            "max_zoom": 19,
            "min_native_zoom": null,
            "min_zoom": 1,
            "name": "OpenStreetMap.Mapnik",
            "no_wrap": false,
            "opacity": 1,
            "options": [
              "attribution",
              "bounds",
              "detect_retina",
              "max_native_zoom",
              "max_zoom",
              "min_native_zoom",
              "min_zoom",
              "no_wrap",
              "tile_size",
              "tms",
              "zoom_offset"
            ],
            "pane": "",
            "popup": null,
            "popup_max_height": null,
            "popup_max_width": 300,
            "popup_min_width": 50,
            "show_loading": false,
            "tile_size": 256,
            "tms": false,
            "url": "https://tile.openstreetmap.org/{z}/{x}/{y}.png",
            "visible": true,
            "zoom_offset": 0
          }
        },
        "f8fb3bddc37c4fb6bf5e995bb2abbe92": {
          "model_module": "jupyter-leaflet",
          "model_name": "LeafletTileLayerModel",
          "model_module_version": "^0.17",
          "state": {
            "_model_module": "jupyter-leaflet",
            "_model_module_version": "^0.17",
            "_model_name": "LeafletTileLayerModel",
            "_view_count": null,
            "_view_module": "jupyter-leaflet",
            "_view_module_version": "^0.17",
            "_view_name": "LeafletTileLayerView",
            "attribution": "Google",
            "base": false,
            "bottom": true,
            "bounds": null,
            "detect_retina": false,
            "loading": false,
            "max_native_zoom": null,
            "max_zoom": 22,
            "min_native_zoom": null,
            "min_zoom": 0,
            "name": "Google Maps",
            "no_wrap": false,
            "opacity": 1,
            "options": [
              "attribution",
              "bounds",
              "detect_retina",
              "max_native_zoom",
              "max_zoom",
              "min_native_zoom",
              "min_zoom",
              "no_wrap",
              "tile_size",
              "tms",
              "zoom_offset"
            ],
            "pane": "",
            "popup": null,
            "popup_max_height": null,
            "popup_max_width": 300,
            "popup_min_width": 50,
            "show_loading": false,
            "tile_size": 256,
            "tms": false,
            "url": "https://mt1.google.com/vt/lyrs=m&x={x}&y={y}&z={z}",
            "visible": true,
            "zoom_offset": 0
          }
        },
        "32cc47d7d75f4c5a9c7eb2cfbde59403": {
          "model_module": "jupyter-leaflet",
          "model_name": "LeafletTileLayerModel",
          "model_module_version": "^0.17",
          "state": {
            "_model_module": "jupyter-leaflet",
            "_model_module_version": "^0.17",
            "_model_name": "LeafletTileLayerModel",
            "_view_count": null,
            "_view_module": "jupyter-leaflet",
            "_view_module_version": "^0.17",
            "_view_name": "LeafletTileLayerView",
            "attribution": "Google Earth Engine",
            "base": false,
            "bottom": true,
            "bounds": null,
            "detect_retina": false,
            "loading": false,
            "max_native_zoom": null,
            "max_zoom": 24,
            "min_native_zoom": null,
            "min_zoom": 0,
            "name": "image",
            "no_wrap": false,
            "opacity": 1,
            "options": [
              "attribution",
              "bounds",
              "detect_retina",
              "max_native_zoom",
              "max_zoom",
              "min_native_zoom",
              "min_zoom",
              "no_wrap",
              "tile_size",
              "tms",
              "zoom_offset"
            ],
            "pane": "",
            "popup": null,
            "popup_max_height": null,
            "popup_max_width": 300,
            "popup_min_width": 50,
            "show_loading": false,
            "tile_size": 256,
            "tms": false,
            "url": "https://earthengine.googleapis.com/v1alpha/projects/earthengine-legacy/maps/de8843c103ac6bc998c423ae0f565a13-6e00ab422a78b1e8d89d4ea6d88421b2/tiles/{z}/{x}/{y}",
            "visible": true,
            "zoom_offset": 0
          }
        },
        "26815648950d4a408eb477d6b3237634": {
          "model_module": "jupyter-leaflet",
          "model_name": "LeafletTileLayerModel",
          "model_module_version": "^0.17",
          "state": {
            "_model_module": "jupyter-leaflet",
            "_model_module_version": "^0.17",
            "_model_name": "LeafletTileLayerModel",
            "_view_count": null,
            "_view_module": "jupyter-leaflet",
            "_view_module_version": "^0.17",
            "_view_name": "LeafletTileLayerView",
            "attribution": "Google Earth Engine",
            "base": false,
            "bottom": true,
            "bounds": null,
            "detect_retina": false,
            "loading": false,
            "max_native_zoom": null,
            "max_zoom": 24,
            "min_native_zoom": null,
            "min_zoom": 0,
            "name": "classification",
            "no_wrap": false,
            "opacity": 1,
            "options": [
              "attribution",
              "bounds",
              "detect_retina",
              "max_native_zoom",
              "max_zoom",
              "min_native_zoom",
              "min_zoom",
              "no_wrap",
              "tile_size",
              "tms",
              "zoom_offset"
            ],
            "pane": "",
            "popup": null,
            "popup_max_height": null,
            "popup_max_width": 300,
            "popup_min_width": 50,
            "show_loading": false,
            "tile_size": 256,
            "tms": false,
            "url": "https://earthengine.googleapis.com/v1alpha/projects/earthengine-legacy/maps/cd12557aed434f0ceb708b218a719df7-0b01e4943eeee1e66885c1b4e31285e5/tiles/{z}/{x}/{y}",
            "visible": true,
            "zoom_offset": 0
          }
        },
        "6b17c8a199de4e35970cf5f8efa5b716": {
          "model_module": "@jupyter-widgets/base",
          "model_name": "LayoutModel",
          "model_module_version": "1.2.0",
          "state": {
            "_model_module": "@jupyter-widgets/base",
            "_model_module_version": "1.2.0",
            "_model_name": "LayoutModel",
            "_view_count": null,
            "_view_module": "@jupyter-widgets/base",
            "_view_module_version": "1.2.0",
            "_view_name": "LayoutView",
            "align_content": null,
            "align_items": null,
            "align_self": null,
            "border": null,
            "bottom": null,
            "display": null,
            "flex": null,
            "flex_flow": null,
            "grid_area": null,
            "grid_auto_columns": null,
            "grid_auto_flow": null,
            "grid_auto_rows": null,
            "grid_column": null,
            "grid_gap": null,
            "grid_row": null,
            "grid_template_areas": null,
            "grid_template_columns": null,
            "grid_template_rows": null,
            "height": "600px",
            "justify_content": null,
            "justify_items": null,
            "left": null,
            "margin": null,
            "max_height": null,
            "max_width": null,
            "min_height": null,
            "min_width": null,
            "object_fit": null,
            "object_position": null,
            "order": null,
            "overflow": null,
            "overflow_x": null,
            "overflow_y": null,
            "padding": null,
            "right": null,
            "top": null,
            "visibility": null,
            "width": null
          }
        },
        "3b5e29e616aa49359802e024713afd61": {
          "model_module": "jupyter-leaflet",
          "model_name": "LeafletMapStyleModel",
          "model_module_version": "^0.17",
          "state": {
            "_model_module": "jupyter-leaflet",
            "_model_module_version": "^0.17",
            "_model_name": "LeafletMapStyleModel",
            "_view_count": null,
            "_view_module": "@jupyter-widgets/base",
            "_view_module_version": "1.2.0",
            "_view_name": "StyleView",
            "cursor": "grab"
          }
        },
        "92a19518828647168faa011e3519dd80": {
          "model_module": "@jupyter-widgets/controls",
          "model_name": "HBoxModel",
          "model_module_version": "1.5.0",
          "state": {
            "_dom_classes": [],
            "_model_module": "@jupyter-widgets/controls",
            "_model_module_version": "1.5.0",
            "_model_name": "HBoxModel",
            "_view_count": null,
            "_view_module": "@jupyter-widgets/controls",
            "_view_module_version": "1.5.0",
            "_view_name": "HBoxView",
            "box_style": "",
            "children": [
              "IPY_MODEL_f6d7afb939e64ba681bbace61865de38"
            ],
            "layout": "IPY_MODEL_06a2e468c0f04eed9ed5226d80d56822"
          }
        },
        "5d1e268dca8a4fea9885357c66ccdf5e": {
          "model_module": "@jupyter-widgets/controls",
          "model_name": "VBoxModel",
          "model_module_version": "1.5.0",
          "state": {
            "_dom_classes": [],
            "_model_module": "@jupyter-widgets/controls",
            "_model_module_version": "1.5.0",
            "_model_name": "VBoxModel",
            "_view_count": null,
            "_view_module": "@jupyter-widgets/controls",
            "_view_module_version": "1.5.0",
            "_view_name": "VBoxView",
            "box_style": "",
            "children": [
              "IPY_MODEL_a65ed08dd1ca478aa0d376076fd5ded6"
            ],
            "layout": "IPY_MODEL_d31d2fd82dde4f888036e9c7507841b8"
          }
        },
        "f6d7afb939e64ba681bbace61865de38": {
          "model_module": "@jupyter-widgets/controls",
          "model_name": "ToggleButtonModel",
          "model_module_version": "1.5.0",
          "state": {
            "_dom_classes": [],
            "_model_module": "@jupyter-widgets/controls",
            "_model_module_version": "1.5.0",
            "_model_name": "ToggleButtonModel",
            "_view_count": null,
            "_view_module": "@jupyter-widgets/controls",
            "_view_module_version": "1.5.0",
            "_view_name": "ToggleButtonView",
            "button_style": "",
            "description": "",
            "description_tooltip": null,
            "disabled": false,
            "icon": "globe",
            "layout": "IPY_MODEL_1e5e7141f8424fd1af12d0477786d86d",
            "style": "IPY_MODEL_61885e83d79a42cbbeb425b2394f35c4",
            "tooltip": "Search location/data",
            "value": false
          }
        },
        "06a2e468c0f04eed9ed5226d80d56822": {
          "model_module": "@jupyter-widgets/base",
          "model_name": "LayoutModel",
          "model_module_version": "1.2.0",
          "state": {
            "_model_module": "@jupyter-widgets/base",
            "_model_module_version": "1.2.0",
            "_model_name": "LayoutModel",
            "_view_count": null,
            "_view_module": "@jupyter-widgets/base",
            "_view_module_version": "1.2.0",
            "_view_name": "LayoutView",
            "align_content": null,
            "align_items": null,
            "align_self": null,
            "border": null,
            "bottom": null,
            "display": null,
            "flex": null,
            "flex_flow": null,
            "grid_area": null,
            "grid_auto_columns": null,
            "grid_auto_flow": null,
            "grid_auto_rows": null,
            "grid_column": null,
            "grid_gap": null,
            "grid_row": null,
            "grid_template_areas": null,
            "grid_template_columns": null,
            "grid_template_rows": null,
            "height": null,
            "justify_content": null,
            "justify_items": null,
            "left": null,
            "margin": null,
            "max_height": null,
            "max_width": null,
            "min_height": null,
            "min_width": null,
            "object_fit": null,
            "object_position": null,
            "order": null,
            "overflow": null,
            "overflow_x": null,
            "overflow_y": null,
            "padding": null,
            "right": null,
            "top": null,
            "visibility": null,
            "width": null
          }
        },
        "a65ed08dd1ca478aa0d376076fd5ded6": {
          "model_module": "@jupyter-widgets/controls",
          "model_name": "ToggleButtonModel",
          "model_module_version": "1.5.0",
          "state": {
            "_dom_classes": [],
            "_model_module": "@jupyter-widgets/controls",
            "_model_module_version": "1.5.0",
            "_model_name": "ToggleButtonModel",
            "_view_count": null,
            "_view_module": "@jupyter-widgets/controls",
            "_view_module_version": "1.5.0",
            "_view_name": "ToggleButtonView",
            "button_style": "",
            "description": "",
            "description_tooltip": null,
            "disabled": false,
            "icon": "wrench",
            "layout": "IPY_MODEL_f28c876c4ca0498faa823f22e0e8ca44",
            "style": "IPY_MODEL_26364fb42e3e40b8950bd2f7f009be52",
            "tooltip": "Toolbar",
            "value": false
          }
        },
        "d31d2fd82dde4f888036e9c7507841b8": {
          "model_module": "@jupyter-widgets/base",
          "model_name": "LayoutModel",
          "model_module_version": "1.2.0",
          "state": {
            "_model_module": "@jupyter-widgets/base",
            "_model_module_version": "1.2.0",
            "_model_name": "LayoutModel",
            "_view_count": null,
            "_view_module": "@jupyter-widgets/base",
            "_view_module_version": "1.2.0",
            "_view_name": "LayoutView",
            "align_content": null,
            "align_items": null,
            "align_self": null,
            "border": null,
            "bottom": null,
            "display": null,
            "flex": null,
            "flex_flow": null,
            "grid_area": null,
            "grid_auto_columns": null,
            "grid_auto_flow": null,
            "grid_auto_rows": null,
            "grid_column": null,
            "grid_gap": null,
            "grid_row": null,
            "grid_template_areas": null,
            "grid_template_columns": null,
            "grid_template_rows": null,
            "height": null,
            "justify_content": null,
            "justify_items": null,
            "left": null,
            "margin": null,
            "max_height": null,
            "max_width": null,
            "min_height": null,
            "min_width": null,
            "object_fit": null,
            "object_position": null,
            "order": null,
            "overflow": null,
            "overflow_x": null,
            "overflow_y": null,
            "padding": null,
            "right": null,
            "top": null,
            "visibility": null,
            "width": null
          }
        },
        "1e5e7141f8424fd1af12d0477786d86d": {
          "model_module": "@jupyter-widgets/base",
          "model_name": "LayoutModel",
          "model_module_version": "1.2.0",
          "state": {
            "_model_module": "@jupyter-widgets/base",
            "_model_module_version": "1.2.0",
            "_model_name": "LayoutModel",
            "_view_count": null,
            "_view_module": "@jupyter-widgets/base",
            "_view_module_version": "1.2.0",
            "_view_name": "LayoutView",
            "align_content": null,
            "align_items": null,
            "align_self": null,
            "border": null,
            "bottom": null,
            "display": null,
            "flex": null,
            "flex_flow": null,
            "grid_area": null,
            "grid_auto_columns": null,
            "grid_auto_flow": null,
            "grid_auto_rows": null,
            "grid_column": null,
            "grid_gap": null,
            "grid_row": null,
            "grid_template_areas": null,
            "grid_template_columns": null,
            "grid_template_rows": null,
            "height": "28px",
            "justify_content": null,
            "justify_items": null,
            "left": null,
            "margin": null,
            "max_height": null,
            "max_width": null,
            "min_height": null,
            "min_width": null,
            "object_fit": null,
            "object_position": null,
            "order": null,
            "overflow": null,
            "overflow_x": null,
            "overflow_y": null,
            "padding": "0px 0px 0px 4px",
            "right": null,
            "top": null,
            "visibility": null,
            "width": "28px"
          }
        },
        "61885e83d79a42cbbeb425b2394f35c4": {
          "model_module": "@jupyter-widgets/controls",
          "model_name": "DescriptionStyleModel",
          "model_module_version": "1.5.0",
          "state": {
            "_model_module": "@jupyter-widgets/controls",
            "_model_module_version": "1.5.0",
            "_model_name": "DescriptionStyleModel",
            "_view_count": null,
            "_view_module": "@jupyter-widgets/base",
            "_view_module_version": "1.2.0",
            "_view_name": "StyleView",
            "description_width": ""
          }
        },
        "f28c876c4ca0498faa823f22e0e8ca44": {
          "model_module": "@jupyter-widgets/base",
          "model_name": "LayoutModel",
          "model_module_version": "1.2.0",
          "state": {
            "_model_module": "@jupyter-widgets/base",
            "_model_module_version": "1.2.0",
            "_model_name": "LayoutModel",
            "_view_count": null,
            "_view_module": "@jupyter-widgets/base",
            "_view_module_version": "1.2.0",
            "_view_name": "LayoutView",
            "align_content": null,
            "align_items": null,
            "align_self": null,
            "border": null,
            "bottom": null,
            "display": null,
            "flex": null,
            "flex_flow": null,
            "grid_area": null,
            "grid_auto_columns": null,
            "grid_auto_flow": null,
            "grid_auto_rows": null,
            "grid_column": null,
            "grid_gap": null,
            "grid_row": null,
            "grid_template_areas": null,
            "grid_template_columns": null,
            "grid_template_rows": null,
            "height": "28px",
            "justify_content": null,
            "justify_items": null,
            "left": null,
            "margin": null,
            "max_height": null,
            "max_width": null,
            "min_height": null,
            "min_width": null,
            "object_fit": null,
            "object_position": null,
            "order": null,
            "overflow": null,
            "overflow_x": null,
            "overflow_y": null,
            "padding": "0px 0px 0px 4px",
            "right": null,
            "top": null,
            "visibility": null,
            "width": "28px"
          }
        },
        "26364fb42e3e40b8950bd2f7f009be52": {
          "model_module": "@jupyter-widgets/controls",
          "model_name": "DescriptionStyleModel",
          "model_module_version": "1.5.0",
          "state": {
            "_model_module": "@jupyter-widgets/controls",
            "_model_module_version": "1.5.0",
            "_model_name": "DescriptionStyleModel",
            "_view_count": null,
            "_view_module": "@jupyter-widgets/base",
            "_view_module_version": "1.2.0",
            "_view_name": "StyleView",
            "description_width": ""
          }
        }
      }
    }
  },
  "cells": [
    {
      "cell_type": "code",
      "execution_count": null,
      "metadata": {
        "colab": {
          "base_uri": "https://localhost:8080/"
        },
        "id": "w4caXF9sAcKv",
        "outputId": "b59a34f6-e7dc-4768-f3c7-90a21f26ef33"
      },
      "outputs": [
        {
          "output_type": "stream",
          "name": "stdout",
          "text": [
            "Mounted at /content/drive\n"
          ]
        }
      ],
      "source": [
        "import os\n",
        "import glob\n",
        "import sklearn\n",
        "import pandas as pd\n",
        "import numpy as np\n",
        "import gdal\n",
        "from google.colab import drive\n",
        "from sklearn.model_selection import train_test_split\n",
        "from sklearn import metrics \n",
        "drive.mount(\"/content/drive\")\n",
        "import matplotlib.pyplot as plt"
      ]
    },
    {
      "cell_type": "code",
      "source": [
        "#read samples\n",
        "train_file_noncrop = pd.read_csv('/content/drive/MyDrive/Copy of samples_intensity_MZ_noncropland_nw.csv',index_col=False)\n",
        "train_file_noncrop=train_file_noncrop.sample(n=1000)\n",
        "\n",
        "train_file_noncrop_water = pd.read_csv(\"/content/drive/MyDrive/Copy of samples_intensity_MZ_noncropland_w.csv\",index_col=False)\n",
        "train_file_noncrop_water =train_file_noncrop_water.sample(n=100) #10% of noncropland\n",
        "train_file_noncropland = pd.concat([train_file_noncrop_water,train_file_noncrop])\n",
        "\n",
        "train_file_crop= pd.read_csv(\"/content/drive/MyDrive/Copy of samples_intensity_MZ_cropland.csv\", index_col=False)\n",
        "\n",
        "\n",
        "df_SR= pd.concat([train_file_noncropland,train_file_crop])\n",
        "df_SR= df_SR.drop([\"system:index\",\".geo\",\"landclass\"], axis = 1);\n",
        "\n",
        "df_SR= df_SR.fillna(0)\n"
      ],
      "metadata": {
        "id": "ag6Udma6Amoi"
      },
      "execution_count": null,
      "outputs": []
    },
    {
      "cell_type": "code",
      "source": [
        "from sklearn import preprocessing\n",
        "def normalize(df):\n",
        "  scaler = preprocessing.MinMaxScaler(feature_range=(-1, 1))\n",
        "  names = df.columns\n",
        "  d = scaler.fit_transform(df)\n",
        "  scaled_df = pd.DataFrame(d, columns=names)\n",
        "  return scaled_df"
      ],
      "metadata": {
        "id": "xXlmobOoojyj"
      },
      "execution_count": null,
      "outputs": []
    },
    {
      "cell_type": "code",
      "source": [
        "\n",
        "\n",
        "from scipy.signal import savgol_filter\n",
        "def ndvi_reconstruct(df):\n",
        "  for i in range(len(df)):\n",
        "    for j in range(len(df.columns)-1):\n",
        "       if df.iat[i,j] == 0 or  abs(df.iat[i,j-1] - df.iat[i,j]) > 4000 :\n",
        "              df.iat[i,j] = ((df.iloc[i][1]+df.iloc[i][len(df.columns)-1])/2.0)\n",
        "       if j == len(df.columns)-1:\n",
        "                df.iat[i,j] = ((df.iloc[i][j-1]+df.iloc[i][0])/2.0)\n",
        "       if j != 0 and j != len(df.columns) - 1:\n",
        "                df.iat[i,j] = ((df.iloc[i][j-1]+df.iloc[i][j+1])/2.0)\n",
        "  return df"
      ],
      "metadata": {
        "id": "2QsvHJzBArBq"
      },
      "execution_count": null,
      "outputs": []
    },
    {
      "cell_type": "code",
      "source": [
        "df_SR = ndvi_reconstruct(df_SR)"
      ],
      "metadata": {
        "id": "Ucbbo2_UA-Rt"
      },
      "execution_count": null,
      "outputs": []
    },
    {
      "cell_type": "code",
      "source": [
        "from scipy.signal import savgol_filter\n",
        "smoothed_NDVI = savgol_filter(df_SR, window_length = 3, polyorder = 2)\n",
        "series1 = smoothed_NDVI.astype(float)\n",
        "\n",
        "def find_cycles(Y):   \n",
        "  row=Y\n",
        "  l=0\n",
        "  max=row[0]\n",
        "  for l in range(24):\n",
        "    if(row[l]>max):\n",
        "      max=row[l]\n",
        "    l=l+1\n",
        "  if(max<3000):\n",
        "    return 0\n",
        "\n",
        "  max_val=0.7*max\n",
        "  min_val=0.2*max\n",
        "  maxima = []\n",
        "  i =0\n",
        "  while i<row.size:\n",
        "    if(i==0):\n",
        "      if(row[i]>=max_val):\n",
        "        j=i+1;\n",
        "        while(j!=24): #right traversal\n",
        "          \n",
        "          if(row[j]<=min_val):\n",
        "            maxima.append(i)\n",
        "            i=i+1\n",
        "            break\n",
        "          elif(row[j]>=max_val):\n",
        "            i=j\n",
        "            break\n",
        "          elif(j==23):\n",
        "            j=j+1\n",
        "            i=i+1\n",
        "          else:\n",
        "            j=j+1\n",
        "      else:\n",
        "          i=i+1\n",
        "\n",
        "    elif(i==23):\n",
        "      if(row[i]>=max_val):\n",
        "        j=i-1;\n",
        "        while(j!=-1): #left traversal \n",
        "          if(row[j]<=min_val):\n",
        "            maxima.append(i)\n",
        "            i=i+1\n",
        "            break\n",
        "          elif(row[j]>=max_val):\n",
        "            i=i+1\n",
        "            break\n",
        "          elif(j==0):\n",
        "            j=j-1\n",
        "            i=i+1\n",
        "          else:\n",
        "            j=j-1;\n",
        "      else:\n",
        "        i=i+1\n",
        "\n",
        "    elif(i!=24):\n",
        "      check=False\n",
        "      # proceed=False\n",
        "      if(row[i]>=max_val):\n",
        "        j=i+1\n",
        "        k=i-1\n",
        "        while(j!=24): #right traversal\n",
        "          if(row[j]<=min_val):\n",
        "            # maxima.append(i)\n",
        "            check=True\n",
        "            break\n",
        "          elif(row[j]>=max_val):\n",
        "            # proceed=True\n",
        "            i=j\n",
        "            k=i-1\n",
        "            j=j+1\n",
        "            # break\n",
        "          else:\n",
        "            j=j+1;\n",
        "        while(k!=-1): #left traversal\n",
        "          if(row[k]<=min_val):\n",
        "            # maxima.append(i)\n",
        "            if(check==True):\n",
        "              maxima.append(i)\n",
        "              i=i+1\n",
        "              break\n",
        "            else:\n",
        "              i=i+1\n",
        "              break\n",
        "          elif(row[k]>=max_val):\n",
        "            if(k==0):\n",
        "              i=i+1\n",
        "            k=k-1\n",
        "            # i=i+1\n",
        "            # break\n",
        "          elif k==0:\n",
        "            i=i+1\n",
        "            k=k-1\n",
        "          else:\n",
        "            k=k-1;\n",
        "      else:\n",
        "        i=i+1\n",
        "    else:\n",
        "      i=i+1\n",
        "  return len(maxima)"
      ],
      "metadata": {
        "id": "UGwa53N4BWNC"
      },
      "execution_count": null,
      "outputs": []
    },
    {
      "cell_type": "code",
      "source": [
        "df_filter = pd.DataFrame(series1, columns = ['0','1','2','3','4','5','6','7','8','9','10','11','12','13','14','15','16','17','18','19','20','21','22','23'])"
      ],
      "metadata": {
        "id": "7JrltDSdDVZS"
      },
      "execution_count": null,
      "outputs": []
    },
    {
      "cell_type": "code",
      "source": [
        "df_filter.insert(24,\"cycles\",\" \")"
      ],
      "metadata": {
        "id": "Fg5i0mRSBswI"
      },
      "execution_count": null,
      "outputs": []
    },
    {
      "cell_type": "code",
      "source": [
        "for i in range(len(df_filter)):\n",
        "  \n",
        "  df_filter.cycles.iloc[i] = find_cycles(df_filter.iloc[i])"
      ],
      "metadata": {
        "id": "nAYF5BVNDyXD",
        "colab": {
          "base_uri": "https://localhost:8080/"
        },
        "outputId": "4a80fa64-ddf0-4ea6-ea4c-291a4a1e0cc5"
      },
      "execution_count": null,
      "outputs": [
        {
          "output_type": "stream",
          "name": "stderr",
          "text": [
            "/usr/local/lib/python3.7/dist-packages/pandas/core/indexing.py:1732: SettingWithCopyWarning: \n",
            "A value is trying to be set on a copy of a slice from a DataFrame\n",
            "\n",
            "See the caveats in the documentation: https://pandas.pydata.org/pandas-docs/stable/user_guide/indexing.html#returning-a-view-versus-a-copy\n",
            "  self._setitem_single_block(indexer, value, name)\n"
          ]
        }
      ]
    },
    {
      "cell_type": "code",
      "source": [
        "\n",
        "class_0 = df_filter[df_filter['cycles']==0]\n",
        "print(len(class_0.index))\n",
        "class_1 = df_filter[df_filter['cycles']==1]\n",
        "print(len(class_1.index))\n",
        "class_2 = df_filter[df_filter['cycles']==2]\n",
        "print(len(class_2.index))\n",
        "class_3 = df_filter[df_filter['cycles']==3]\n",
        "print(len(class_3.index))\n"
      ],
      "metadata": {
        "colab": {
          "base_uri": "https://localhost:8080/"
        },
        "id": "-f3zAQL4CA9p",
        "outputId": "0db2f891-db86-42cb-eec5-a1e8fcaffcf2"
      },
      "execution_count": null,
      "outputs": [
        {
          "output_type": "stream",
          "name": "stdout",
          "text": [
            "26992\n",
            "814\n",
            "20\n",
            "0\n",
            "0\n"
          ]
        }
      ]
    },
    {
      "cell_type": "code",
      "source": [
        "class_0_plot = class_0.drop(['cycles'], axis=1)\n",
        "plt.plot(class_0_plot.iloc[32])\n",
        "plt.plot()\n",
        "print(class_0_plot.iloc[32])"
      ],
      "metadata": {
        "colab": {
          "base_uri": "https://localhost:8080/",
          "height": 699
        },
        "id": "hPRfiXKaCf8A",
        "outputId": "ff63deee-9239-4e3b-e152-f381ad05ab75"
      },
      "execution_count": null,
      "outputs": [
        {
          "output_type": "stream",
          "name": "stdout",
          "text": [
            "0     2058.000000\n",
            "1     2661.500000\n",
            "2     2610.250000\n",
            "3     1813.625000\n",
            "4     2295.812500\n",
            "5     1147.906250\n",
            "6     4143.953125\n",
            "7     5593.476563\n",
            "8     4199.738281\n",
            "9     4666.369141\n",
            "10    6304.684570\n",
            "11    6903.342285\n",
            "12    6914.671143\n",
            "13    6696.335571\n",
            "14    6809.167786\n",
            "15    6861.583893\n",
            "16    6173.791946\n",
            "17    4246.895973\n",
            "18    4521.947987\n",
            "19    3195.473993\n",
            "20    2567.736997\n",
            "21    2070.368498\n",
            "22    2092.684249\n",
            "23    2115.000000\n",
            "Name: 104, dtype: float64\n"
          ]
        },
        {
          "output_type": "display_data",
          "data": {
            "text/plain": [
              "<Figure size 432x288 with 1 Axes>"
            ],
            "image/png": "[encoded data removed]"
          },
          "metadata": {
            "needs_background": "light"
          }
        }
      ]
    },
    {
      "cell_type": "code",
      "source": [
        "class_0=class_0.sample(n=70)\n",
        "class_1=class_1.sample(n=70)\n",
        "class_2=class_2.sample(n=17)\n",
        "class_3=class_3.sample(n=0) "
      ],
      "metadata": {
        "id": "34wJJJQie9fH"
      },
      "execution_count": null,
      "outputs": []
    },
    {
      "cell_type": "code",
      "source": [
        "dataset = pd.concat([class_0,class_1,class_2,class_3])"
      ],
      "metadata": {
        "id": "DEcfG4fHgM19"
      },
      "execution_count": null,
      "outputs": []
    },
    {
      "cell_type": "code",
      "source": [
        "x=dataset.drop([\"cycles\"], axis = 1);\n",
        "y=dataset[\"cycles\"]"
      ],
      "metadata": {
        "id": "i4gNWQv4gQg8"
      },
      "execution_count": null,
      "outputs": []
    },
    {
      "cell_type": "code",
      "source": [
        "x_train=[]\n",
        "y_train=[]\n",
        "x_test=[]\n",
        "y_test=[]\n",
        "x_train, x_test, y_train, y_test = train_test_split(x, y, test_size=0.33, shuffle=True )\n",
        "x_train=x_train.astype('int')\n",
        "y_train=y_train.astype('int')\n",
        "x_test=x_test.astype('int')\n",
        "y_test=y_test.astype('int')"
      ],
      "metadata": {
        "id": "yt1Iu6bHgTIu"
      },
      "execution_count": null,
      "outputs": []
    },
    {
      "cell_type": "code",
      "source": [
        "from sklearn.ensemble import RandomForestClassifier"
      ],
      "metadata": {
        "id": "S8FThw-2gWJr"
      },
      "execution_count": null,
      "outputs": []
    },
    {
      "cell_type": "code",
      "source": [
        "rf_clf = RandomForestClassifier(oob_score=True, criterion='entropy',verbose=3)   \n",
        "rf_clf.fit(x_train,y_train)"
      ],
      "metadata": {
        "colab": {
          "base_uri": "https://localhost:8080/"
        },
        "id": "ouoF6Do-gZMP",
        "outputId": "17f2055d-50af-43cf-d4d6-7b91e0b3d753"
      },
      "execution_count": null,
      "outputs": [
        {
          "output_type": "stream",
          "name": "stderr",
          "text": [
            "[Parallel(n_jobs=1)]: Using backend SequentialBackend with 1 concurrent workers.\n",
            "[Parallel(n_jobs=1)]: Done   1 out of   1 | elapsed:    0.0s remaining:    0.0s\n",
            "[Parallel(n_jobs=1)]: Done   2 out of   2 | elapsed:    0.0s remaining:    0.0s\n",
            "[Parallel(n_jobs=1)]: Done 100 out of 100 | elapsed:    0.2s finished\n"
          ]
        },
        {
          "output_type": "stream",
          "name": "stdout",
          "text": [
            "building tree 1 of 100\n",
            "building tree 2 of 100\n",
            "building tree 3 of 100\n",
            "building tree 4 of 100\n",
            "building tree 5 of 100\n",
            "building tree 6 of 100\n",
            "building tree 7 of 100\n",
            "building tree 8 of 100\n",
            "building tree 9 of 100\n",
            "building tree 10 of 100\n",
            "building tree 11 of 100\n",
            "building tree 12 of 100\n",
            "building tree 13 of 100\n",
            "building tree 14 of 100\n",
            "building tree 15 of 100\n",
            "building tree 16 of 100\n",
            "building tree 17 of 100\n",
            "building tree 18 of 100\n",
            "building tree 19 of 100\n",
            "building tree 20 of 100\n",
            "building tree 21 of 100\n",
            "building tree 22 of 100\n",
            "building tree 23 of 100\n",
            "building tree 24 of 100\n",
            "building tree 25 of 100\n",
            "building tree 26 of 100\n",
            "building tree 27 of 100\n",
            "building tree 28 of 100\n",
            "building tree 29 of 100\n",
            "building tree 30 of 100\n",
            "building tree 31 of 100\n",
            "building tree 32 of 100\n",
            "building tree 33 of 100\n",
            "building tree 34 of 100\n",
            "building tree 35 of 100\n",
            "building tree 36 of 100\n",
            "building tree 37 of 100\n",
            "building tree 38 of 100\n",
            "building tree 39 of 100\n",
            "building tree 40 of 100\n",
            "building tree 41 of 100\n",
            "building tree 42 of 100\n",
            "building tree 43 of 100\n",
            "building tree 44 of 100\n",
            "building tree 45 of 100\n",
            "building tree 46 of 100\n",
            "building tree 47 of 100\n",
            "building tree 48 of 100\n",
            "building tree 49 of 100\n",
            "building tree 50 of 100\n",
            "building tree 51 of 100\n",
            "building tree 52 of 100\n",
            "building tree 53 of 100\n",
            "building tree 54 of 100\n",
            "building tree 55 of 100\n",
            "building tree 56 of 100\n",
            "building tree 57 of 100\n",
            "building tree 58 of 100\n",
            "building tree 59 of 100\n",
            "building tree 60 of 100\n",
            "building tree 61 of 100\n",
            "building tree 62 of 100\n",
            "building tree 63 of 100\n",
            "building tree 64 of 100\n",
            "building tree 65 of 100\n",
            "building tree 66 of 100\n",
            "building tree 67 of 100\n",
            "building tree 68 of 100\n",
            "building tree 69 of 100\n",
            "building tree 70 of 100\n",
            "building tree 71 of 100\n",
            "building tree 72 of 100\n",
            "building tree 73 of 100\n",
            "building tree 74 of 100\n",
            "building tree 75 of 100\n",
            "building tree 76 of 100\n",
            "building tree 77 of 100\n",
            "building tree 78 of 100\n",
            "building tree 79 of 100\n",
            "building tree 80 of 100\n",
            "building tree 81 of 100\n",
            "building tree 82 of 100\n",
            "building tree 83 of 100\n",
            "building tree 84 of 100\n",
            "building tree 85 of 100\n",
            "building tree 86 of 100\n",
            "building tree 87 of 100\n",
            "building tree 88 of 100\n",
            "building tree 89 of 100\n",
            "building tree 90 of 100\n",
            "building tree 91 of 100\n",
            "building tree 92 of 100\n",
            "building tree 93 of 100\n",
            "building tree 94 of 100\n",
            "building tree 95 of 100\n",
            "building tree 96 of 100\n",
            "building tree 97 of 100\n",
            "building tree 98 of 100\n",
            "building tree 99 of 100\n",
            "building tree 100 of 100\n"
          ]
        },
        {
          "output_type": "execute_result",
          "data": {
            "text/plain": [
              "RandomForestClassifier(criterion='entropy', oob_score=True, verbose=3)"
            ]
          },
          "metadata": {},
          "execution_count": 19
        }
      ]
    },
    {
      "cell_type": "code",
      "source": [
        "from sklearn.metrics import classification_report, confusion_matrix, accuracy_score, f1_score, precision_score\n",
        "y_pred = rf_clf.predict(x_test)\n",
        "print(confusion_matrix(y_test,y_pred))\n",
        "print(classification_report(y_test,y_pred))\n",
        "print(accuracy_score(y_test, y_pred))\n",
        "print(\"Weighted f1_score= \",f1_score(y_test, y_pred,average='weighted'))\n",
        "print(\"Weighted precision = \",precision_score(y_test, y_pred, average='weighted'))"
      ],
      "metadata": {
        "colab": {
          "base_uri": "https://localhost:8080/"
        },
        "id": "kByC0M5_gb0g",
        "outputId": "4571df7b-c972-469b-c8e5-baa078ace244"
      },
      "execution_count": null,
      "outputs": [
        {
          "output_type": "stream",
          "name": "stdout",
          "text": [
            "[[18  3  0]\n",
            " [ 2 20  1]\n",
            " [ 0  0  8]]\n",
            "              precision    recall  f1-score   support\n",
            "\n",
            "           0       0.90      0.86      0.88        21\n",
            "           1       0.87      0.87      0.87        23\n",
            "           2       0.89      1.00      0.94         8\n",
            "\n",
            "    accuracy                           0.88        52\n",
            "   macro avg       0.89      0.91      0.90        52\n",
            "weighted avg       0.88      0.88      0.88        52\n",
            "\n",
            "0.8846153846153846\n",
            "Weighted f1_score=  0.8840083875951882\n",
            "Weighted precision =  0.88482905982906\n"
          ]
        },
        {
          "output_type": "stream",
          "name": "stderr",
          "text": [
            "[Parallel(n_jobs=1)]: Using backend SequentialBackend with 1 concurrent workers.\n",
            "[Parallel(n_jobs=1)]: Done   1 out of   1 | elapsed:    0.0s remaining:    0.0s\n",
            "[Parallel(n_jobs=1)]: Done   2 out of   2 | elapsed:    0.0s remaining:    0.0s\n",
            "[Parallel(n_jobs=1)]: Done 100 out of 100 | elapsed:    0.0s finished\n"
          ]
        }
      ]
    },
    {
      "cell_type": "code",
      "source": [
        "import xgboost as xgb\n",
        "xgb_cl = xgb.XGBClassifier(objective='multi:softmax', early_stopping_rounds=10)\n",
        "xgb_cl.fit(x_train,y_train,\n",
        "           verbose=True)\n",
        "\n",
        "y_pred = xgb_cl.predict(x_test)\n",
        "print(confusion_matrix(y_test,y_pred))\n",
        "print(classification_report(y_test,y_pred))\n",
        "print(accuracy_score(y_test, y_pred))\n",
        "print(\"Weighted f1_score= \",f1_score(y_test, y_pred,average='weighted'))\n",
        "print(\"Weighted precision = \",precision_score(y_test, y_pred, average='weighted'))"
      ],
      "metadata": {
        "colab": {
          "base_uri": "https://localhost:8080/"
        },
        "id": "CIAMBApbvHn1",
        "outputId": "84963422-0a49-4919-fa94-a30405ef77bb"
      },
      "execution_count": null,
      "outputs": [
        {
          "output_type": "stream",
          "name": "stdout",
          "text": [
            "[[19  2  0]\n",
            " [ 0 23  0]\n",
            " [ 0  1  7]]\n",
            "              precision    recall  f1-score   support\n",
            "\n",
            "           0       1.00      0.90      0.95        21\n",
            "           1       0.88      1.00      0.94        23\n",
            "           2       1.00      0.88      0.93         8\n",
            "\n",
            "    accuracy                           0.94        52\n",
            "   macro avg       0.96      0.93      0.94        52\n",
            "weighted avg       0.95      0.94      0.94        52\n",
            "\n",
            "0.9423076923076923\n",
            "Weighted f1_score=  0.9424712192569336\n",
            "Weighted precision =  0.9489644970414202\n"
          ]
        }
      ]
    },
    {
      "cell_type": "code",
      "source": [
        "!pip install dtw\n",
        "import dtw\n",
        "from sklearn.neighbors import KNeighborsClassifier\n",
        "from sklearn.model_selection import GridSearchCV\n",
        "from scipy.spatial import distance\n",
        "def DTW(a, b):   \n",
        "    an = a.size\n",
        "    bn = b.size\n",
        "    pointwise_distance = distance.cdist(a.reshape(-1,1),b.reshape(-1,1))\n",
        "    cumdist = np.matrix(np.ones((an+1,bn+1)) * np.inf)\n",
        "    cumdist[0,0] = 0\n",
        "\n",
        "    for ai in range(an):\n",
        "        for bi in range(bn):\n",
        "            minimum_cost = np.min([cumdist[ai, bi+1],\n",
        "                                   cumdist[ai+1, bi],\n",
        "                                   cumdist[ai, bi]])\n",
        "            cumdist[ai+1, bi+1] = pointwise_distance[ai,bi] + minimum_cost\n",
        "\n",
        "    return cumdist[an, bn]\n",
        "\n",
        "#train\n",
        "parameters = {'n_neighbors':[1]}\n",
        "clf = GridSearchCV(KNeighborsClassifier(metric=DTW), parameters, cv=3, verbose=1)\n",
        "clf.fit(x_train, y_train)\n",
        "\n",
        "\n",
        "\n",
        "#evaluate\n",
        "y_pred = clf.predict(x_test)\n",
        "print(classification_report(y_test, y_pred))"
      ],
      "metadata": {
        "colab": {
          "base_uri": "https://localhost:8080/"
        },
        "id": "4zITWsFuvK2T",
        "outputId": "69851d29-2bc9-4cb2-eb79-c97aa551f19e"
      },
      "execution_count": null,
      "outputs": [
        {
          "output_type": "stream",
          "name": "stdout",
          "text": [
            "Looking in indexes: https://pypi.org/simple, https://us-python.pkg.dev/colab-wheels/public/simple/\n",
            "Requirement already satisfied: dtw in /usr/local/lib/python3.7/dist-packages (1.4.0)\n",
            "Requirement already satisfied: numpy in /usr/local/lib/python3.7/dist-packages (from dtw) (1.21.6)\n",
            "Requirement already satisfied: scipy in /usr/local/lib/python3.7/dist-packages (from dtw) (1.7.3)\n",
            "Fitting 3 folds for each of 1 candidates, totalling 3 fits\n",
            "              precision    recall  f1-score   support\n",
            "\n",
            "           0       0.81      0.62      0.70        21\n",
            "           1       0.70      0.83      0.76        23\n",
            "           2       0.89      1.00      0.94         8\n",
            "\n",
            "    accuracy                           0.77        52\n",
            "   macro avg       0.80      0.82      0.80        52\n",
            "weighted avg       0.78      0.77      0.76        52\n",
            "\n"
          ]
        }
      ]
    },
    {
      "cell_type": "code",
      "source": [
        "x=dataset.drop([\"cycles\"], axis = 1);\n",
        "y=dataset[\"cycles\"]\n",
        "x_train=[]\n",
        "y_train=[]\n",
        "x_test=[]\n",
        "y_test=[]\n",
        "x=normalize(x)\n",
        "x_train, x_test, y_train, y_test = train_test_split(x, y, test_size=0.33, shuffle=True )\n",
        "\n",
        "x_train=np.array(x_train).astype('float')\n",
        "y_train=np.array(y_train).astype('float')\n",
        "x_test=np.array(x_test).astype('float')\n",
        "y_test=np.array(y_test).astype('float')\n",
        "print(x_train.shape)\n",
        "print(y_train.shape)\n",
        "print(x_test.shape)\n",
        "print(y_test.shape)"
      ],
      "metadata": {
        "colab": {
          "base_uri": "https://localhost:8080/"
        },
        "id": "n9-N38AMjtfM",
        "outputId": "b13eefd9-8a94-4b43-e1a5-cf902c6d7a22"
      },
      "execution_count": null,
      "outputs": [
        {
          "output_type": "stream",
          "name": "stdout",
          "text": [
            "(105, 24)\n",
            "(105,)\n",
            "(52, 24)\n",
            "(52,)\n"
          ]
        }
      ]
    },
    {
      "cell_type": "code",
      "source": [
        "xt=x_train\n",
        "yt=y_train\n",
        "xte=x_test\n",
        "yte=y_test"
      ],
      "metadata": {
        "id": "sP_BBzHfyFLU"
      },
      "execution_count": null,
      "outputs": []
    },
    {
      "cell_type": "code",
      "source": [
        "xte=xte.reshape(52,24,1)\n",
        "xt=xt.reshape(105,24,1)"
      ],
      "metadata": {
        "id": "5coGbhJ4yMur"
      },
      "execution_count": null,
      "outputs": []
    },
    {
      "cell_type": "code",
      "source": [
        "from tensorflow.keras.utils import to_categorical\n",
        "yt=to_categorical(yt,num_classes=4)\n",
        "yte=to_categorical(yte,num_classes=4)\n",
        "xt=xt.astype('float32')\n",
        "xte=xte.astype('float32')"
      ],
      "metadata": {
        "id": "hfzGJ8Noya4k"
      },
      "execution_count": null,
      "outputs": []
    },
    {
      "cell_type": "code",
      "source": [
        "from keras.models import Sequential\n",
        "from keras.layers import Dense\n",
        "from keras.layers import LSTM\n",
        "from keras.layers import Dropout\n",
        "# Defining custom metrics to record while running\n",
        "from keras import backend as K\n",
        "\n",
        "def F1_Score(y_true, y_pred): #taken from old keras source code\n",
        "    true_positives = K.sum(K.round(K.clip(y_true * y_pred, 0, 1)))\n",
        "    possible_positives = K.sum(K.round(K.clip(y_true, 0, 1)))\n",
        "    predicted_positives = K.sum(K.round(K.clip(y_pred, 0, 1)))\n",
        "    precision = true_positives / (predicted_positives + K.epsilon())\n",
        "    recall = true_positives / (possible_positives + K.epsilon())\n",
        "    f1_val = 2*(precision*recall)/(precision+recall+K.epsilon())\n",
        "    return f1_val"
      ],
      "metadata": {
        "id": "Pv3mTt-uyklR"
      },
      "execution_count": null,
      "outputs": []
    },
    {
      "cell_type": "code",
      "source": [
        "import os\n",
        "from scipy.io import wavfile\n",
        "import pandas as pd\n",
        "import matplotlib.pyplot as plt\n",
        "import numpy as np\n",
        "from keras.layers import Conv1D, MaxPool1D, Flatten, LSTM,BatchNormalization\n",
        "from keras.layers import Dropout, Dense, TimeDistributed\n",
        "from keras.models import Sequential\n",
        "from tensorflow.keras.utils import to_categorical\n",
        "from sklearn.utils.class_weight import compute_class_weight\n",
        "model = Sequential()\n",
        "model.add(Conv1D(16,3,activation='relu',\n",
        "                 strides=1, padding='same',\n",
        "                 input_shape=(xt.shape[1], xt.shape[2])))\n",
        "model.add(Conv1D(32,3,activation='relu',\n",
        "                 strides=1, padding='same'))\n",
        "model.add(Conv1D(64,3,activation='relu',\n",
        "                 strides=1, padding='same'))\n",
        "model.add(BatchNormalization())\n",
        "model.add(Conv1D(128,3,activation='relu',\n",
        "                 strides=1, padding='same'))\n",
        "model.add(MaxPool1D(1))\n",
        "model.add(Dropout(0.5))\n",
        "model.add(LSTM(128,activation='relu'))\n",
        "model.add(Flatten())\n",
        "model.add(Dense(128, activation='relu'))\n",
        "model.add(Dense(64,  activation='relu'))\n",
        "model.add(Dense(4,  activation='softmax'))\n",
        "model.compile(loss='categorical_crossentropy', \n",
        "              optimizer='adam',\n",
        "              metrics =['acc', F1_Score])"
      ],
      "metadata": {
        "id": "kjoW_j3IynDX"
      },
      "execution_count": null,
      "outputs": []
    },
    {
      "cell_type": "code",
      "source": [
        "history = model.fit(xt,yt,epochs=100, validation_split = 0.2, batch_size=32)"
      ],
      "metadata": {
        "colab": {
          "base_uri": "https://localhost:8080/"
        },
        "id": "dDYTWTlWyrOv",
        "outputId": "8e603b0d-7ac6-48fe-9972-7c686384029f"
      },
      "execution_count": null,
      "outputs": [
        {
          "output_type": "stream",
          "name": "stdout",
          "text": [
            "Epoch 1/100\n",
            "3/3 [==============================] - 31s 292ms/step - loss: 1.2900 - acc: 0.4524 - F1_Score: 0.0317 - val_loss: 1.3627 - val_acc: 0.4286 - val_F1_Score: 0.0000e+00\n",
            "Epoch 2/100\n",
            "3/3 [==============================] - 0s 67ms/step - loss: 0.9211 - acc: 0.5357 - F1_Score: 0.2092 - val_loss: 1.3219 - val_acc: 0.4286 - val_F1_Score: 0.0000e+00\n",
            "Epoch 3/100\n",
            "3/3 [==============================] - 0s 70ms/step - loss: 0.7043 - acc: 0.5714 - F1_Score: 0.5619 - val_loss: 1.2845 - val_acc: 0.4286 - val_F1_Score: 0.0000e+00\n",
            "Epoch 4/100\n",
            "3/3 [==============================] - 0s 68ms/step - loss: 0.6557 - acc: 0.5952 - F1_Score: 0.5809 - val_loss: 1.2830 - val_acc: 0.4286 - val_F1_Score: 0.0000e+00\n",
            "Epoch 5/100\n",
            "3/3 [==============================] - 0s 78ms/step - loss: 0.6361 - acc: 0.7024 - F1_Score: 0.7110 - val_loss: 1.2851 - val_acc: 0.4286 - val_F1_Score: 0.0000e+00\n",
            "Epoch 6/100\n",
            "3/3 [==============================] - 0s 70ms/step - loss: 0.6417 - acc: 0.6310 - F1_Score: 0.6254 - val_loss: 1.2852 - val_acc: 0.4286 - val_F1_Score: 0.0000e+00\n",
            "Epoch 7/100\n",
            "3/3 [==============================] - 0s 69ms/step - loss: 0.6324 - acc: 0.7381 - F1_Score: 0.6893 - val_loss: 1.2826 - val_acc: 0.3810 - val_F1_Score: 0.0000e+00\n",
            "Epoch 8/100\n",
            "3/3 [==============================] - 0s 73ms/step - loss: 0.6623 - acc: 0.6667 - F1_Score: 0.6332 - val_loss: 1.2830 - val_acc: 0.4286 - val_F1_Score: 0.0000e+00\n",
            "Epoch 9/100\n",
            "3/3 [==============================] - 0s 69ms/step - loss: 0.6179 - acc: 0.6905 - F1_Score: 0.7022 - val_loss: 1.2807 - val_acc: 0.7143 - val_F1_Score: 0.0000e+00\n",
            "Epoch 10/100\n",
            "3/3 [==============================] - 0s 90ms/step - loss: 0.6033 - acc: 0.6786 - F1_Score: 0.6440 - val_loss: 1.2734 - val_acc: 0.7143 - val_F1_Score: 0.0000e+00\n",
            "Epoch 11/100\n",
            "3/3 [==============================] - 0s 75ms/step - loss: 0.5307 - acc: 0.7976 - F1_Score: 0.7779 - val_loss: 1.2609 - val_acc: 0.7143 - val_F1_Score: 0.0000e+00\n",
            "Epoch 12/100\n",
            "3/3 [==============================] - 0s 69ms/step - loss: 0.5621 - acc: 0.7143 - F1_Score: 0.7285 - val_loss: 1.2608 - val_acc: 0.7143 - val_F1_Score: 0.0000e+00\n",
            "Epoch 13/100\n",
            "3/3 [==============================] - 0s 67ms/step - loss: 0.5421 - acc: 0.7262 - F1_Score: 0.7285 - val_loss: 1.2602 - val_acc: 0.7143 - val_F1_Score: 0.0000e+00\n",
            "Epoch 14/100\n",
            "3/3 [==============================] - 0s 69ms/step - loss: 0.5271 - acc: 0.7976 - F1_Score: 0.8081 - val_loss: 1.2561 - val_acc: 0.7143 - val_F1_Score: 0.0000e+00\n",
            "Epoch 15/100\n",
            "3/3 [==============================] - 0s 76ms/step - loss: 0.5272 - acc: 0.7738 - F1_Score: 0.7521 - val_loss: 1.2513 - val_acc: 0.7143 - val_F1_Score: 0.0000e+00\n",
            "Epoch 16/100\n",
            "3/3 [==============================] - 0s 69ms/step - loss: 0.4766 - acc: 0.8571 - F1_Score: 0.8501 - val_loss: 1.2465 - val_acc: 0.6190 - val_F1_Score: 0.0000e+00\n",
            "Epoch 17/100\n",
            "3/3 [==============================] - 0s 69ms/step - loss: 0.5536 - acc: 0.7262 - F1_Score: 0.7185 - val_loss: 1.2362 - val_acc: 0.6667 - val_F1_Score: 0.0000e+00\n",
            "Epoch 18/100\n",
            "3/3 [==============================] - 0s 67ms/step - loss: 0.4892 - acc: 0.7500 - F1_Score: 0.7474 - val_loss: 1.2329 - val_acc: 0.6190 - val_F1_Score: 0.0000e+00\n",
            "Epoch 19/100\n",
            "3/3 [==============================] - 0s 68ms/step - loss: 0.4879 - acc: 0.7857 - F1_Score: 0.7687 - val_loss: 1.2383 - val_acc: 0.6190 - val_F1_Score: 0.0000e+00\n",
            "Epoch 20/100\n",
            "3/3 [==============================] - 0s 79ms/step - loss: 0.5006 - acc: 0.7619 - F1_Score: 0.7772 - val_loss: 1.2295 - val_acc: 0.5714 - val_F1_Score: 0.0000e+00\n",
            "Epoch 21/100\n",
            "3/3 [==============================] - 0s 78ms/step - loss: 0.5418 - acc: 0.7500 - F1_Score: 0.7312 - val_loss: 1.2207 - val_acc: 0.5714 - val_F1_Score: 0.0000e+00\n",
            "Epoch 22/100\n",
            "3/3 [==============================] - 0s 68ms/step - loss: 0.4420 - acc: 0.7976 - F1_Score: 0.7894 - val_loss: 1.2185 - val_acc: 0.5714 - val_F1_Score: 0.0000e+00\n",
            "Epoch 23/100\n",
            "3/3 [==============================] - 0s 70ms/step - loss: 0.5046 - acc: 0.7619 - F1_Score: 0.7667 - val_loss: 1.2106 - val_acc: 0.5714 - val_F1_Score: 0.0000e+00\n",
            "Epoch 24/100\n",
            "3/3 [==============================] - 0s 68ms/step - loss: 0.4146 - acc: 0.8333 - F1_Score: 0.8479 - val_loss: 1.1995 - val_acc: 0.5714 - val_F1_Score: 0.0000e+00\n",
            "Epoch 25/100\n",
            "3/3 [==============================] - 0s 78ms/step - loss: 0.4796 - acc: 0.7619 - F1_Score: 0.7667 - val_loss: 1.1931 - val_acc: 0.5714 - val_F1_Score: 0.0000e+00\n",
            "Epoch 26/100\n",
            "3/3 [==============================] - 0s 68ms/step - loss: 0.3729 - acc: 0.8452 - F1_Score: 0.8456 - val_loss: 1.1780 - val_acc: 0.5714 - val_F1_Score: 0.0000e+00\n",
            "Epoch 27/100\n",
            "3/3 [==============================] - 0s 68ms/step - loss: 0.5784 - acc: 0.7024 - F1_Score: 0.6833 - val_loss: 1.1552 - val_acc: 0.5714 - val_F1_Score: 0.0000e+00\n",
            "Epoch 28/100\n",
            "3/3 [==============================] - 0s 70ms/step - loss: 0.4121 - acc: 0.7976 - F1_Score: 0.7854 - val_loss: 1.1483 - val_acc: 0.5714 - val_F1_Score: 0.0000e+00\n",
            "Epoch 29/100\n",
            "3/3 [==============================] - 0s 75ms/step - loss: 0.3865 - acc: 0.8571 - F1_Score: 0.8437 - val_loss: 1.1635 - val_acc: 0.5714 - val_F1_Score: 0.0000e+00\n",
            "Epoch 30/100\n",
            "3/3 [==============================] - 0s 72ms/step - loss: 0.4052 - acc: 0.8095 - F1_Score: 0.8146 - val_loss: 1.1804 - val_acc: 0.5714 - val_F1_Score: 0.0000e+00\n",
            "Epoch 31/100\n",
            "3/3 [==============================] - 0s 68ms/step - loss: 0.3674 - acc: 0.8571 - F1_Score: 0.8500 - val_loss: 1.1801 - val_acc: 0.5714 - val_F1_Score: 0.0000e+00\n",
            "Epoch 32/100\n",
            "3/3 [==============================] - 0s 73ms/step - loss: 0.3513 - acc: 0.8452 - F1_Score: 0.8458 - val_loss: 1.1665 - val_acc: 0.5714 - val_F1_Score: 0.0000e+00\n",
            "Epoch 33/100\n",
            "3/3 [==============================] - 0s 67ms/step - loss: 0.3690 - acc: 0.8690 - F1_Score: 0.8792 - val_loss: 1.1481 - val_acc: 0.5714 - val_F1_Score: 0.0000e+00\n",
            "Epoch 34/100\n",
            "3/3 [==============================] - 0s 71ms/step - loss: 0.3176 - acc: 0.8690 - F1_Score: 0.8671 - val_loss: 1.1316 - val_acc: 0.5714 - val_F1_Score: 0.0000e+00\n",
            "Epoch 35/100\n",
            "3/3 [==============================] - 0s 76ms/step - loss: 0.2508 - acc: 0.8929 - F1_Score: 0.8750 - val_loss: 1.1183 - val_acc: 0.5714 - val_F1_Score: 0.0000e+00\n",
            "Epoch 36/100\n",
            "3/3 [==============================] - 0s 69ms/step - loss: 0.3710 - acc: 0.8690 - F1_Score: 0.8792 - val_loss: 1.1214 - val_acc: 0.5714 - val_F1_Score: 0.0000e+00\n",
            "Epoch 37/100\n",
            "3/3 [==============================] - 0s 70ms/step - loss: 0.2620 - acc: 0.9048 - F1_Score: 0.9167 - val_loss: 1.1208 - val_acc: 0.5714 - val_F1_Score: 0.0000e+00\n",
            "Epoch 38/100\n",
            "3/3 [==============================] - 0s 74ms/step - loss: 0.2164 - acc: 0.9167 - F1_Score: 0.9208 - val_loss: 1.1242 - val_acc: 0.5714 - val_F1_Score: 0.0000e+00\n",
            "Epoch 39/100\n",
            "3/3 [==============================] - 0s 69ms/step - loss: 0.2111 - acc: 0.9167 - F1_Score: 0.9208 - val_loss: 1.1312 - val_acc: 0.5714 - val_F1_Score: 0.0000e+00\n",
            "Epoch 40/100\n",
            "3/3 [==============================] - 0s 72ms/step - loss: 0.2098 - acc: 0.9286 - F1_Score: 0.9312 - val_loss: 1.1331 - val_acc: 0.5714 - val_F1_Score: 0.0000e+00\n",
            "Epoch 41/100\n",
            "3/3 [==============================] - 0s 68ms/step - loss: 0.2328 - acc: 0.8929 - F1_Score: 0.9062 - val_loss: 1.1198 - val_acc: 0.5714 - val_F1_Score: 0.0000e+00\n",
            "Epoch 42/100\n",
            "3/3 [==============================] - 0s 67ms/step - loss: 0.1532 - acc: 0.9167 - F1_Score: 0.9271 - val_loss: 1.1154 - val_acc: 0.5714 - val_F1_Score: 0.0000e+00\n",
            "Epoch 43/100\n",
            "3/3 [==============================] - 0s 69ms/step - loss: 0.1693 - acc: 0.9048 - F1_Score: 0.8979 - val_loss: 1.1109 - val_acc: 0.5714 - val_F1_Score: 0.0000e+00\n",
            "Epoch 44/100\n",
            "3/3 [==============================] - 0s 69ms/step - loss: 0.1449 - acc: 0.9286 - F1_Score: 0.9312 - val_loss: 1.0985 - val_acc: 0.5714 - val_F1_Score: 0.0000e+00\n",
            "Epoch 45/100\n",
            "3/3 [==============================] - 0s 80ms/step - loss: 0.1158 - acc: 0.9405 - F1_Score: 0.9479 - val_loss: 1.0820 - val_acc: 0.5714 - val_F1_Score: 0.0000e+00\n",
            "Epoch 46/100\n",
            "3/3 [==============================] - 0s 67ms/step - loss: 0.2180 - acc: 0.9048 - F1_Score: 0.9042 - val_loss: 1.0819 - val_acc: 0.5714 - val_F1_Score: 0.0000e+00\n",
            "Epoch 47/100\n",
            "3/3 [==============================] - 0s 68ms/step - loss: 0.1793 - acc: 0.9048 - F1_Score: 0.8979 - val_loss: 1.0937 - val_acc: 0.5714 - val_F1_Score: 0.0000e+00\n",
            "Epoch 48/100\n",
            "3/3 [==============================] - 0s 70ms/step - loss: 0.1267 - acc: 0.9524 - F1_Score: 0.9458 - val_loss: 1.1018 - val_acc: 0.5714 - val_F1_Score: 0.0000e+00\n",
            "Epoch 49/100\n",
            "3/3 [==============================] - 0s 69ms/step - loss: 0.2102 - acc: 0.9286 - F1_Score: 0.9187 - val_loss: 1.1155 - val_acc: 0.5714 - val_F1_Score: 0.0000e+00\n",
            "Epoch 50/100\n",
            "3/3 [==============================] - 0s 69ms/step - loss: 0.0999 - acc: 0.9524 - F1_Score: 0.9458 - val_loss: 1.1244 - val_acc: 0.5714 - val_F1_Score: 0.0000e+00\n",
            "Epoch 51/100\n",
            "3/3 [==============================] - 0s 67ms/step - loss: 0.2164 - acc: 0.9167 - F1_Score: 0.9208 - val_loss: 1.1157 - val_acc: 0.5714 - val_F1_Score: 0.0000e+00\n",
            "Epoch 52/100\n",
            "3/3 [==============================] - 0s 66ms/step - loss: 0.1227 - acc: 0.9524 - F1_Score: 0.9583 - val_loss: 1.1054 - val_acc: 0.5714 - val_F1_Score: 0.0000e+00\n",
            "Epoch 53/100\n",
            "3/3 [==============================] - 0s 68ms/step - loss: 0.1079 - acc: 0.9405 - F1_Score: 0.9479 - val_loss: 1.0996 - val_acc: 0.5714 - val_F1_Score: 0.0000e+00\n",
            "Epoch 54/100\n",
            "3/3 [==============================] - 0s 76ms/step - loss: 0.0959 - acc: 0.9524 - F1_Score: 0.9458 - val_loss: 1.0930 - val_acc: 0.5714 - val_F1_Score: 0.0000e+00\n",
            "Epoch 55/100\n",
            "3/3 [==============================] - 0s 68ms/step - loss: 0.1444 - acc: 0.9286 - F1_Score: 0.9187 - val_loss: 1.0878 - val_acc: 0.5714 - val_F1_Score: 0.0000e+00\n",
            "Epoch 56/100\n",
            "3/3 [==============================] - 0s 69ms/step - loss: 0.1093 - acc: 0.9405 - F1_Score: 0.9292 - val_loss: 1.0856 - val_acc: 0.5714 - val_F1_Score: 0.0000e+00\n",
            "Epoch 57/100\n",
            "3/3 [==============================] - 0s 68ms/step - loss: 0.0902 - acc: 0.9762 - F1_Score: 0.9729 - val_loss: 1.0672 - val_acc: 0.5714 - val_F1_Score: 0.0000e+00\n",
            "Epoch 58/100\n",
            "3/3 [==============================] - 0s 69ms/step - loss: 0.1367 - acc: 0.9405 - F1_Score: 0.9479 - val_loss: 1.0595 - val_acc: 0.5714 - val_F1_Score: 0.0000e+00\n",
            "Epoch 59/100\n",
            "3/3 [==============================] - 0s 71ms/step - loss: 0.1906 - acc: 0.9405 - F1_Score: 0.9417 - val_loss: 1.0879 - val_acc: 0.5714 - val_F1_Score: 0.0000e+00\n",
            "Epoch 60/100\n",
            "3/3 [==============================] - 0s 70ms/step - loss: 0.0899 - acc: 0.9762 - F1_Score: 0.9792 - val_loss: 1.1057 - val_acc: 0.5714 - val_F1_Score: 0.0000e+00\n",
            "Epoch 61/100\n",
            "3/3 [==============================] - 0s 69ms/step - loss: 0.1519 - acc: 0.9405 - F1_Score: 0.9354 - val_loss: 1.1034 - val_acc: 0.5714 - val_F1_Score: 0.0000e+00\n",
            "Epoch 62/100\n",
            "3/3 [==============================] - 0s 69ms/step - loss: 0.0986 - acc: 0.9405 - F1_Score: 0.9417 - val_loss: 1.0870 - val_acc: 0.5714 - val_F1_Score: 0.0000e+00\n",
            "Epoch 63/100\n",
            "3/3 [==============================] - 0s 69ms/step - loss: 0.1032 - acc: 0.9643 - F1_Score: 0.9688 - val_loss: 1.0722 - val_acc: 0.5714 - val_F1_Score: 0.0000e+00\n",
            "Epoch 64/100\n",
            "3/3 [==============================] - 0s 69ms/step - loss: 0.1199 - acc: 0.9524 - F1_Score: 0.9521 - val_loss: 1.0577 - val_acc: 0.5714 - val_F1_Score: 0.0000e+00\n",
            "Epoch 65/100\n",
            "3/3 [==============================] - 0s 70ms/step - loss: 0.1282 - acc: 0.9405 - F1_Score: 0.9292 - val_loss: 1.0454 - val_acc: 0.5714 - val_F1_Score: 0.0000e+00\n",
            "Epoch 66/100\n",
            "3/3 [==============================] - 0s 68ms/step - loss: 0.4676 - acc: 0.8810 - F1_Score: 0.9006 - val_loss: 1.0399 - val_acc: 0.5714 - val_F1_Score: 0.0909\n",
            "Epoch 67/100\n",
            "3/3 [==============================] - 0s 74ms/step - loss: 0.0816 - acc: 0.9881 - F1_Score: 0.9896 - val_loss: 1.0278 - val_acc: 0.5714 - val_F1_Score: 0.0909\n",
            "Epoch 68/100\n",
            "3/3 [==============================] - 0s 70ms/step - loss: 0.4200 - acc: 0.9405 - F1_Score: 0.9479 - val_loss: 1.0293 - val_acc: 0.5714 - val_F1_Score: 0.1667\n",
            "Epoch 69/100\n",
            "3/3 [==============================] - 0s 77ms/step - loss: 0.2003 - acc: 0.9167 - F1_Score: 0.8918 - val_loss: 1.0172 - val_acc: 0.5714 - val_F1_Score: 0.2857\n",
            "Epoch 70/100\n",
            "3/3 [==============================] - 0s 69ms/step - loss: 0.2605 - acc: 0.8929 - F1_Score: 0.8757 - val_loss: 1.0009 - val_acc: 0.5714 - val_F1_Score: 0.3448\n",
            "Epoch 71/100\n",
            "3/3 [==============================] - 0s 68ms/step - loss: 0.1747 - acc: 0.9643 - F1_Score: 0.9573 - val_loss: 0.9795 - val_acc: 0.5714 - val_F1_Score: 0.4000\n",
            "Epoch 72/100\n",
            "3/3 [==============================] - 0s 67ms/step - loss: 0.1459 - acc: 0.9524 - F1_Score: 0.9341 - val_loss: 0.9724 - val_acc: 0.5714 - val_F1_Score: 0.4000\n",
            "Epoch 73/100\n",
            "3/3 [==============================] - 0s 71ms/step - loss: 0.1969 - acc: 0.9286 - F1_Score: 0.9250 - val_loss: 1.0000 - val_acc: 0.5714 - val_F1_Score: 0.2857\n",
            "Epoch 74/100\n",
            "3/3 [==============================] - 0s 72ms/step - loss: 0.2704 - acc: 0.8571 - F1_Score: 0.8437 - val_loss: 1.0328 - val_acc: 0.5714 - val_F1_Score: 0.0909\n",
            "Epoch 75/100\n",
            "3/3 [==============================] - 0s 69ms/step - loss: 0.3001 - acc: 0.8929 - F1_Score: 0.8937 - val_loss: 1.0519 - val_acc: 0.5714 - val_F1_Score: 0.0000e+00\n",
            "Epoch 76/100\n",
            "3/3 [==============================] - 0s 69ms/step - loss: 0.3873 - acc: 0.8929 - F1_Score: 0.9062 - val_loss: 1.0809 - val_acc: 0.6190 - val_F1_Score: 0.0000e+00\n",
            "Epoch 77/100\n",
            "3/3 [==============================] - 0s 68ms/step - loss: 0.2866 - acc: 0.9167 - F1_Score: 0.9032 - val_loss: 1.0859 - val_acc: 0.6190 - val_F1_Score: 0.0000e+00\n",
            "Epoch 78/100\n",
            "3/3 [==============================] - 0s 71ms/step - loss: 0.2739 - acc: 0.8810 - F1_Score: 0.8897 - val_loss: 1.0664 - val_acc: 0.5714 - val_F1_Score: 0.0000e+00\n",
            "Epoch 79/100\n",
            "3/3 [==============================] - 0s 74ms/step - loss: 0.2424 - acc: 0.9048 - F1_Score: 0.8862 - val_loss: 1.0292 - val_acc: 0.5714 - val_F1_Score: 0.0909\n",
            "Epoch 80/100\n",
            "3/3 [==============================] - 0s 67ms/step - loss: 0.1884 - acc: 0.9286 - F1_Score: 0.9290 - val_loss: 0.9980 - val_acc: 0.5714 - val_F1_Score: 0.2500\n",
            "Epoch 81/100\n",
            "3/3 [==============================] - 0s 72ms/step - loss: 0.1655 - acc: 0.9524 - F1_Score: 0.9521 - val_loss: 0.9863 - val_acc: 0.6190 - val_F1_Score: 0.2308\n",
            "Epoch 82/100\n",
            "3/3 [==============================] - 0s 68ms/step - loss: 0.1521 - acc: 0.9405 - F1_Score: 0.9417 - val_loss: 0.9888 - val_acc: 0.6190 - val_F1_Score: 0.2222\n",
            "Epoch 83/100\n",
            "3/3 [==============================] - 0s 69ms/step - loss: 0.1027 - acc: 0.9643 - F1_Score: 0.9625 - val_loss: 0.9875 - val_acc: 0.6190 - val_F1_Score: 0.2857\n",
            "Epoch 84/100\n",
            "3/3 [==============================] - 0s 73ms/step - loss: 0.1422 - acc: 0.9405 - F1_Score: 0.9479 - val_loss: 0.9815 - val_acc: 0.6190 - val_F1_Score: 0.3448\n",
            "Epoch 85/100\n",
            "3/3 [==============================] - 0s 72ms/step - loss: 0.1001 - acc: 0.9643 - F1_Score: 0.9688 - val_loss: 0.9699 - val_acc: 0.6190 - val_F1_Score: 0.3448\n",
            "Epoch 86/100\n",
            "3/3 [==============================] - 0s 66ms/step - loss: 0.1570 - acc: 0.9167 - F1_Score: 0.9208 - val_loss: 0.9707 - val_acc: 0.6190 - val_F1_Score: 0.3448\n",
            "Epoch 87/100\n",
            "3/3 [==============================] - 0s 69ms/step - loss: 0.0587 - acc: 0.9881 - F1_Score: 0.9896 - val_loss: 0.9627 - val_acc: 0.6190 - val_F1_Score: 0.4000\n",
            "Epoch 88/100\n",
            "3/3 [==============================] - 0s 68ms/step - loss: 0.1447 - acc: 0.9643 - F1_Score: 0.9562 - val_loss: 0.9540 - val_acc: 0.6190 - val_F1_Score: 0.4000\n",
            "Epoch 89/100\n",
            "3/3 [==============================] - 0s 72ms/step - loss: 0.2103 - acc: 0.9167 - F1_Score: 0.8985 - val_loss: 0.9606 - val_acc: 0.6190 - val_F1_Score: 0.4000\n",
            "Epoch 90/100\n",
            "3/3 [==============================] - 0s 75ms/step - loss: 0.1298 - acc: 0.9405 - F1_Score: 0.9479 - val_loss: 0.9769 - val_acc: 0.6190 - val_F1_Score: 0.3448\n",
            "Epoch 91/100\n",
            "3/3 [==============================] - 0s 71ms/step - loss: 0.1464 - acc: 0.9286 - F1_Score: 0.9375 - val_loss: 0.9688 - val_acc: 0.6190 - val_F1_Score: 0.2857\n",
            "Epoch 92/100\n",
            "3/3 [==============================] - 0s 73ms/step - loss: 0.1192 - acc: 0.9405 - F1_Score: 0.9479 - val_loss: 0.9376 - val_acc: 0.5714 - val_F1_Score: 0.3448\n",
            "Epoch 93/100\n",
            "3/3 [==============================] - 0s 71ms/step - loss: 0.1736 - acc: 0.9286 - F1_Score: 0.9312 - val_loss: 0.9221 - val_acc: 0.5714 - val_F1_Score: 0.3871\n",
            "Epoch 94/100\n",
            "3/3 [==============================] - 0s 74ms/step - loss: 0.0992 - acc: 0.9762 - F1_Score: 0.9729 - val_loss: 0.9202 - val_acc: 0.5714 - val_F1_Score: 0.5294\n",
            "Epoch 95/100\n",
            "3/3 [==============================] - 0s 72ms/step - loss: 0.1940 - acc: 0.9167 - F1_Score: 0.9154 - val_loss: 0.9241 - val_acc: 0.5714 - val_F1_Score: 0.5556\n",
            "Epoch 96/100\n",
            "3/3 [==============================] - 0s 75ms/step - loss: 0.0770 - acc: 0.9762 - F1_Score: 0.9729 - val_loss: 0.9094 - val_acc: 0.5714 - val_F1_Score: 0.4375\n",
            "Epoch 97/100\n",
            "3/3 [==============================] - 0s 72ms/step - loss: 0.0994 - acc: 0.9524 - F1_Score: 0.9583 - val_loss: 0.8951 - val_acc: 0.6190 - val_F1_Score: 0.5000\n",
            "Epoch 98/100\n",
            "3/3 [==============================] - 0s 73ms/step - loss: 0.0817 - acc: 0.9643 - F1_Score: 0.9688 - val_loss: 0.8855 - val_acc: 0.6190 - val_F1_Score: 0.5714\n",
            "Epoch 99/100\n",
            "3/3 [==============================] - 0s 84ms/step - loss: 0.1240 - acc: 0.9405 - F1_Score: 0.9479 - val_loss: 0.8964 - val_acc: 0.5714 - val_F1_Score: 0.5556\n",
            "Epoch 100/100\n",
            "3/3 [==============================] - 0s 69ms/step - loss: 0.0485 - acc: 0.9881 - F1_Score: 0.9833 - val_loss: 0.9018 - val_acc: 0.5714 - val_F1_Score: 0.5556\n"
          ]
        }
      ]
    },
    {
      "cell_type": "code",
      "source": [
        "# can now predict the classes\n",
        "predicted_probs = model.predict(xte)\n",
        "\n",
        "# show the class of first as we have probabilities\n",
        "print(predicted_probs[0].argmax())\n",
        "print(yte[0].argmax())\n",
        "\n",
        "# appling argmax to each of the one-hot-encoded outputs\n",
        "predicted = predicted_probs.argmax(axis = 1)[:,None].flatten()\n",
        "actual = yte.argmax(axis = 1)[:,None].flatten()\n",
        "\n",
        "print(predicted)\n",
        "print(actual)"
      ],
      "metadata": {
        "colab": {
          "base_uri": "https://localhost:8080/"
        },
        "id": "-JB6_nnzyvHH",
        "outputId": "8209d120-5477-4e81-f864-a129da18cbab"
      },
      "execution_count": null,
      "outputs": [
        {
          "output_type": "stream",
          "name": "stdout",
          "text": [
            "2/2 [==============================] - 0s 16ms/step\n",
            "0\n",
            "1\n",
            "[0 0 0 0 0 0 0 0 0 0 0 0 0 0 0 0 0 1 0 0 1 0 1 0 0 0 0 0 0 1 0 0 2 0 0 0 0\n",
            " 0 0 0 0 0 0 0 2 0 1 0 0 0 0 0]\n",
            "[1 0 1 0 0 0 1 1 0 0 1 1 1 0 1 0 0 1 1 0 2 0 2 0 0 0 0 0 1 2 0 1 2 0 1 0 1\n",
            " 1 1 1 0 0 0 1 2 0 1 1 0 1 1 1]\n"
          ]
        }
      ]
    },
    {
      "cell_type": "code",
      "source": [
        "from sklearn.metrics import classification_report\n",
        "print(classification_report(actual, predicted))"
      ],
      "metadata": {
        "colab": {
          "base_uri": "https://localhost:8080/"
        },
        "id": "MMIE36qbyxPF",
        "outputId": "d386cc8f-6940-415d-af2a-05f4832c2329"
      },
      "execution_count": null,
      "outputs": [
        {
          "output_type": "stream",
          "name": "stdout",
          "text": [
            "              precision    recall  f1-score   support\n",
            "\n",
            "           0       0.53      1.00      0.70        24\n",
            "           1       0.40      0.09      0.14        23\n",
            "           2       1.00      0.40      0.57         5\n",
            "\n",
            "    accuracy                           0.54        52\n",
            "   macro avg       0.64      0.50      0.47        52\n",
            "weighted avg       0.52      0.54      0.44        52\n",
            "\n"
          ]
        }
      ]
    },
    {
      "cell_type": "code",
      "source": [
        "# !pip install -U geemap"
      ],
      "metadata": {
        "id": "Q7wFl9i9MnAj"
      },
      "execution_count": null,
      "outputs": []
    },
    {
      "cell_type": "code",
      "source": [
        "import ee\n",
        "import geemap\n",
        "from geemap import ml\n",
        "from sklearn import ensemble\n",
        "geemap.ee_initialize()"
      ],
      "metadata": {
        "colab": {
          "base_uri": "https://localhost:8080/",
          "height": 176
        },
        "id": "2musFHjlL0hP",
        "outputId": "235c9889-bd23-4c40-9033-00cac5998ef0"
      },
      "execution_count": null,
      "outputs": [
        {
          "output_type": "stream",
          "name": "stdout",
          "text": [
            "To authorize access needed by Earth Engine, open the following URL in a web browser and follow the instructions. If the web browser does not start automatically, please manually browse the URL below.\n",
            "\n",
            "    https://code.earthengine.google.com/client-auth?scopes=https%3A//www.googleapis.com/auth/earthengine%20https%3A//www.googleapis.com/auth/devstorage.full_control&request_id=Hj7o5cua0Y90K7tsIHl7gLdH-hjqmvBKuL_hgKlbr00&tc=IXJpRzkgYyO9SE93fp1zgIilgtdxW1NkyT7S42-ealg&cc=V4K9g8hRGS67Yu0fGR805_kfGLqPcZ9HBkNlu7GgK40\n",
            "\n",
            "The authorization workflow will generate a code, which you should paste in the box below.\n",
            "Enter verification code: 4/1ARtbsJrxUzRemX1Zoxuw6JF0Vl_mOULiVYT-eak_OuyraGzusYoJlhnP2XQ\n",
            "\n",
            "Successfully saved authorization token.\n"
          ]
        }
      ]
    },
    {
      "cell_type": "code",
      "source": [
        "feature_names = ['nd_p100','nd_p100_1','nd_p100_2','nd_p100_3','nd_p100_4','nd_p100_5','nd_p100_6','nd_p100_7','nd_p100_8','nd_p100_9','nd_p100_10','nd_p100_11','nd_p100_12','nd_p100_13','nd_p100_14','nd_p100_15','nd_p100_16','nd_p100_17','nd_p100_18','nd_p100_19','nd_p100_20','nd_p100_21','nd_p100_22','nd_p100_23']\n",
        "label = \"cycles\""
      ],
      "metadata": {
        "id": "u6P-cNAVMHU8"
      },
      "execution_count": null,
      "outputs": []
    },
    {
      "cell_type": "code",
      "source": [
        "# convert the estimator into a list of strings\n",
        "# this function also works with the ensemble.ExtraTrees estimator\n",
        "trees = ml.rf_to_strings(rf_clf, feature_names)\n",
        "# create a ee classifier to use with ee objects from the trees\n",
        "ee_classifier = ml.strings_to_classifier(trees)"
      ],
      "metadata": {
        "id": "MkzDJ4lDMJPZ"
      },
      "execution_count": null,
      "outputs": []
    },
    {
      "cell_type": "code",
      "source": [
        "l8 = ee.Image('projects/ee-g00085636/assets/NDVI_MZ_unmasked') #the unmasked image from google earth engine (I converted it into a google earth engine asset first)"
      ],
      "metadata": {
        "id": "eOXkEssIMRAO"
      },
      "execution_count": null,
      "outputs": []
    },
    {
      "cell_type": "code",
      "source": [
        "# classify the image using the classifier we created from the local training\n",
        "# note: here we select the feature_names from the image that way the classifier knows which bands to use\n",
        "classified = l8.select(feature_names).classify(ee_classifier)\n"
      ],
      "metadata": {
        "id": "UX2n8jWAMUFd"
      },
      "execution_count": null,
      "outputs": []
    },
    {
      "cell_type": "code",
      "source": [
        "# display results\n",
        "Map = geemap.Map(center=(18.6657, 35.5296),zoom=11)\n",
        "\n",
        "Map.addLayer(\n",
        "    l8,\n",
        "    {\"bands\": ['nd_p100_2','nd_p100_5','nd_p100_7'], \"min\": -10000, \"max\": 10000, \"gamma\": 1.5},\n",
        "    'image',\n",
        ")\n",
        "Map.addLayer(\n",
        "    classified,\n",
        "    { \"palette\": ['#ffffff', '#008000', '#ffff00','#ff0000']},\n",
        "    'classification',\n",
        ")\n",
        "Map"
      ],
      "metadata": {
        "colab": {
          "base_uri": "https://localhost:8080/",
          "height": 621,
          "referenced_widgets": [
            "ae9f53adf06c46158203af65cc8a0046",
            "8b3e22baeecf4751bce397ee31f98bd5",
            "85809c4c8874489ab4a37d86f10f5379",
            "07ead5c06c3046e8aa75151caada1969",
            "ffe10845f74b460c85cba436354035c8",
            "5e0d9f1d4b7044db820f54cc2196a535",
            "94ae947ea10a44a4b38a7944a206f140",
            "2e3f0f0af745411cae9feab37641d937",
            "b2e5f867311a45a8a2b944dfd9addd76",
            "47a0ba5d98d5419d80bbf3aff126bc1c",
            "ee3379aa670642f39cbe840711736e35",
            "cd18dc68554a4da69bc5012fecd04aaa",
            "f8fb3bddc37c4fb6bf5e995bb2abbe92",
            "32cc47d7d75f4c5a9c7eb2cfbde59403",
            "26815648950d4a408eb477d6b3237634",
            "6b17c8a199de4e35970cf5f8efa5b716",
            "3b5e29e616aa49359802e024713afd61",
            "92a19518828647168faa011e3519dd80",
            "5d1e268dca8a4fea9885357c66ccdf5e",
            "f6d7afb939e64ba681bbace61865de38",
            "06a2e468c0f04eed9ed5226d80d56822",
            "a65ed08dd1ca478aa0d376076fd5ded6",
            "d31d2fd82dde4f888036e9c7507841b8",
            "1e5e7141f8424fd1af12d0477786d86d",
            "61885e83d79a42cbbeb425b2394f35c4",
            "f28c876c4ca0498faa823f22e0e8ca44",
            "26364fb42e3e40b8950bd2f7f009be52"
          ]
        },
        "id": "s0xzTmw0MWTd",
        "outputId": "46d69a87-fb05-4b31-f406-08f49508970f"
      },
      "execution_count": null,
      "outputs": [
        {
          "output_type": "display_data",
          "data": {
            "text/plain": [
              "Map(center=[18.6657, 35.5296], controls=(WidgetControl(options=['position', 'transparent_bg'], widget=HBox(chi…"
            ],
            "application/vnd.jupyter.widget-view+json": {
              "version_major": 2,
              "version_minor": 0,
              "model_id": "ae9f53adf06c46158203af65cc8a0046"
            }
          },
          "metadata": {
            "application/vnd.jupyter.widget-view+json": {
              "colab": {
                "custom_widget_manager": {
                  "url": "https://ssl.gstatic.com/colaboratory-static/widgets/colab-cdn-widget-manager/d2e234f7cc04bf79/manager.min.js"
                }
              }
            }
          }
        }
      ]
    },
    {
      "cell_type": "code",
      "source": [
        "x_train_lstm = x_train.reshape((x_train.shape[0],x_train.shape[1],1))\n",
        "x_test_lstm = x_test.reshape((x_test.shape[0],x_test.shape[1],1))"
      ],
      "metadata": {
        "id": "Z7AD7j6GQYdr"
      },
      "execution_count": null,
      "outputs": []
    },
    {
      "cell_type": "code",
      "source": [
        "from keras.metrics.metrics import accuracy\n",
        "from keras.models import Sequential\n",
        "from keras.layers import Dense\n",
        "from keras.layers import LSTM\n",
        "from keras.layers import Dropout\n",
        "\n"
      ],
      "metadata": {
        "id": "m6lEMZQRQaUd"
      },
      "execution_count": null,
      "outputs": []
    },
    {
      "cell_type": "code",
      "source": [
        "from keras.layers import Bidirectional, Activation\n",
        "\n",
        "model = Sequential()\n",
        "model.add(Bidirectional(LSTM(50, return_sequences=True),\n",
        "                             input_shape=(24, 1)))\n",
        "model.add(Bidirectional(LSTM(50)))\n",
        "model.add(Dense(1))\n",
        "model.add(Activation('sigmoid'))\n",
        "model.compile(loss='mse',\n",
        "optimizer='adam',\n",
        "metrics=['accuracy'])"
      ],
      "metadata": {
        "id": "lpkJ64wZQb65"
      },
      "execution_count": null,
      "outputs": []
    },
    {
      "cell_type": "code",
      "source": [
        "hist = model.fit(x_train_lstm, y_train, epochs = 100)"
      ],
      "metadata": {
        "colab": {
          "base_uri": "https://localhost:8080/",
          "height": 1000
        },
        "id": "sFmz4xDfQejD",
        "outputId": "e962ce6a-224c-4f9b-c6b7-68205eeba900"
      },
      "execution_count": null,
      "outputs": [
        {
          "output_type": "stream",
          "name": "stdout",
          "text": [
            "Epoch 1/100\n",
            "583/583 [==============================] - 34s 44ms/step - loss: 0.0324 - accuracy: 0.9649\n",
            "Epoch 2/100\n",
            "583/583 [==============================] - 26s 44ms/step - loss: 0.0288 - accuracy: 0.9679\n",
            "Epoch 3/100\n",
            "583/583 [==============================] - 25s 44ms/step - loss: 0.0282 - accuracy: 0.9686\n",
            "Epoch 4/100\n",
            "583/583 [==============================] - 28s 47ms/step - loss: 0.0280 - accuracy: 0.9682\n",
            "Epoch 5/100\n",
            "583/583 [==============================] - 25s 43ms/step - loss: 0.0277 - accuracy: 0.9687\n",
            "Epoch 6/100\n",
            "583/583 [==============================] - 25s 43ms/step - loss: 0.0275 - accuracy: 0.9692\n",
            "Epoch 7/100\n",
            "583/583 [==============================] - 25s 43ms/step - loss: 0.0274 - accuracy: 0.9692\n",
            "Epoch 8/100\n",
            "583/583 [==============================] - 25s 43ms/step - loss: 0.0275 - accuracy: 0.9692\n",
            "Epoch 9/100\n",
            "583/583 [==============================] - 27s 47ms/step - loss: 0.0276 - accuracy: 0.9688\n",
            "Epoch 10/100\n",
            "583/583 [==============================] - 25s 43ms/step - loss: 0.0275 - accuracy: 0.9684\n",
            "Epoch 11/100\n",
            "583/583 [==============================] - 25s 43ms/step - loss: 0.0280 - accuracy: 0.9684\n",
            "Epoch 12/100\n",
            "583/583 [==============================] - 26s 44ms/step - loss: 0.0275 - accuracy: 0.9689\n",
            "Epoch 13/100\n",
            "583/583 [==============================] - 25s 44ms/step - loss: 0.0274 - accuracy: 0.9697\n",
            "Epoch 14/100\n",
            "583/583 [==============================] - 25s 43ms/step - loss: 0.0272 - accuracy: 0.9694\n",
            "Epoch 15/100\n",
            "583/583 [==============================] - 27s 46ms/step - loss: 0.0267 - accuracy: 0.9701\n",
            "Epoch 16/100\n",
            "583/583 [==============================] - 28s 48ms/step - loss: 0.0272 - accuracy: 0.9699\n",
            "Epoch 17/100\n",
            "583/583 [==============================] - 25s 42ms/step - loss: 0.0275 - accuracy: 0.9688\n",
            "Epoch 18/100\n",
            "583/583 [==============================] - 25s 42ms/step - loss: 0.0266 - accuracy: 0.9703\n",
            "Epoch 19/100\n",
            "583/583 [==============================] - 25s 42ms/step - loss: 0.0264 - accuracy: 0.9702\n",
            "Epoch 20/100\n",
            "583/583 [==============================] - 27s 47ms/step - loss: 0.0260 - accuracy: 0.9708\n",
            "Epoch 21/100\n",
            "583/583 [==============================] - 26s 44ms/step - loss: 0.0259 - accuracy: 0.9709\n",
            "Epoch 22/100\n",
            "583/583 [==============================] - 25s 43ms/step - loss: 0.0263 - accuracy: 0.9701\n",
            "Epoch 23/100\n",
            "583/583 [==============================] - 26s 44ms/step - loss: 0.0269 - accuracy: 0.9697\n",
            "Epoch 24/100\n",
            "583/583 [==============================] - 26s 44ms/step - loss: 0.0260 - accuracy: 0.9711\n",
            "Epoch 25/100\n",
            "583/583 [==============================] - 28s 48ms/step - loss: 0.0268 - accuracy: 0.9694\n",
            "Epoch 26/100\n",
            "583/583 [==============================] - 26s 44ms/step - loss: 0.0268 - accuracy: 0.9692\n",
            "Epoch 27/100\n",
            "583/583 [==============================] - 26s 44ms/step - loss: 0.0272 - accuracy: 0.9692\n",
            "Epoch 28/100\n",
            "583/583 [==============================] - 26s 44ms/step - loss: 0.0260 - accuracy: 0.9709\n",
            "Epoch 29/100\n",
            "583/583 [==============================] - 25s 44ms/step - loss: 0.0260 - accuracy: 0.9710\n",
            "Epoch 30/100\n",
            "583/583 [==============================] - 27s 47ms/step - loss: 0.0257 - accuracy: 0.9716\n",
            "Epoch 31/100\n",
            "583/583 [==============================] - 25s 43ms/step - loss: 0.0260 - accuracy: 0.9709\n",
            "Epoch 32/100\n",
            "583/583 [==============================] - 25s 43ms/step - loss: 0.0256 - accuracy: 0.9715\n",
            "Epoch 33/100\n",
            "583/583 [==============================] - 25s 43ms/step - loss: 0.0260 - accuracy: 0.9707\n",
            "Epoch 34/100\n",
            "583/583 [==============================] - 25s 43ms/step - loss: 0.0258 - accuracy: 0.9710\n",
            "Epoch 35/100\n",
            "583/583 [==============================] - 25s 43ms/step - loss: 0.0255 - accuracy: 0.9716\n",
            "Epoch 36/100\n",
            "583/583 [==============================] - 28s 47ms/step - loss: 0.0258 - accuracy: 0.9711\n",
            "Epoch 37/100\n",
            "583/583 [==============================] - 26s 44ms/step - loss: 0.0253 - accuracy: 0.9723\n",
            "Epoch 38/100\n",
            "583/583 [==============================] - 25s 44ms/step - loss: 0.0256 - accuracy: 0.9716\n",
            "Epoch 39/100\n",
            "583/583 [==============================] - 26s 44ms/step - loss: 0.0258 - accuracy: 0.9715\n",
            "Epoch 40/100\n",
            "429/583 [=====================>........] - ETA: 6s - loss: 0.0273 - accuracy: 0.9694"
          ]
        },
        {
          "output_type": "error",
          "ename": "KeyboardInterrupt",
          "evalue": "ignored",
          "traceback": [
            "\u001b[0;31m---------------------------------------------------------------------------\u001b[0m",
            "\u001b[0;31mKeyboardInterrupt\u001b[0m                         Traceback (most recent call last)",
            "\u001b[0;32m<ipython-input-48-b5ee62cf3331>\u001b[0m in \u001b[0;36m<module>\u001b[0;34m\u001b[0m\n\u001b[0;32m----> 1\u001b[0;31m \u001b[0mhist\u001b[0m \u001b[0;34m=\u001b[0m \u001b[0mmodel\u001b[0m\u001b[0;34m.\u001b[0m\u001b[0mfit\u001b[0m\u001b[0;34m(\u001b[0m\u001b[0mx_train_lstm\u001b[0m\u001b[0;34m,\u001b[0m \u001b[0my_train\u001b[0m\u001b[0;34m,\u001b[0m \u001b[0mepochs\u001b[0m \u001b[0;34m=\u001b[0m \u001b[0;36m100\u001b[0m\u001b[0;34m)\u001b[0m\u001b[0;34m\u001b[0m\u001b[0;34m\u001b[0m\u001b[0m\n\u001b[0m",
            "\u001b[0;32m/usr/local/lib/python3.7/dist-packages/keras/utils/traceback_utils.py\u001b[0m in \u001b[0;36merror_handler\u001b[0;34m(*args, **kwargs)\u001b[0m\n\u001b[1;32m     62\u001b[0m     \u001b[0mfiltered_tb\u001b[0m \u001b[0;34m=\u001b[0m \u001b[0;32mNone\u001b[0m\u001b[0;34m\u001b[0m\u001b[0;34m\u001b[0m\u001b[0m\n\u001b[1;32m     63\u001b[0m     \u001b[0;32mtry\u001b[0m\u001b[0;34m:\u001b[0m\u001b[0;34m\u001b[0m\u001b[0;34m\u001b[0m\u001b[0m\n\u001b[0;32m---> 64\u001b[0;31m       \u001b[0;32mreturn\u001b[0m \u001b[0mfn\u001b[0m\u001b[0;34m(\u001b[0m\u001b[0;34m*\u001b[0m\u001b[0margs\u001b[0m\u001b[0;34m,\u001b[0m \u001b[0;34m**\u001b[0m\u001b[0mkwargs\u001b[0m\u001b[0;34m)\u001b[0m\u001b[0;34m\u001b[0m\u001b[0;34m\u001b[0m\u001b[0m\n\u001b[0m\u001b[1;32m     65\u001b[0m     \u001b[0;32mexcept\u001b[0m \u001b[0mException\u001b[0m \u001b[0;32mas\u001b[0m \u001b[0me\u001b[0m\u001b[0;34m:\u001b[0m  \u001b[0;31m# pylint: disable=broad-except\u001b[0m\u001b[0;34m\u001b[0m\u001b[0;34m\u001b[0m\u001b[0m\n\u001b[1;32m     66\u001b[0m       \u001b[0mfiltered_tb\u001b[0m \u001b[0;34m=\u001b[0m \u001b[0m_process_traceback_frames\u001b[0m\u001b[0;34m(\u001b[0m\u001b[0me\u001b[0m\u001b[0;34m.\u001b[0m\u001b[0m__traceback__\u001b[0m\u001b[0;34m)\u001b[0m\u001b[0;34m\u001b[0m\u001b[0;34m\u001b[0m\u001b[0m\n",
            "\u001b[0;32m/usr/local/lib/python3.7/dist-packages/keras/engine/training.py\u001b[0m in \u001b[0;36mfit\u001b[0;34m(self, x, y, batch_size, epochs, verbose, callbacks, validation_split, validation_data, shuffle, class_weight, sample_weight, initial_epoch, steps_per_epoch, validation_steps, validation_batch_size, validation_freq, max_queue_size, workers, use_multiprocessing)\u001b[0m\n\u001b[1;32m   1407\u001b[0m                 _r=1):\n\u001b[1;32m   1408\u001b[0m               \u001b[0mcallbacks\u001b[0m\u001b[0;34m.\u001b[0m\u001b[0mon_train_batch_begin\u001b[0m\u001b[0;34m(\u001b[0m\u001b[0mstep\u001b[0m\u001b[0;34m)\u001b[0m\u001b[0;34m\u001b[0m\u001b[0;34m\u001b[0m\u001b[0m\n\u001b[0;32m-> 1409\u001b[0;31m               \u001b[0mtmp_logs\u001b[0m \u001b[0;34m=\u001b[0m \u001b[0mself\u001b[0m\u001b[0;34m.\u001b[0m\u001b[0mtrain_function\u001b[0m\u001b[0;34m(\u001b[0m\u001b[0miterator\u001b[0m\u001b[0;34m)\u001b[0m\u001b[0;34m\u001b[0m\u001b[0;34m\u001b[0m\u001b[0m\n\u001b[0m\u001b[1;32m   1410\u001b[0m               \u001b[0;32mif\u001b[0m \u001b[0mdata_handler\u001b[0m\u001b[0;34m.\u001b[0m\u001b[0mshould_sync\u001b[0m\u001b[0;34m:\u001b[0m\u001b[0;34m\u001b[0m\u001b[0;34m\u001b[0m\u001b[0m\n\u001b[1;32m   1411\u001b[0m                 \u001b[0mcontext\u001b[0m\u001b[0;34m.\u001b[0m\u001b[0masync_wait\u001b[0m\u001b[0;34m(\u001b[0m\u001b[0;34m)\u001b[0m\u001b[0;34m\u001b[0m\u001b[0;34m\u001b[0m\u001b[0m\n",
            "\u001b[0;32m/usr/local/lib/python3.7/dist-packages/tensorflow/python/util/traceback_utils.py\u001b[0m in \u001b[0;36merror_handler\u001b[0;34m(*args, **kwargs)\u001b[0m\n\u001b[1;32m    148\u001b[0m     \u001b[0mfiltered_tb\u001b[0m \u001b[0;34m=\u001b[0m \u001b[0;32mNone\u001b[0m\u001b[0;34m\u001b[0m\u001b[0;34m\u001b[0m\u001b[0m\n\u001b[1;32m    149\u001b[0m     \u001b[0;32mtry\u001b[0m\u001b[0;34m:\u001b[0m\u001b[0;34m\u001b[0m\u001b[0;34m\u001b[0m\u001b[0m\n\u001b[0;32m--> 150\u001b[0;31m       \u001b[0;32mreturn\u001b[0m \u001b[0mfn\u001b[0m\u001b[0;34m(\u001b[0m\u001b[0;34m*\u001b[0m\u001b[0margs\u001b[0m\u001b[0;34m,\u001b[0m \u001b[0;34m**\u001b[0m\u001b[0mkwargs\u001b[0m\u001b[0;34m)\u001b[0m\u001b[0;34m\u001b[0m\u001b[0;34m\u001b[0m\u001b[0m\n\u001b[0m\u001b[1;32m    151\u001b[0m     \u001b[0;32mexcept\u001b[0m \u001b[0mException\u001b[0m \u001b[0;32mas\u001b[0m \u001b[0me\u001b[0m\u001b[0;34m:\u001b[0m\u001b[0;34m\u001b[0m\u001b[0;34m\u001b[0m\u001b[0m\n\u001b[1;32m    152\u001b[0m       \u001b[0mfiltered_tb\u001b[0m \u001b[0;34m=\u001b[0m \u001b[0m_process_traceback_frames\u001b[0m\u001b[0;34m(\u001b[0m\u001b[0me\u001b[0m\u001b[0;34m.\u001b[0m\u001b[0m__traceback__\u001b[0m\u001b[0;34m)\u001b[0m\u001b[0;34m\u001b[0m\u001b[0;34m\u001b[0m\u001b[0m\n",
            "\u001b[0;32m/usr/local/lib/python3.7/dist-packages/tensorflow/python/eager/def_function.py\u001b[0m in \u001b[0;36m__call__\u001b[0;34m(self, *args, **kwds)\u001b[0m\n\u001b[1;32m    913\u001b[0m \u001b[0;34m\u001b[0m\u001b[0m\n\u001b[1;32m    914\u001b[0m       \u001b[0;32mwith\u001b[0m \u001b[0mOptionalXlaContext\u001b[0m\u001b[0;34m(\u001b[0m\u001b[0mself\u001b[0m\u001b[0;34m.\u001b[0m\u001b[0m_jit_compile\u001b[0m\u001b[0;34m)\u001b[0m\u001b[0;34m:\u001b[0m\u001b[0;34m\u001b[0m\u001b[0;34m\u001b[0m\u001b[0m\n\u001b[0;32m--> 915\u001b[0;31m         \u001b[0mresult\u001b[0m \u001b[0;34m=\u001b[0m \u001b[0mself\u001b[0m\u001b[0;34m.\u001b[0m\u001b[0m_call\u001b[0m\u001b[0;34m(\u001b[0m\u001b[0;34m*\u001b[0m\u001b[0margs\u001b[0m\u001b[0;34m,\u001b[0m \u001b[0;34m**\u001b[0m\u001b[0mkwds\u001b[0m\u001b[0;34m)\u001b[0m\u001b[0;34m\u001b[0m\u001b[0;34m\u001b[0m\u001b[0m\n\u001b[0m\u001b[1;32m    916\u001b[0m \u001b[0;34m\u001b[0m\u001b[0m\n\u001b[1;32m    917\u001b[0m       \u001b[0mnew_tracing_count\u001b[0m \u001b[0;34m=\u001b[0m \u001b[0mself\u001b[0m\u001b[0;34m.\u001b[0m\u001b[0mexperimental_get_tracing_count\u001b[0m\u001b[0;34m(\u001b[0m\u001b[0;34m)\u001b[0m\u001b[0;34m\u001b[0m\u001b[0;34m\u001b[0m\u001b[0m\n",
            "\u001b[0;32m/usr/local/lib/python3.7/dist-packages/tensorflow/python/eager/def_function.py\u001b[0m in \u001b[0;36m_call\u001b[0;34m(self, *args, **kwds)\u001b[0m\n\u001b[1;32m    945\u001b[0m       \u001b[0;31m# In this case we have created variables on the first call, so we run the\u001b[0m\u001b[0;34m\u001b[0m\u001b[0;34m\u001b[0m\u001b[0;34m\u001b[0m\u001b[0m\n\u001b[1;32m    946\u001b[0m       \u001b[0;31m# defunned version which is guaranteed to never create variables.\u001b[0m\u001b[0;34m\u001b[0m\u001b[0;34m\u001b[0m\u001b[0;34m\u001b[0m\u001b[0m\n\u001b[0;32m--> 947\u001b[0;31m       \u001b[0;32mreturn\u001b[0m \u001b[0mself\u001b[0m\u001b[0;34m.\u001b[0m\u001b[0m_stateless_fn\u001b[0m\u001b[0;34m(\u001b[0m\u001b[0;34m*\u001b[0m\u001b[0margs\u001b[0m\u001b[0;34m,\u001b[0m \u001b[0;34m**\u001b[0m\u001b[0mkwds\u001b[0m\u001b[0;34m)\u001b[0m  \u001b[0;31m# pylint: disable=not-callable\u001b[0m\u001b[0;34m\u001b[0m\u001b[0;34m\u001b[0m\u001b[0m\n\u001b[0m\u001b[1;32m    948\u001b[0m     \u001b[0;32melif\u001b[0m \u001b[0mself\u001b[0m\u001b[0;34m.\u001b[0m\u001b[0m_stateful_fn\u001b[0m \u001b[0;32mis\u001b[0m \u001b[0;32mnot\u001b[0m \u001b[0;32mNone\u001b[0m\u001b[0;34m:\u001b[0m\u001b[0;34m\u001b[0m\u001b[0;34m\u001b[0m\u001b[0m\n\u001b[1;32m    949\u001b[0m       \u001b[0;31m# Release the lock early so that multiple threads can perform the call\u001b[0m\u001b[0;34m\u001b[0m\u001b[0;34m\u001b[0m\u001b[0;34m\u001b[0m\u001b[0m\n",
            "\u001b[0;32m/usr/local/lib/python3.7/dist-packages/tensorflow/python/eager/function.py\u001b[0m in \u001b[0;36m__call__\u001b[0;34m(self, *args, **kwargs)\u001b[0m\n\u001b[1;32m   2452\u001b[0m        filtered_flat_args) = self._maybe_define_function(args, kwargs)\n\u001b[1;32m   2453\u001b[0m     return graph_function._call_flat(\n\u001b[0;32m-> 2454\u001b[0;31m         filtered_flat_args, captured_inputs=graph_function.captured_inputs)  # pylint: disable=protected-access\n\u001b[0m\u001b[1;32m   2455\u001b[0m \u001b[0;34m\u001b[0m\u001b[0m\n\u001b[1;32m   2456\u001b[0m   \u001b[0;34m@\u001b[0m\u001b[0mproperty\u001b[0m\u001b[0;34m\u001b[0m\u001b[0;34m\u001b[0m\u001b[0m\n",
            "\u001b[0;32m/usr/local/lib/python3.7/dist-packages/tensorflow/python/eager/function.py\u001b[0m in \u001b[0;36m_call_flat\u001b[0;34m(self, args, captured_inputs, cancellation_manager)\u001b[0m\n\u001b[1;32m   1859\u001b[0m       \u001b[0;31m# No tape is watching; skip to running the function.\u001b[0m\u001b[0;34m\u001b[0m\u001b[0;34m\u001b[0m\u001b[0;34m\u001b[0m\u001b[0m\n\u001b[1;32m   1860\u001b[0m       return self._build_call_outputs(self._inference_function.call(\n\u001b[0;32m-> 1861\u001b[0;31m           ctx, args, cancellation_manager=cancellation_manager))\n\u001b[0m\u001b[1;32m   1862\u001b[0m     forward_backward = self._select_forward_and_backward_functions(\n\u001b[1;32m   1863\u001b[0m         \u001b[0margs\u001b[0m\u001b[0;34m,\u001b[0m\u001b[0;34m\u001b[0m\u001b[0;34m\u001b[0m\u001b[0m\n",
            "\u001b[0;32m/usr/local/lib/python3.7/dist-packages/tensorflow/python/eager/function.py\u001b[0m in \u001b[0;36mcall\u001b[0;34m(self, ctx, args, cancellation_manager)\u001b[0m\n\u001b[1;32m    500\u001b[0m               \u001b[0minputs\u001b[0m\u001b[0;34m=\u001b[0m\u001b[0margs\u001b[0m\u001b[0;34m,\u001b[0m\u001b[0;34m\u001b[0m\u001b[0;34m\u001b[0m\u001b[0m\n\u001b[1;32m    501\u001b[0m               \u001b[0mattrs\u001b[0m\u001b[0;34m=\u001b[0m\u001b[0mattrs\u001b[0m\u001b[0;34m,\u001b[0m\u001b[0;34m\u001b[0m\u001b[0;34m\u001b[0m\u001b[0m\n\u001b[0;32m--> 502\u001b[0;31m               ctx=ctx)\n\u001b[0m\u001b[1;32m    503\u001b[0m         \u001b[0;32melse\u001b[0m\u001b[0;34m:\u001b[0m\u001b[0;34m\u001b[0m\u001b[0;34m\u001b[0m\u001b[0m\n\u001b[1;32m    504\u001b[0m           outputs = execute.execute_with_cancellation(\n",
            "\u001b[0;32m/usr/local/lib/python3.7/dist-packages/tensorflow/python/eager/execute.py\u001b[0m in \u001b[0;36mquick_execute\u001b[0;34m(op_name, num_outputs, inputs, attrs, ctx, name)\u001b[0m\n\u001b[1;32m     53\u001b[0m     \u001b[0mctx\u001b[0m\u001b[0;34m.\u001b[0m\u001b[0mensure_initialized\u001b[0m\u001b[0;34m(\u001b[0m\u001b[0;34m)\u001b[0m\u001b[0;34m\u001b[0m\u001b[0;34m\u001b[0m\u001b[0m\n\u001b[1;32m     54\u001b[0m     tensors = pywrap_tfe.TFE_Py_Execute(ctx._handle, device_name, op_name,\n\u001b[0;32m---> 55\u001b[0;31m                                         inputs, attrs, num_outputs)\n\u001b[0m\u001b[1;32m     56\u001b[0m   \u001b[0;32mexcept\u001b[0m \u001b[0mcore\u001b[0m\u001b[0;34m.\u001b[0m\u001b[0m_NotOkStatusException\u001b[0m \u001b[0;32mas\u001b[0m \u001b[0me\u001b[0m\u001b[0;34m:\u001b[0m\u001b[0;34m\u001b[0m\u001b[0;34m\u001b[0m\u001b[0m\n\u001b[1;32m     57\u001b[0m     \u001b[0;32mif\u001b[0m \u001b[0mname\u001b[0m \u001b[0;32mis\u001b[0m \u001b[0;32mnot\u001b[0m \u001b[0;32mNone\u001b[0m\u001b[0;34m:\u001b[0m\u001b[0;34m\u001b[0m\u001b[0;34m\u001b[0m\u001b[0m\n",
            "\u001b[0;31mKeyboardInterrupt\u001b[0m: "
          ]
        }
      ]
    },
    {
      "cell_type": "code",
      "source": [
        "scores = model.evaluate(x_test_lstm, y_test, verbose=0)\n",
        "print(\"Accuracy: %.2f%%\" % (scores[1]*100))"
      ],
      "metadata": {
        "id": "pKzLGJEFQg5k"
      },
      "execution_count": null,
      "outputs": []
    }
  ]
}