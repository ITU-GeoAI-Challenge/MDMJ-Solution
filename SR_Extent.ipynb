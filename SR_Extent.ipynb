{
  "cells": [
    {
      "cell_type": "code",
      "execution_count": null,
      "metadata": {
        "colab": {
          "base_uri": "https://localhost:8080/"
        },
        "id": "ZkQUF1e-IwDW",
        "outputId": "9769bad4-56ce-4431-fa25-a6fe7ab59e7a"
      },
      "outputs": [
        {
          "output_type": "stream",
          "name": "stdout",
          "text": [
            "Drive already mounted at /content/drive; to attempt to forcibly remount, call drive.mount(\"/content/drive\", force_remount=True).\n"
          ]
        }
      ],
      "source": [
        "import os\n",
        "import glob\n",
        "import sklearn\n",
        "import pandas as pd\n",
        "import numpy as np\n",
        "import gdal\n",
        "from google.colab import drive\n",
        "from google.colab import auth\n",
        "from sklearn.model_selection import train_test_split\n",
        "from sklearn import metrics #Import scikit-learn metrics module for accuracy calculation\n",
        "from sklearn.ensemble import RandomForestClassifier\n",
        "auth.authenticate_user()\n",
        "drive.mount(\"/content/drive\")"
      ]
    },
    {
      "cell_type": "markdown",
      "metadata": {
        "id": "QK-G2XFTvjJ6"
      },
      "source": [
        "## **1. Reading geotiff file and samples**"
      ]
    },
    {
      "cell_type": "code",
      "execution_count": null,
      "metadata": {
        "id": "J85R0-4-JMLU"
      },
      "outputs": [],
      "source": [
        "#function to read geotiff\n",
        "def readtiff(filename):\n",
        "    # @ file name to read\n",
        "    file = gdal.Open(filename, gdal.GA_ReadOnly)\n",
        "    band_number = file.RasterCount\n",
        "    #print(band_number)\n",
        "    #data = file.GetRasterBand(0,23)\n",
        "    #print(data)\n",
        "    array = file.ReadAsArray()\n",
        "    return array"
      ]
    },
    {
      "cell_type": "code",
      "execution_count": null,
      "metadata": {
        "id": "DadTmUixJQTu"
      },
      "outputs": [],
      "source": [
        "#read RS data\n",
        "RS_file = '/content/drive/MyDrive/Senior Design/Competition /Dataset/Competition_Dataset/LK/LK_NDVI.tif'\n",
        "array_NDVI = readtiff(RS_file)\n",
        "array_shape = array_NDVI.shape\n",
        "array_result = np.zeros((array_shape[1],array_shape[2]),dtype=int)\n",
        "file_geo = gdal.Open(RS_file, gdal.GA_ReadOnly)"
      ]
    },
    {
      "cell_type": "code",
      "execution_count": null,
      "metadata": {
        "id": "j-_mFMmSJ1xr"
      },
      "outputs": [],
      "source": [
        "df_crop = pd.read_csv('/content/drive/MyDrive/Senior Design/Competition /Samples/SR_samples/SR_cropland_samples.csv', sep=',', header=None)\n",
        "df_crop = df_crop.drop([0, 25], axis=1)\n",
        "new_header = df_crop.iloc[0]\n",
        "df_crop = df_crop[1:] \n",
        "df_crop.columns = new_header\n",
        "df_noncrop = pd.read_csv('/content/drive/MyDrive/Senior Design/Competition /Samples/SR_samples/SR_noncropland_samples.csv', sep=',', header=None)\n",
        "df_noncrop = df_noncrop.drop([0, 25], axis=1)\n",
        "new_header = df_noncrop.iloc[0]\n",
        "df_noncrop = df_noncrop[1:] \n",
        "df_noncrop.columns = new_header"
      ]
    },
    {
      "cell_type": "markdown",
      "metadata": {
        "id": "eykkN610v6wB"
      },
      "source": [
        "# **2. Pre-processing and NDVI reconstruction**"
      ]
    },
    {
      "cell_type": "code",
      "execution_count": null,
      "metadata": {
        "id": "aCTx_B81JtCZ"
      },
      "outputs": [],
      "source": [
        "from scipy.signal import savgol_filter\n",
        "def ndvi_reconstruct(df):\n",
        "  for i in range(len(df)):\n",
        "    smoothed_NDVI = savgol_filter(df.iloc[i], window_length = 3, polyorder = 2)\n",
        "    df.iloc[i] = smoothed_NDVI\n",
        "    for j in range(len(df.columns)-1):\n",
        "       if df.iat[i,j] == 0 or  abs(df.iat[i,j-1] - df.iat[i,j]) > 4000 :\n",
        "              df.iat[i,j] = ((df.iloc[i][1]+df.iloc[i][len(df.columns)-1])/2.0)\n",
        "       if j == len(df.columns)-1:\n",
        "                df.iat[i,j] = ((df.iloc[i][j-1]+df.iloc[i][0])/2.0)\n",
        "       if j != 0 and j != len(df.columns) - 1:\n",
        "                df.iat[i,j] = ((df.iloc[i][j-1]+df.iloc[i][j+1])/2.0)\n",
        "  return df"
      ]
    },
    {
      "cell_type": "code",
      "execution_count": null,
      "metadata": {
        "id": "GDpbjZH5RaTk"
      },
      "outputs": [],
      "source": [
        "from sklearn import preprocessing\n",
        "def normalize(df):\n",
        "  scaler = preprocessing.MinMaxScaler(feature_range=(-1, 1))\n",
        "  names = df.columns\n",
        "  d = scaler.fit_transform(df)\n",
        "  scaled_df = pd.DataFrame(d, columns=names)\n",
        "  return scaled_df"
      ]
    },
    {
      "cell_type": "code",
      "execution_count": null,
      "metadata": {
        "id": "2blcjiSaLnBU",
        "colab": {
          "base_uri": "https://localhost:8080/",
          "height": 1000
        },
        "outputId": "6fb5312a-b010-42a6-dd91-1ebf1d28729a"
      },
      "outputs": [
        {
          "output_type": "display_data",
          "data": {
            "text/plain": [
              "<Figure size 432x288 with 1 Axes>"
            ],
            "image/png": "[encoded data removed]"
          },
          "metadata": {
            "needs_background": "light"
          }
        },
        {
          "output_type": "display_data",
          "data": {
            "text/plain": [
              "<Figure size 432x288 with 1 Axes>"
            ],
            "image/png": "[encoded data removed]"
          },
          "metadata": {
            "needs_background": "light"
          }
        },
        {
          "output_type": "display_data",
          "data": {
            "text/plain": [
              "<Figure size 432x288 with 1 Axes>"
            ],
            "image/png": "[encoded data removed]"
          },
          "metadata": {
            "needs_background": "light"
          }
        },
        {
          "output_type": "display_data",
          "data": {
            "text/plain": [
              "<Figure size 432x288 with 1 Axes>"
            ],
            "image/png": "[encoded data removed]"
          },
          "metadata": {
            "needs_background": "light"
          }
        }
      ],
      "source": [
        "import matplotlib.pyplot as plt\n",
        "from matplotlib import pyplot\n",
        "series = df_crop.astype(float).iloc[1]\n",
        "series.plot()\n",
        "plt.title(\"NDVI Time series of point 1\")\n",
        "plt.xlabel(\"image\")\n",
        "plt.ylabel(\"NDVI score\")\n",
        "plt.ylim([0, 9000])\n",
        "plt.xlim([0, 24])\n",
        "pyplot.show()\n",
        "df_crop = df_crop.astype(float)\n",
        "df_crop = ndvi_reconstruct(df_crop)\n",
        "series = df_crop.iloc[1]\n",
        "series.plot()\n",
        "plt.title(\"NDVI Time series of point 1\")\n",
        "plt.xlabel(\"image\")\n",
        "plt.ylabel(\"NDVI score\")\n",
        "plt.ylim([0, 9000])\n",
        "plt.xlim([0, 24])\n",
        "pyplot.show()\n",
        "\n",
        "series = df_noncrop.astype(float).iloc[20]\n",
        "series.plot()\n",
        "plt.title(\"NDVI Time series of point 1\")\n",
        "plt.xlabel(\"image\")\n",
        "plt.ylabel(\"NDVI score\")\n",
        "plt.ylim([-2000, 9000])\n",
        "plt.xlim([0, 24])\n",
        "pyplot.show()\n",
        "df_noncrop = df_noncrop.astype(float)\n",
        "df_noncrop = ndvi_reconstruct(df_noncrop)\n",
        "series = df_noncrop.iloc[1]\n",
        "series.plot()\n",
        "plt.title(\"NDVI Time series of point 1\")\n",
        "plt.xlabel(\"image\")\n",
        "plt.ylabel(\"NDVI score\")\n",
        "plt.ylim([-2000, 9000])\n",
        "plt.xlim([0, 24])\n",
        "pyplot.show()"
      ]
    },
    {
      "cell_type": "code",
      "execution_count": null,
      "metadata": {
        "id": "xApYqvahKeaE"
      },
      "outputs": [],
      "source": [
        "df_crop = ndvi_reconstruct(df_crop.astype(float))\n",
        "#df_crop = normalize(df_crop)\n",
        "df_crop['class'] = 1\n",
        "df_noncrop = ndvi_reconstruct(df_noncrop.astype(float))\n",
        "#df_noncrop = normalize(df_noncrop)\n",
        "df_noncrop['class'] = 0\n",
        "df = pd.concat([df_crop, df_noncrop])\n",
        "df = df.sample(frac = 1).reset_index(drop=True)"
      ]
    },
    {
      "cell_type": "code",
      "execution_count": null,
      "metadata": {
        "id": "IY8jIXfwL4ub"
      },
      "outputs": [],
      "source": [
        "from sklearn.model_selection import train_test_split\n",
        "from sklearn import metrics \n",
        "x=df.drop([\"class\"], axis = 1);\n",
        "y=df[\"class\"]\n",
        "x_train=[]\n",
        "y_train=[]\n",
        "x_test=[]\n",
        "y_test=[]\n",
        "x_train, x_test, y_train, y_test = train_test_split(x, y, test_size=0.33, shuffle=True )\n",
        "x_train=np.array(x_train).astype('int').reshape(100,24)\n",
        "y_train=np.array(y_train).astype('int').reshape(100)\n",
        "x_test=np.array(x_test).astype('int').reshape(50,24)\n",
        "y_test=np.array(y_test).astype('int').reshape(50)\n"
      ]
    },
    {
      "cell_type": "code",
      "execution_count": null,
      "metadata": {
        "id": "7h11nCpiMlSC",
        "colab": {
          "base_uri": "https://localhost:8080/"
        },
        "outputId": "a6d99f22-a2aa-420c-a4fc-fdc81558b2f0"
      },
      "outputs": [
        {
          "output_type": "stream",
          "name": "stdout",
          "text": [
            "              precision    recall  f1-score   support\n",
            "\n",
            "           0       0.78      0.90      0.84        20\n",
            "           1       0.93      0.83      0.88        30\n",
            "\n",
            "    accuracy                           0.86        50\n",
            "   macro avg       0.85      0.87      0.86        50\n",
            "weighted avg       0.87      0.86      0.86        50\n",
            "\n",
            "[[18  2]\n",
            " [ 5 25]]\n"
          ]
        }
      ],
      "source": [
        "from sklearn.ensemble import RandomForestClassifier \n",
        "from sklearn import ensemble\n",
        "rf = ensemble.RandomForestClassifier(100).fit(x_train, y_train)\n",
        "expected_y  = y_test\n",
        "predicted_y = rf.predict(x_test)\n",
        "print(metrics.classification_report(expected_y, predicted_y))\n",
        "print(metrics.confusion_matrix(expected_y, predicted_y))"
      ]
    },
    {
      "cell_type": "code",
      "execution_count": null,
      "metadata": {
        "id": "f9PgjDLPNj_s",
        "colab": {
          "base_uri": "https://localhost:8080/",
          "height": 1000
        },
        "outputId": "ce07b922-d0b0-4342-a14c-56c6d0beeb35"
      },
      "outputs": [
        {
          "output_type": "stream",
          "name": "stdout",
          "text": [
            "Looking in indexes: https://pypi.org/simple, https://us-python.pkg.dev/colab-wheels/public/simple/\n",
            "Collecting geemap\n",
            "  Downloading geemap-0.17.1-py2.py3-none-any.whl (2.1 MB)\n",
            "\u001b[K     |████████████████████████████████| 2.1 MB 37.8 MB/s \n",
            "\u001b[?25hCollecting ee-extra>=0.0.10\n",
            "  Downloading ee_extra-0.0.14.tar.gz (198 kB)\n",
            "\u001b[K     |████████████████████████████████| 198 kB 54.2 MB/s \n",
            "\u001b[?25hCollecting colour\n",
            "  Downloading colour-0.1.5-py2.py3-none-any.whl (23 kB)\n",
            "Collecting ipyfilechooser>=0.6.0\n",
            "  Downloading ipyfilechooser-0.6.0-py3-none-any.whl (11 kB)\n",
            "Collecting ffmpeg-python\n",
            "  Downloading ffmpeg_python-0.2.0-py3-none-any.whl (25 kB)\n",
            "Collecting ipytree\n",
            "  Downloading ipytree-0.2.2-py2.py3-none-any.whl (1.3 MB)\n",
            "\u001b[K     |████████████████████████████████| 1.3 MB 66.3 MB/s \n",
            "\u001b[?25hCollecting ipyevents\n",
            "  Downloading ipyevents-2.0.1-py2.py3-none-any.whl (130 kB)\n",
            "\u001b[K     |████████████████████████████████| 130 kB 56.4 MB/s \n",
            "\u001b[?25hCollecting pycrs\n",
            "  Downloading PyCRS-1.0.2.tar.gz (36 kB)\n",
            "Collecting geojson\n",
            "  Downloading geojson-2.5.0-py2.py3-none-any.whl (14 kB)\n",
            "Collecting jupyterlab>=3\n",
            "  Downloading jupyterlab-3.4.8-py3-none-any.whl (8.8 MB)\n",
            "\u001b[K     |████████████████████████████████| 8.8 MB 50.9 MB/s \n",
            "\u001b[?25hCollecting whiteboxgui>=0.6.0\n",
            "  Downloading whiteboxgui-0.7.0-py2.py3-none-any.whl (99 kB)\n",
            "\u001b[K     |████████████████████████████████| 99 kB 9.2 MB/s \n",
            "\u001b[?25hCollecting geeadd>=0.5.1\n",
            "  Downloading geeadd-0.5.6-py3-none-any.whl (30 kB)\n",
            "Requirement already satisfied: numpy in /usr/local/lib/python3.7/dist-packages (from geemap) (1.21.6)\n",
            "Requirement already satisfied: pandas in /usr/local/lib/python3.7/dist-packages (from geemap) (1.3.5)\n",
            "Requirement already satisfied: matplotlib in /usr/local/lib/python3.7/dist-packages (from geemap) (3.2.2)\n",
            "Collecting scooby\n",
            "  Downloading scooby-0.6.0-py3-none-any.whl (14 kB)\n",
            "Requirement already satisfied: earthengine-api>=0.1.304 in /usr/local/lib/python3.7/dist-packages (from geemap) (0.1.326)\n",
            "Requirement already satisfied: pillow in /usr/local/lib/python3.7/dist-packages (from geemap) (7.1.2)\n",
            "Collecting geocoder\n",
            "  Downloading geocoder-1.38.1-py2.py3-none-any.whl (98 kB)\n",
            "\u001b[K     |████████████████████████████████| 98 kB 8.2 MB/s \n",
            "\u001b[?25hRequirement already satisfied: gdown in /usr/local/lib/python3.7/dist-packages (from geemap) (4.4.0)\n",
            "Collecting python-box\n",
            "  Downloading python_box-6.0.2-cp37-cp37m-manylinux_2_17_x86_64.manylinux2014_x86_64.whl (3.0 MB)\n",
            "\u001b[K     |████████████████████████████████| 3.0 MB 51.0 MB/s \n",
            "\u001b[?25hCollecting ipyleaflet>=0.17.0\n",
            "  Downloading ipyleaflet-0.17.1-py3-none-any.whl (3.4 MB)\n",
            "\u001b[K     |████████████████████████████████| 3.4 MB 62.2 MB/s \n",
            "\u001b[?25hCollecting pyshp>=2.1.3\n",
            "  Downloading pyshp-2.3.1-py2.py3-none-any.whl (46 kB)\n",
            "\u001b[K     |████████████████████████████████| 46 kB 3.6 MB/s \n",
            "\u001b[?25hCollecting bqplot\n",
            "  Downloading bqplot-0.12.36-py2.py3-none-any.whl (1.2 MB)\n",
            "\u001b[K     |████████████████████████████████| 1.2 MB 53.5 MB/s \n",
            "\u001b[?25hRequirement already satisfied: folium>=0.11.0 in /usr/local/lib/python3.7/dist-packages (from geemap) (0.12.1.post1)\n",
            "Collecting sankee>=0.1.0\n",
            "  Downloading sankee-0.2.0.tar.gz (29 kB)\n",
            "Collecting xyzservices\n",
            "  Downloading xyzservices-2022.9.0-py3-none-any.whl (55 kB)\n",
            "\u001b[K     |████████████████████████████████| 55 kB 4.3 MB/s \n",
            "\u001b[?25hRequirement already satisfied: google-api-python-client<2,>=1.12.1 in /usr/local/lib/python3.7/dist-packages (from earthengine-api>=0.1.304->geemap) (1.12.11)\n",
            "Requirement already satisfied: future in /usr/local/lib/python3.7/dist-packages (from earthengine-api>=0.1.304->geemap) (0.16.0)\n",
            "Requirement already satisfied: six in /usr/local/lib/python3.7/dist-packages (from earthengine-api>=0.1.304->geemap) (1.15.0)\n",
            "Requirement already satisfied: google-cloud-storage in /usr/local/lib/python3.7/dist-packages (from earthengine-api>=0.1.304->geemap) (1.18.1)\n",
            "Requirement already satisfied: httplib2shim in /usr/local/lib/python3.7/dist-packages (from earthengine-api>=0.1.304->geemap) (0.0.3)\n",
            "Requirement already satisfied: google-auth-httplib2>=0.0.3 in /usr/local/lib/python3.7/dist-packages (from earthengine-api>=0.1.304->geemap) (0.0.4)\n",
            "Requirement already satisfied: google-auth>=1.4.1 in /usr/local/lib/python3.7/dist-packages (from earthengine-api>=0.1.304->geemap) (1.35.0)\n",
            "Requirement already satisfied: httplib2<1dev,>=0.9.2 in /usr/local/lib/python3.7/dist-packages (from earthengine-api>=0.1.304->geemap) (0.17.4)\n",
            "Requirement already satisfied: jinja2>=2.9 in /usr/local/lib/python3.7/dist-packages (from folium>=0.11.0->geemap) (2.11.3)\n",
            "Requirement already satisfied: branca>=0.3.0 in /usr/local/lib/python3.7/dist-packages (from folium>=0.11.0->geemap) (0.5.0)\n",
            "Requirement already satisfied: requests in /usr/local/lib/python3.7/dist-packages (from folium>=0.11.0->geemap) (2.23.0)\n",
            "Collecting beautifulsoup4>=4.9.0\n",
            "  Downloading beautifulsoup4-4.11.1-py3-none-any.whl (128 kB)\n",
            "\u001b[K     |████████████████████████████████| 128 kB 73.2 MB/s \n",
            "\u001b[?25hCollecting logzero>=1.5.0\n",
            "  Downloading logzero-1.7.0-py2.py3-none-any.whl (16 kB)\n",
            "Collecting soupsieve>1.2\n",
            "  Downloading soupsieve-2.3.2.post1-py3-none-any.whl (37 kB)\n",
            "Requirement already satisfied: google-api-core<3dev,>=1.21.0 in /usr/local/lib/python3.7/dist-packages (from google-api-python-client<2,>=1.12.1->earthengine-api>=0.1.304->geemap) (1.31.6)\n",
            "Requirement already satisfied: uritemplate<4dev,>=3.0.0 in /usr/local/lib/python3.7/dist-packages (from google-api-python-client<2,>=1.12.1->earthengine-api>=0.1.304->geemap) (3.0.1)\n",
            "Requirement already satisfied: protobuf<4.0.0dev,>=3.12.0 in /usr/local/lib/python3.7/dist-packages (from google-api-core<3dev,>=1.21.0->google-api-python-client<2,>=1.12.1->earthengine-api>=0.1.304->geemap) (3.17.3)\n",
            "Requirement already satisfied: pytz in /usr/local/lib/python3.7/dist-packages (from google-api-core<3dev,>=1.21.0->google-api-python-client<2,>=1.12.1->earthengine-api>=0.1.304->geemap) (2022.4)\n",
            "Requirement already satisfied: setuptools>=40.3.0 in /usr/local/lib/python3.7/dist-packages (from google-api-core<3dev,>=1.21.0->google-api-python-client<2,>=1.12.1->earthengine-api>=0.1.304->geemap) (57.4.0)\n",
            "Requirement already satisfied: googleapis-common-protos<2.0dev,>=1.6.0 in /usr/local/lib/python3.7/dist-packages (from google-api-core<3dev,>=1.21.0->google-api-python-client<2,>=1.12.1->earthengine-api>=0.1.304->geemap) (1.56.4)\n",
            "Requirement already satisfied: packaging>=14.3 in /usr/local/lib/python3.7/dist-packages (from google-api-core<3dev,>=1.21.0->google-api-python-client<2,>=1.12.1->earthengine-api>=0.1.304->geemap) (21.3)\n",
            "Requirement already satisfied: cachetools<5.0,>=2.0.0 in /usr/local/lib/python3.7/dist-packages (from google-auth>=1.4.1->earthengine-api>=0.1.304->geemap) (4.2.4)\n",
            "Requirement already satisfied: pyasn1-modules>=0.2.1 in /usr/local/lib/python3.7/dist-packages (from google-auth>=1.4.1->earthengine-api>=0.1.304->geemap) (0.2.8)\n",
            "Requirement already satisfied: rsa<5,>=3.1.4 in /usr/local/lib/python3.7/dist-packages (from google-auth>=1.4.1->earthengine-api>=0.1.304->geemap) (4.9)\n",
            "Requirement already satisfied: ipywidgets in /usr/local/lib/python3.7/dist-packages (from ipyfilechooser>=0.6.0->geemap) (7.7.1)\n",
            "Collecting traittypes<3,>=0.2.1\n",
            "  Downloading traittypes-0.2.1-py2.py3-none-any.whl (8.6 kB)\n",
            "Requirement already satisfied: ipykernel>=4.5.1 in /usr/local/lib/python3.7/dist-packages (from ipywidgets->ipyfilechooser>=0.6.0->geemap) (5.3.4)\n",
            "Requirement already satisfied: widgetsnbextension~=3.6.0 in /usr/local/lib/python3.7/dist-packages (from ipywidgets->ipyfilechooser>=0.6.0->geemap) (3.6.1)\n",
            "Requirement already satisfied: traitlets>=4.3.1 in /usr/local/lib/python3.7/dist-packages (from ipywidgets->ipyfilechooser>=0.6.0->geemap) (5.1.1)\n",
            "Requirement already satisfied: ipython>=4.0.0 in /usr/local/lib/python3.7/dist-packages (from ipywidgets->ipyfilechooser>=0.6.0->geemap) (7.9.0)\n",
            "Requirement already satisfied: jupyterlab-widgets>=1.0.0 in /usr/local/lib/python3.7/dist-packages (from ipywidgets->ipyfilechooser>=0.6.0->geemap) (3.0.3)\n",
            "Requirement already satisfied: ipython-genutils~=0.2.0 in /usr/local/lib/python3.7/dist-packages (from ipywidgets->ipyfilechooser>=0.6.0->geemap) (0.2.0)\n",
            "Requirement already satisfied: tornado>=4.2 in /usr/local/lib/python3.7/dist-packages (from ipykernel>=4.5.1->ipywidgets->ipyfilechooser>=0.6.0->geemap) (5.1.1)\n",
            "Requirement already satisfied: jupyter-client in /usr/local/lib/python3.7/dist-packages (from ipykernel>=4.5.1->ipywidgets->ipyfilechooser>=0.6.0->geemap) (6.1.12)\n",
            "Requirement already satisfied: prompt-toolkit<2.1.0,>=2.0.0 in /usr/local/lib/python3.7/dist-packages (from ipython>=4.0.0->ipywidgets->ipyfilechooser>=0.6.0->geemap) (2.0.10)\n",
            "Requirement already satisfied: backcall in /usr/local/lib/python3.7/dist-packages (from ipython>=4.0.0->ipywidgets->ipyfilechooser>=0.6.0->geemap) (0.2.0)\n",
            "Collecting jedi>=0.10\n",
            "  Downloading jedi-0.18.1-py2.py3-none-any.whl (1.6 MB)\n",
            "\u001b[K     |████████████████████████████████| 1.6 MB 54.1 MB/s \n",
            "\u001b[?25hRequirement already satisfied: pygments in /usr/local/lib/python3.7/dist-packages (from ipython>=4.0.0->ipywidgets->ipyfilechooser>=0.6.0->geemap) (2.6.1)\n",
            "Requirement already satisfied: decorator in /usr/local/lib/python3.7/dist-packages (from ipython>=4.0.0->ipywidgets->ipyfilechooser>=0.6.0->geemap) (4.4.2)\n",
            "Requirement already satisfied: pexpect in /usr/local/lib/python3.7/dist-packages (from ipython>=4.0.0->ipywidgets->ipyfilechooser>=0.6.0->geemap) (4.8.0)\n",
            "Requirement already satisfied: pickleshare in /usr/local/lib/python3.7/dist-packages (from ipython>=4.0.0->ipywidgets->ipyfilechooser>=0.6.0->geemap) (0.7.5)\n",
            "Requirement already satisfied: parso<0.9.0,>=0.8.0 in /usr/local/lib/python3.7/dist-packages (from jedi>=0.10->ipython>=4.0.0->ipywidgets->ipyfilechooser>=0.6.0->geemap) (0.8.3)\n",
            "Requirement already satisfied: MarkupSafe>=0.23 in /usr/local/lib/python3.7/dist-packages (from jinja2>=2.9->folium>=0.11.0->geemap) (2.0.1)\n",
            "Requirement already satisfied: tomli in /usr/local/lib/python3.7/dist-packages (from jupyterlab>=3->geemap) (2.0.1)\n",
            "Collecting jupyterlab-server~=2.10\n",
            "  Downloading jupyterlab_server-2.16.0-py3-none-any.whl (54 kB)\n",
            "\u001b[K     |████████████████████████████████| 54 kB 2.5 MB/s \n",
            "\u001b[?25hCollecting tornado>=4.2\n",
            "  Downloading tornado-6.2-cp37-abi3-manylinux_2_5_x86_64.manylinux1_x86_64.manylinux_2_17_x86_64.manylinux2014_x86_64.whl (423 kB)\n",
            "\u001b[K     |████████████████████████████████| 423 kB 79.0 MB/s \n",
            "\u001b[?25hCollecting jupyter-server~=1.16\n",
            "  Downloading jupyter_server-1.21.0-py3-none-any.whl (346 kB)\n",
            "\u001b[K     |████████████████████████████████| 346 kB 73.2 MB/s \n",
            "\u001b[?25hRequirement already satisfied: jupyter-core in /usr/local/lib/python3.7/dist-packages (from jupyterlab>=3->geemap) (4.11.1)\n",
            "Collecting nbclassic\n",
            "  Downloading nbclassic-0.4.6-py3-none-any.whl (9.8 MB)\n",
            "\u001b[K     |████████████████████████████████| 9.8 MB 70.2 MB/s \n",
            "\u001b[?25hRequirement already satisfied: notebook<7 in /usr/local/lib/python3.7/dist-packages (from jupyterlab>=3->geemap) (5.5.0)\n",
            "Collecting prometheus-client\n",
            "  Downloading prometheus_client-0.15.0-py3-none-any.whl (60 kB)\n",
            "\u001b[K     |████████████████████████████████| 60 kB 7.5 MB/s \n",
            "\u001b[?25hRequirement already satisfied: nbformat>=5.2.0 in /usr/local/lib/python3.7/dist-packages (from jupyter-server~=1.16->jupyterlab>=3->geemap) (5.7.0)\n",
            "Collecting websocket-client\n",
            "  Downloading websocket_client-1.4.1-py3-none-any.whl (55 kB)\n",
            "\u001b[K     |████████████████████████████████| 55 kB 3.3 MB/s \n",
            "\u001b[?25hCollecting nbconvert>=6.4.4\n",
            "  Downloading nbconvert-7.2.1-py3-none-any.whl (271 kB)\n",
            "\u001b[K     |████████████████████████████████| 271 kB 60.1 MB/s \n",
            "\u001b[?25hRequirement already satisfied: Send2Trash in /usr/local/lib/python3.7/dist-packages (from jupyter-server~=1.16->jupyterlab>=3->geemap) (1.8.0)\n",
            "Collecting argon2-cffi\n",
            "  Downloading argon2_cffi-21.3.0-py3-none-any.whl (14 kB)\n",
            "Requirement already satisfied: pyzmq>=17 in /usr/local/lib/python3.7/dist-packages (from jupyter-server~=1.16->jupyterlab>=3->geemap) (23.2.1)\n",
            "Requirement already satisfied: terminado>=0.8.3 in /usr/local/lib/python3.7/dist-packages (from jupyter-server~=1.16->jupyterlab>=3->geemap) (0.13.3)\n",
            "Collecting anyio<4,>=3.1.0\n",
            "  Downloading anyio-3.6.1-py3-none-any.whl (80 kB)\n",
            "\u001b[K     |████████████████████████████████| 80 kB 8.6 MB/s \n",
            "\u001b[?25hCollecting sniffio>=1.1\n",
            "  Downloading sniffio-1.3.0-py3-none-any.whl (10 kB)\n",
            "Requirement already satisfied: typing-extensions in /usr/local/lib/python3.7/dist-packages (from anyio<4,>=3.1.0->jupyter-server~=1.16->jupyterlab>=3->geemap) (4.1.1)\n",
            "Requirement already satisfied: idna>=2.8 in /usr/local/lib/python3.7/dist-packages (from anyio<4,>=3.1.0->jupyter-server~=1.16->jupyterlab>=3->geemap) (2.10)\n",
            "Requirement already satisfied: python-dateutil>=2.1 in /usr/local/lib/python3.7/dist-packages (from jupyter-client->ipykernel>=4.5.1->ipywidgets->ipyfilechooser>=0.6.0->geemap) (2.8.2)\n",
            "Requirement already satisfied: importlib-metadata>=4.8.3 in /usr/local/lib/python3.7/dist-packages (from jupyterlab-server~=2.10->jupyterlab>=3->geemap) (5.0.0)\n",
            "Collecting jinja2>=2.9\n",
            "  Downloading Jinja2-3.1.2-py3-none-any.whl (133 kB)\n",
            "\u001b[K     |████████████████████████████████| 133 kB 71.2 MB/s \n",
            "\u001b[?25hRequirement already satisfied: babel in /usr/local/lib/python3.7/dist-packages (from jupyterlab-server~=2.10->jupyterlab>=3->geemap) (2.10.3)\n",
            "Requirement already satisfied: jsonschema>=3.0.1 in /usr/local/lib/python3.7/dist-packages (from jupyterlab-server~=2.10->jupyterlab>=3->geemap) (4.3.3)\n",
            "Collecting json5\n",
            "  Downloading json5-0.9.10-py2.py3-none-any.whl (19 kB)\n",
            "Requirement already satisfied: zipp>=0.5 in /usr/local/lib/python3.7/dist-packages (from importlib-metadata>=4.8.3->jupyterlab-server~=2.10->jupyterlab>=3->geemap) (3.9.0)\n",
            "Requirement already satisfied: importlib-resources>=1.4.0 in /usr/local/lib/python3.7/dist-packages (from jsonschema>=3.0.1->jupyterlab-server~=2.10->jupyterlab>=3->geemap) (5.10.0)\n",
            "Requirement already satisfied: attrs>=17.4.0 in /usr/local/lib/python3.7/dist-packages (from jsonschema>=3.0.1->jupyterlab-server~=2.10->jupyterlab>=3->geemap) (22.1.0)\n",
            "Requirement already satisfied: pyrsistent!=0.17.0,!=0.17.1,!=0.17.2,>=0.14.0 in /usr/local/lib/python3.7/dist-packages (from jsonschema>=3.0.1->jupyterlab-server~=2.10->jupyterlab>=3->geemap) (0.18.1)\n",
            "Requirement already satisfied: defusedxml in /usr/local/lib/python3.7/dist-packages (from nbconvert>=6.4.4->jupyter-server~=1.16->jupyterlab>=3->geemap) (0.7.1)\n",
            "Collecting nbclient>=0.5.0\n",
            "  Downloading nbclient-0.7.0-py3-none-any.whl (71 kB)\n",
            "\u001b[K     |████████████████████████████████| 71 kB 208 kB/s \n",
            "\u001b[?25hCollecting jupyterlab-pygments\n",
            "  Downloading jupyterlab_pygments-0.2.2-py2.py3-none-any.whl (21 kB)\n",
            "Collecting mistune<3,>=2.0.3\n",
            "  Downloading mistune-2.0.4-py2.py3-none-any.whl (24 kB)\n",
            "Collecting tinycss2\n",
            "  Downloading tinycss2-1.1.1-py3-none-any.whl (21 kB)\n",
            "Requirement already satisfied: pandocfilters>=1.4.1 in /usr/local/lib/python3.7/dist-packages (from nbconvert>=6.4.4->jupyter-server~=1.16->jupyterlab>=3->geemap) (1.5.0)\n",
            "Requirement already satisfied: bleach in /usr/local/lib/python3.7/dist-packages (from nbconvert>=6.4.4->jupyter-server~=1.16->jupyterlab>=3->geemap) (5.0.1)\n",
            "Collecting traitlets>=4.3.1\n",
            "  Downloading traitlets-5.4.0-py3-none-any.whl (107 kB)\n",
            "\u001b[K     |████████████████████████████████| 107 kB 86.2 MB/s \n",
            "\u001b[?25hCollecting nest-asyncio\n",
            "  Downloading nest_asyncio-1.5.6-py3-none-any.whl (5.2 kB)\n",
            "Requirement already satisfied: fastjsonschema in /usr/local/lib/python3.7/dist-packages (from nbformat>=5.2.0->jupyter-server~=1.16->jupyterlab>=3->geemap) (2.16.2)\n",
            "Requirement already satisfied: pyparsing!=3.0.5,>=2.0.2 in /usr/local/lib/python3.7/dist-packages (from packaging>=14.3->google-api-core<3dev,>=1.21.0->google-api-python-client<2,>=1.12.1->earthengine-api>=0.1.304->geemap) (3.0.9)\n",
            "Requirement already satisfied: wcwidth in /usr/local/lib/python3.7/dist-packages (from prompt-toolkit<2.1.0,>=2.0.0->ipython>=4.0.0->ipywidgets->ipyfilechooser>=0.6.0->geemap) (0.2.5)\n",
            "Requirement already satisfied: pyasn1<0.5.0,>=0.4.6 in /usr/local/lib/python3.7/dist-packages (from pyasn1-modules>=0.2.1->google-auth>=1.4.1->earthengine-api>=0.1.304->geemap) (0.4.8)\n",
            "Requirement already satisfied: certifi>=2017.4.17 in /usr/local/lib/python3.7/dist-packages (from requests->folium>=0.11.0->geemap) (2022.9.24)\n",
            "Requirement already satisfied: urllib3!=1.25.0,!=1.25.1,<1.26,>=1.21.1 in /usr/local/lib/python3.7/dist-packages (from requests->folium>=0.11.0->geemap) (1.24.3)\n",
            "Requirement already satisfied: chardet<4,>=3.0.2 in /usr/local/lib/python3.7/dist-packages (from requests->folium>=0.11.0->geemap) (3.0.4)\n",
            "Requirement already satisfied: plotly>=5.2.2 in /usr/local/lib/python3.7/dist-packages (from sankee>=0.1.0->geemap) (5.5.0)\n",
            "Requirement already satisfied: tenacity>=6.2.0 in /usr/local/lib/python3.7/dist-packages (from plotly>=5.2.2->sankee>=0.1.0->geemap) (8.1.0)\n",
            "Requirement already satisfied: ptyprocess in /usr/local/lib/python3.7/dist-packages (from terminado>=0.8.3->jupyter-server~=1.16->jupyterlab>=3->geemap) (0.7.0)\n",
            "Collecting whitebox\n",
            "  Downloading whitebox-2.1.4-py2.py3-none-any.whl (75 kB)\n",
            "\u001b[K     |████████████████████████████████| 75 kB 5.5 MB/s \n",
            "\u001b[?25hCollecting argon2-cffi-bindings\n",
            "  Downloading argon2_cffi_bindings-21.2.0-cp36-abi3-manylinux_2_17_x86_64.manylinux2014_x86_64.whl (86 kB)\n",
            "\u001b[K     |████████████████████████████████| 86 kB 5.4 MB/s \n",
            "\u001b[?25hRequirement already satisfied: cffi>=1.0.1 in /usr/local/lib/python3.7/dist-packages (from argon2-cffi-bindings->argon2-cffi->jupyter-server~=1.16->jupyterlab>=3->geemap) (1.15.1)\n",
            "Requirement already satisfied: pycparser in /usr/local/lib/python3.7/dist-packages (from cffi>=1.0.1->argon2-cffi-bindings->argon2-cffi->jupyter-server~=1.16->jupyterlab>=3->geemap) (2.21)\n",
            "Requirement already satisfied: webencodings in /usr/local/lib/python3.7/dist-packages (from bleach->nbconvert>=6.4.4->jupyter-server~=1.16->jupyterlab>=3->geemap) (0.5.1)\n",
            "Requirement already satisfied: tqdm in /usr/local/lib/python3.7/dist-packages (from gdown->geemap) (4.64.1)\n",
            "Requirement already satisfied: filelock in /usr/local/lib/python3.7/dist-packages (from gdown->geemap) (3.8.0)\n",
            "Requirement already satisfied: click in /usr/local/lib/python3.7/dist-packages (from geocoder->geemap) (7.1.2)\n",
            "Collecting ratelim\n",
            "  Downloading ratelim-0.1.6-py2.py3-none-any.whl (4.0 kB)\n",
            "Requirement already satisfied: google-cloud-core<2.0dev,>=1.0.0 in /usr/local/lib/python3.7/dist-packages (from google-cloud-storage->earthengine-api>=0.1.304->geemap) (1.0.3)\n",
            "Requirement already satisfied: google-resumable-media<0.5.0dev,>=0.3.1 in /usr/local/lib/python3.7/dist-packages (from google-cloud-storage->earthengine-api>=0.1.304->geemap) (0.4.1)\n",
            "Requirement already satisfied: kiwisolver>=1.0.1 in /usr/local/lib/python3.7/dist-packages (from matplotlib->geemap) (1.4.4)\n",
            "Requirement already satisfied: cycler>=0.10 in /usr/local/lib/python3.7/dist-packages (from matplotlib->geemap) (0.11.0)\n",
            "Collecting notebook-shim>=0.1.0\n",
            "  Downloading notebook_shim-0.1.0-py3-none-any.whl (13 kB)\n",
            "Requirement already satisfied: PySocks!=1.5.7,>=1.5.6 in /usr/local/lib/python3.7/dist-packages (from requests->folium>=0.11.0->geemap) (1.7.1)\n",
            "Building wheels for collected packages: ee-extra, sankee, pycrs\n",
            "  Building wheel for ee-extra (setup.py) ... \u001b[?25l\u001b[?25hdone\n",
            "  Created wheel for ee-extra: filename=ee_extra-0.0.14-py3-none-any.whl size=209114 sha256=ae0c55f010222863a49b004bf4f9b7dd5f76f8661f06f1295bd2e08152c43743\n",
            "  Stored in directory: /root/.cache/pip/wheels/50/1f/56/c638a525bcb6972c82e422747430d756edea7d57b539229bb3\n",
            "  Building wheel for sankee (setup.py) ... \u001b[?25l\u001b[?25hdone\n",
            "  Created wheel for sankee: filename=sankee-0.2.0-py3-none-any.whl size=28745 sha256=b880b0085a078dd2765b05c354a035b69d1e71e6724f7bb84d9017dd3a86f96b\n",
            "  Stored in directory: /root/.cache/pip/wheels/36/b4/ac/84c3f06e5c44d3fe5029713232438862881e6e1f26657d5fd8\n",
            "  Building wheel for pycrs (setup.py) ... \u001b[?25l\u001b[?25hdone\n",
            "  Created wheel for pycrs: filename=PyCRS-1.0.2-py3-none-any.whl size=32704 sha256=a90a64ff83451e37e32e2a5d1fd1c7ae4579c32cdbb99646ada070432c78dd56\n",
            "  Stored in directory: /root/.cache/pip/wheels/3e/ce/32/1ec0aba6b9770681a423e82f0274c57d09ad2c20c2864901f9\n",
            "Successfully built ee-extra sankee pycrs\n",
            "Installing collected packages: traitlets, tornado, soupsieve, nest-asyncio, jedi, tinycss2, nbclient, mistune, jupyterlab-pygments, jinja2, beautifulsoup4, sniffio, nbconvert, argon2-cffi-bindings, websocket-client, prometheus-client, argon2-cffi, anyio, jupyter-server, notebook-shim, json5, xyzservices, whitebox, traittypes, ratelim, nbclassic, logzero, jupyterlab-server, ipytree, ipyfilechooser, whiteboxgui, scooby, sankee, python-box, pyshp, pycrs, jupyterlab, ipyleaflet, ipyevents, geojson, geocoder, geeadd, ffmpeg-python, ee-extra, colour, bqplot, geemap\n",
            "  Attempting uninstall: traitlets\n",
            "    Found existing installation: traitlets 5.1.1\n",
            "    Uninstalling traitlets-5.1.1:\n",
            "      Successfully uninstalled traitlets-5.1.1\n",
            "  Attempting uninstall: tornado\n",
            "    Found existing installation: tornado 5.1.1\n",
            "    Uninstalling tornado-5.1.1:\n",
            "      Successfully uninstalled tornado-5.1.1\n",
            "  Attempting uninstall: mistune\n",
            "    Found existing installation: mistune 0.8.4\n",
            "    Uninstalling mistune-0.8.4:\n",
            "      Successfully uninstalled mistune-0.8.4\n",
            "  Attempting uninstall: jinja2\n",
            "    Found existing installation: Jinja2 2.11.3\n",
            "    Uninstalling Jinja2-2.11.3:\n",
            "      Successfully uninstalled Jinja2-2.11.3\n",
            "  Attempting uninstall: beautifulsoup4\n",
            "    Found existing installation: beautifulsoup4 4.6.3\n",
            "    Uninstalling beautifulsoup4-4.6.3:\n",
            "      Successfully uninstalled beautifulsoup4-4.6.3\n",
            "  Attempting uninstall: nbconvert\n",
            "    Found existing installation: nbconvert 5.6.1\n",
            "    Uninstalling nbconvert-5.6.1:\n",
            "      Successfully uninstalled nbconvert-5.6.1\n",
            "\u001b[31mERROR: pip's dependency resolver does not currently take into account all the packages that are installed. This behaviour is the source of the following dependency conflicts.\n",
            "google-colab 1.0.0 requires tornado~=5.1.0, but you have tornado 6.2 which is incompatible.\n",
            "flask 1.1.4 requires Jinja2<3.0,>=2.10.1, but you have jinja2 3.1.2 which is incompatible.\u001b[0m\n",
            "Successfully installed anyio-3.6.1 argon2-cffi-21.3.0 argon2-cffi-bindings-21.2.0 beautifulsoup4-4.11.1 bqplot-0.12.36 colour-0.1.5 ee-extra-0.0.14 ffmpeg-python-0.2.0 geeadd-0.5.6 geemap-0.17.1 geocoder-1.38.1 geojson-2.5.0 ipyevents-2.0.1 ipyfilechooser-0.6.0 ipyleaflet-0.17.1 ipytree-0.2.2 jedi-0.18.1 jinja2-3.1.2 json5-0.9.10 jupyter-server-1.21.0 jupyterlab-3.4.8 jupyterlab-pygments-0.2.2 jupyterlab-server-2.16.0 logzero-1.7.0 mistune-2.0.4 nbclassic-0.4.6 nbclient-0.7.0 nbconvert-7.2.1 nest-asyncio-1.5.6 notebook-shim-0.1.0 prometheus-client-0.15.0 pycrs-1.0.2 pyshp-2.3.1 python-box-6.0.2 ratelim-0.1.6 sankee-0.2.0 scooby-0.6.0 sniffio-1.3.0 soupsieve-2.3.2.post1 tinycss2-1.1.1 tornado-6.2 traitlets-5.4.0 traittypes-0.2.1 websocket-client-1.4.1 whitebox-2.1.4 whiteboxgui-0.7.0 xyzservices-2022.9.0\n"
          ]
        },
        {
          "output_type": "display_data",
          "data": {
            "application/vnd.colab-display-data+json": {
              "pip_warning": {
                "packages": [
                  "tornado"
                ]
              }
            }
          },
          "metadata": {}
        }
      ],
      "source": [
        "pip install geemap"
      ]
    },
    {
      "cell_type": "code",
      "execution_count": null,
      "metadata": {
        "id": "Wcj3CVHWOK3p"
      },
      "outputs": [],
      "source": [
        "import geemap\n",
        "import ee\n",
        "from geemap import ml\n",
        "geemap.ee_initialize()\n",
        "\n",
        "bands = ['nd_p100','nd_p100_1','nd_p100_2','nd_p100_3','nd_p100_4','nd_p100_5','nd_p100_6','nd_p100_7','nd_p100_8','nd_p100_9','nd_p100_10','nd_p100_11','nd_p100_12','nd_p100_13','nd_p100_14','nd_p100_15','nd_p100_16','nd_p100_17','nd_p100_18','nd_p100_19','nd_p100_20','nd_p100_21','nd_p100_22','nd_p100_23']\n",
        "label = \"class\"\n",
        "\n",
        "image = ee.Image('projects/ee-g00085636/assets/NDVI_SRI_LANKA_unmasked') #IRAN"
      ]
    },
    {
      "cell_type": "code",
      "execution_count": null,
      "metadata": {
        "id": "H8VbBuKHOcf4",
        "colab": {
          "base_uri": "https://localhost:8080/",
          "height": 621,
          "referenced_widgets": [
            "09d528f746b84d2b9ad3e87325921806",
            "2384241de70c4c7095d4f35dc3e353c1",
            "9224aa7e28534e28a382f6cebc4b1ace",
            "7498b0e320f042f1a26c3a5cc34c5c0e",
            "95e0099fa65444409042f0559aee96c4",
            "09fc41a5f50043608e0829d664e27a19",
            "c609b2633fc6468bad6938b9124e181c",
            "a5711e8eef4d40f392cf9bce513696de",
            "942e7f1a38c445618c0372a835e469eb",
            "9ae2693d283843eb9cd60453404a5db5",
            "3fb85b480f854b8eb16ff355d37d8a88",
            "8d21d9504b9b41b785991bc26b11e005",
            "77da3622bc86423cbe490abbd7ffaba9",
            "479a6957067f470da68955c04e39fa07",
            "a7abb994d7d445ba85a2eab55c011f14",
            "97ace875187348c68149abd070eb9427",
            "7b4019190c5e4245952f14365955bdc8",
            "74df864ac9e5400b9df3fb6513b85ccc",
            "170f5f66ef4e4f71aa382eef4de96ec5",
            "63d5b5ba1914487bafc325c3e33c4ade",
            "87b429a929fb4200a021ecdad325a422",
            "396bb928586e404288d635c09c6ab469",
            "f9e77fcbe1e046f2979f637891e30f06",
            "0b3ab4367c5c48e0acf82f94af944c94",
            "3c811da4a55149598a20f1fa80d6e086",
            "b91d5a86c80d4eebbb0af19e4c4697f5",
            "49009daf690e43adb23910248555afba",
            "9f7474859db546d2bbf1c61a3ad9086d",
            "680e263b2e634d4e85819a9101e8225f",
            "a9a8deb4e18d4db9a627e08447d4a3f4",
            "e510881762ca4bdc9d2c6d58fc654723",
            "24511ad02e764520bbcdde1899e5747d",
            "658c2d7c793641f3b274fc4366388282",
            "7f71ca054c984bf789bae0a1c408464f",
            "8420075fa6cb49749a2e8734001b6404",
            "0cb0c5c8780849bdae915b61f44908b6",
            "e9edd41c709a49eebd9953efbdca270e",
            "0ad3d7992cac42099e3a3993dcef31e5",
            "34e2b463d21148fa8d1ddbd74747e589",
            "11a2d69adb5746268611519fc02bac4e",
            "b4357db987f74066a90bdb3abab11680"
          ]
        },
        "outputId": "9e7afa2a-6287-4f85-ea9c-7bdd31c48a62"
      },
      "outputs": [
        {
          "output_type": "display_data",
          "data": {
            "text/plain": [
              "Map(center=[80.5, 8.5], controls=(WidgetControl(options=['position', 'transparent_bg'], widget=HBox(children=(…"
            ],
            "application/vnd.jupyter.widget-view+json": {
              "version_major": 2,
              "version_minor": 0,
              "model_id": "09d528f746b84d2b9ad3e87325921806"
            }
          },
          "metadata": {
            "application/vnd.jupyter.widget-view+json": {
              "colab": {
                "custom_widget_manager": {
                  "url": "https://ssl.gstatic.com/colaboratory-static/widgets/colab-cdn-widget-manager/d2e234f7cc04bf79/manager.min.js"
                }
              }
            }
          }
        }
      ],
      "source": [
        "trees = ml.rf_to_strings(rf, bands)\n",
        "ee_classifier = ml.strings_to_classifier(trees)\n",
        "classified = image.select(bands).classify(ee_classifier)\n",
        "Map = geemap.Map(center=(80.5,8.5),zoom=10)\n",
        "\n",
        "Map.addLayer(\n",
        "    image,\n",
        "    {\"bands\": ['nd_p100_2','nd_p100_5','nd_p100_7'], \"min\": -10000, \"max\": 10000, \"gamma\": 1.5},\n",
        "    'image',\n",
        ")\n",
        "Map.addLayer(\n",
        "    classified,\n",
        "    { \"palette\": ['#444444', '#e49635']},\n",
        "    'classification',\n",
        ")\n",
        "Map"
      ]
    },
    {
      "cell_type": "code",
      "execution_count": null,
      "metadata": {
        "id": "2zmjnHqh46uV"
      },
      "outputs": [],
      "source": [
        "df_crop = pd.read_csv('/content/drive/MyDrive/Senior Design/Competition /Samples/SR_samples/SR_cropland_samples.csv', sep=',', header=None)\n",
        "df_crop = df_crop.drop([0, 25], axis=1)\n",
        "new_header = df_crop.iloc[0]\n",
        "df_crop = df_crop[1:] \n",
        "df_crop.columns = new_header\n",
        "df_noncrop = pd.read_csv('/content/drive/MyDrive/Senior Design/Competition /Samples/SR_samples/SR_noncropland_samples.csv', sep=',', header=None)\n",
        "df_noncrop = df_noncrop.drop([0, 25], axis=1)\n",
        "new_header = df_noncrop.iloc[0]\n",
        "df_noncrop = df_noncrop[1:] \n",
        "df_noncrop.columns = new_header"
      ]
    },
    {
      "cell_type": "code",
      "execution_count": null,
      "metadata": {
        "id": "qAERdCOa46uW"
      },
      "outputs": [],
      "source": [
        "df_crop = ndvi_reconstruct(df_crop.astype(float))\n",
        "df_crop = normalize(df_crop)\n",
        "df_crop['class'] = 1\n",
        "df_noncrop = ndvi_reconstruct(df_noncrop.astype(float))\n",
        "df_noncrop = normalize(df_noncrop)\n",
        "df_noncrop['class'] = 0\n",
        "df = pd.concat([df_crop, df_noncrop])\n",
        "df = df.sample(frac = 1).reset_index(drop=True)"
      ]
    },
    {
      "cell_type": "code",
      "source": [
        "from sklearn.model_selection import train_test_split\n",
        "from sklearn import metrics \n",
        "x=df.drop([\"class\"], axis = 1);\n",
        "y=df[\"class\"]\n",
        "x_train=[]\n",
        "y_train=[]\n",
        "x_test=[]\n",
        "y_test=[]\n",
        "x_train, x_test, y_train, y_test = train_test_split(x, y, test_size=0.33, shuffle=True )\n",
        "x_train=np.array(x_train).astype('float').reshape(100,24)\n",
        "y_train=np.array(y_train).astype('float').reshape(100)\n",
        "x_test=np.array(x_test).astype('float').reshape(50,24)\n",
        "y_test=np.array(y_test).astype('float').reshape(50)\n"
      ],
      "metadata": {
        "id": "WbJagEtv5Lrb"
      },
      "execution_count": null,
      "outputs": []
    },
    {
      "cell_type": "code",
      "execution_count": null,
      "metadata": {
        "id": "GXDEHCTVNXSz"
      },
      "outputs": [],
      "source": [
        "x_train_lstm = x_train.reshape((x_train.shape[0],x_train.shape[1],1))\n",
        "x_test_lstm = x_test.reshape((x_test.shape[0],x_test.shape[1],1))"
      ]
    },
    {
      "cell_type": "code",
      "execution_count": null,
      "metadata": {
        "id": "Z6mriZbrNbgn"
      },
      "outputs": [],
      "source": [
        "from keras.metrics.metrics import accuracy\n",
        "from keras.models import Sequential\n",
        "from keras.layers import Dense\n",
        "from keras.layers import LSTM\n",
        "from keras.layers import Dropout\n",
        "\n",
        "n_steps = 24\n",
        "n_features = 1 \n",
        "# define model\n",
        "model = Sequential()\n",
        "model.add(LSTM(50, activation='relu', input_shape=(n_steps, n_features)))\n",
        "model.add(Dense(1))\n",
        "model.compile(optimizer='adam', loss='mse',metrics=['accuracy'],)"
      ]
    },
    {
      "cell_type": "code",
      "execution_count": null,
      "metadata": {
        "id": "sOuLv_WzUGkx",
        "colab": {
          "base_uri": "https://localhost:8080/"
        },
        "outputId": "2fcc7eeb-3a93-4332-b5cb-9685580977b8"
      },
      "outputs": [
        {
          "output_type": "stream",
          "name": "stdout",
          "text": [
            "Epoch 1/100\n",
            "4/4 [==============================] - 2s 8ms/step - loss: 0.4990 - accuracy: 0.5000\n",
            "Epoch 2/100\n",
            "4/4 [==============================] - 0s 8ms/step - loss: 0.4634 - accuracy: 0.5000\n",
            "Epoch 3/100\n",
            "4/4 [==============================] - 0s 8ms/step - loss: 0.4322 - accuracy: 0.5000\n",
            "Epoch 4/100\n",
            "4/4 [==============================] - 0s 8ms/step - loss: 0.4050 - accuracy: 0.5000\n",
            "Epoch 5/100\n",
            "4/4 [==============================] - 0s 8ms/step - loss: 0.3737 - accuracy: 0.5000\n",
            "Epoch 6/100\n",
            "4/4 [==============================] - 0s 10ms/step - loss: 0.3416 - accuracy: 0.5000\n",
            "Epoch 7/100\n",
            "4/4 [==============================] - 0s 10ms/step - loss: 0.3071 - accuracy: 0.4600\n",
            "Epoch 8/100\n",
            "4/4 [==============================] - 0s 8ms/step - loss: 0.2746 - accuracy: 0.3700\n",
            "Epoch 9/100\n",
            "4/4 [==============================] - 0s 8ms/step - loss: 0.2616 - accuracy: 0.5500\n",
            "Epoch 10/100\n",
            "4/4 [==============================] - 0s 8ms/step - loss: 0.2679 - accuracy: 0.5000\n",
            "Epoch 11/100\n",
            "4/4 [==============================] - 0s 11ms/step - loss: 0.2486 - accuracy: 0.6900\n",
            "Epoch 12/100\n",
            "4/4 [==============================] - 0s 9ms/step - loss: 0.2485 - accuracy: 0.4800\n",
            "Epoch 13/100\n",
            "4/4 [==============================] - 0s 9ms/step - loss: 0.2449 - accuracy: 0.4800\n",
            "Epoch 14/100\n",
            "4/4 [==============================] - 0s 10ms/step - loss: 0.2390 - accuracy: 0.5000\n",
            "Epoch 15/100\n",
            "4/4 [==============================] - 0s 9ms/step - loss: 0.2310 - accuracy: 0.6500\n",
            "Epoch 16/100\n",
            "4/4 [==============================] - 0s 8ms/step - loss: 0.2263 - accuracy: 0.7400\n",
            "Epoch 17/100\n",
            "4/4 [==============================] - 0s 8ms/step - loss: 0.2214 - accuracy: 0.6700\n",
            "Epoch 18/100\n",
            "4/4 [==============================] - 0s 8ms/step - loss: 0.2159 - accuracy: 0.7600\n",
            "Epoch 19/100\n",
            "4/4 [==============================] - 0s 7ms/step - loss: 0.2089 - accuracy: 0.7500\n",
            "Epoch 20/100\n",
            "4/4 [==============================] - 0s 9ms/step - loss: 0.2027 - accuracy: 0.8200\n",
            "Epoch 21/100\n",
            "4/4 [==============================] - 0s 8ms/step - loss: 0.1971 - accuracy: 0.8700\n",
            "Epoch 22/100\n",
            "4/4 [==============================] - 0s 8ms/step - loss: 0.1881 - accuracy: 0.8700\n",
            "Epoch 23/100\n",
            "4/4 [==============================] - 0s 9ms/step - loss: 0.1786 - accuracy: 0.8700\n",
            "Epoch 24/100\n",
            "4/4 [==============================] - 0s 11ms/step - loss: 0.1692 - accuracy: 0.8500\n",
            "Epoch 25/100\n",
            "4/4 [==============================] - 0s 8ms/step - loss: 0.1594 - accuracy: 0.8900\n",
            "Epoch 26/100\n",
            "4/4 [==============================] - 0s 8ms/step - loss: 0.1547 - accuracy: 0.9100\n",
            "Epoch 27/100\n",
            "4/4 [==============================] - 0s 8ms/step - loss: 0.1334 - accuracy: 0.8700\n",
            "Epoch 28/100\n",
            "4/4 [==============================] - 0s 8ms/step - loss: 0.1282 - accuracy: 0.8400\n",
            "Epoch 29/100\n",
            "4/4 [==============================] - 0s 9ms/step - loss: 0.1117 - accuracy: 0.8700\n",
            "Epoch 30/100\n",
            "4/4 [==============================] - 0s 9ms/step - loss: 0.1064 - accuracy: 0.9000\n",
            "Epoch 31/100\n",
            "4/4 [==============================] - 0s 8ms/step - loss: 0.1085 - accuracy: 0.9000\n",
            "Epoch 32/100\n",
            "4/4 [==============================] - 0s 8ms/step - loss: 0.0993 - accuracy: 0.9300\n",
            "Epoch 33/100\n",
            "4/4 [==============================] - 0s 8ms/step - loss: 0.1081 - accuracy: 0.9100\n",
            "Epoch 34/100\n",
            "4/4 [==============================] - 0s 8ms/step - loss: 0.0984 - accuracy: 0.9200\n",
            "Epoch 35/100\n",
            "4/4 [==============================] - 0s 8ms/step - loss: 0.0938 - accuracy: 0.9200\n",
            "Epoch 36/100\n",
            "4/4 [==============================] - 0s 10ms/step - loss: 0.0911 - accuracy: 0.9200\n",
            "Epoch 37/100\n",
            "4/4 [==============================] - 0s 10ms/step - loss: 0.0961 - accuracy: 0.9100\n",
            "Epoch 38/100\n",
            "4/4 [==============================] - 0s 9ms/step - loss: 0.0983 - accuracy: 0.9100\n",
            "Epoch 39/100\n",
            "4/4 [==============================] - 0s 8ms/step - loss: 0.1035 - accuracy: 0.9000\n",
            "Epoch 40/100\n",
            "4/4 [==============================] - 0s 8ms/step - loss: 0.0885 - accuracy: 0.9600\n",
            "Epoch 41/100\n",
            "4/4 [==============================] - 0s 8ms/step - loss: 0.0987 - accuracy: 0.9300\n",
            "Epoch 42/100\n",
            "4/4 [==============================] - 0s 10ms/step - loss: 0.0965 - accuracy: 0.9000\n",
            "Epoch 43/100\n",
            "4/4 [==============================] - 0s 8ms/step - loss: 0.0871 - accuracy: 0.8900\n",
            "Epoch 44/100\n",
            "4/4 [==============================] - 0s 10ms/step - loss: 0.0955 - accuracy: 0.9400\n",
            "Epoch 45/100\n",
            "4/4 [==============================] - 0s 8ms/step - loss: 0.1020 - accuracy: 0.9100\n",
            "Epoch 46/100\n",
            "4/4 [==============================] - 0s 9ms/step - loss: 0.0876 - accuracy: 0.9100\n",
            "Epoch 47/100\n",
            "4/4 [==============================] - 0s 8ms/step - loss: 0.0798 - accuracy: 0.9400\n",
            "Epoch 48/100\n",
            "4/4 [==============================] - 0s 8ms/step - loss: 0.0897 - accuracy: 0.9400\n",
            "Epoch 49/100\n",
            "4/4 [==============================] - 0s 10ms/step - loss: 0.0801 - accuracy: 0.9400\n",
            "Epoch 50/100\n",
            "4/4 [==============================] - 0s 9ms/step - loss: 0.0781 - accuracy: 0.9300\n",
            "Epoch 51/100\n",
            "4/4 [==============================] - 0s 9ms/step - loss: 0.0775 - accuracy: 0.9400\n",
            "Epoch 52/100\n",
            "4/4 [==============================] - 0s 8ms/step - loss: 0.0756 - accuracy: 0.9400\n",
            "Epoch 53/100\n",
            "4/4 [==============================] - 0s 8ms/step - loss: 0.0786 - accuracy: 0.9400\n",
            "Epoch 54/100\n",
            "4/4 [==============================] - 0s 8ms/step - loss: 0.0771 - accuracy: 0.9400\n",
            "Epoch 55/100\n",
            "4/4 [==============================] - 0s 9ms/step - loss: 0.0736 - accuracy: 0.9400\n",
            "Epoch 56/100\n",
            "4/4 [==============================] - 0s 9ms/step - loss: 0.0735 - accuracy: 0.9400\n",
            "Epoch 57/100\n",
            "4/4 [==============================] - 0s 9ms/step - loss: 0.0761 - accuracy: 0.9300\n",
            "Epoch 58/100\n",
            "4/4 [==============================] - 0s 8ms/step - loss: 0.0770 - accuracy: 0.9300\n",
            "Epoch 59/100\n",
            "4/4 [==============================] - 0s 9ms/step - loss: 0.0728 - accuracy: 0.9400\n",
            "Epoch 60/100\n",
            "4/4 [==============================] - 0s 8ms/step - loss: 0.0717 - accuracy: 0.9300\n",
            "Epoch 61/100\n",
            "4/4 [==============================] - 0s 9ms/step - loss: 0.0778 - accuracy: 0.9400\n",
            "Epoch 62/100\n",
            "4/4 [==============================] - 0s 8ms/step - loss: 0.0745 - accuracy: 0.9300\n",
            "Epoch 63/100\n",
            "4/4 [==============================] - 0s 8ms/step - loss: 0.0714 - accuracy: 0.9500\n",
            "Epoch 64/100\n",
            "4/4 [==============================] - 0s 8ms/step - loss: 0.0701 - accuracy: 0.9600\n",
            "Epoch 65/100\n",
            "4/4 [==============================] - 0s 9ms/step - loss: 0.0714 - accuracy: 0.9200\n",
            "Epoch 66/100\n",
            "4/4 [==============================] - 0s 9ms/step - loss: 0.0709 - accuracy: 0.9400\n",
            "Epoch 67/100\n",
            "4/4 [==============================] - 0s 9ms/step - loss: 0.0738 - accuracy: 0.9400\n",
            "Epoch 68/100\n",
            "4/4 [==============================] - 0s 9ms/step - loss: 0.0664 - accuracy: 0.9400\n",
            "Epoch 69/100\n",
            "4/4 [==============================] - 0s 10ms/step - loss: 0.0783 - accuracy: 0.9300\n",
            "Epoch 70/100\n",
            "4/4 [==============================] - 0s 8ms/step - loss: 0.0723 - accuracy: 0.9500\n",
            "Epoch 71/100\n",
            "4/4 [==============================] - 0s 9ms/step - loss: 0.0724 - accuracy: 0.9500\n",
            "Epoch 72/100\n",
            "4/4 [==============================] - 0s 9ms/step - loss: 0.0718 - accuracy: 0.9500\n",
            "Epoch 73/100\n",
            "4/4 [==============================] - 0s 10ms/step - loss: 0.0661 - accuracy: 0.9500\n",
            "Epoch 74/100\n",
            "4/4 [==============================] - 0s 8ms/step - loss: 0.0686 - accuracy: 0.9400\n",
            "Epoch 75/100\n",
            "4/4 [==============================] - 0s 9ms/step - loss: 0.0684 - accuracy: 0.9400\n",
            "Epoch 76/100\n",
            "4/4 [==============================] - 0s 9ms/step - loss: 0.0692 - accuracy: 0.9300\n",
            "Epoch 77/100\n",
            "4/4 [==============================] - 0s 9ms/step - loss: 0.0634 - accuracy: 0.9400\n",
            "Epoch 78/100\n",
            "4/4 [==============================] - 0s 10ms/step - loss: 0.0645 - accuracy: 0.9400\n",
            "Epoch 79/100\n",
            "4/4 [==============================] - 0s 8ms/step - loss: 0.0621 - accuracy: 0.9500\n",
            "Epoch 80/100\n",
            "4/4 [==============================] - 0s 8ms/step - loss: 0.0698 - accuracy: 0.9300\n",
            "Epoch 81/100\n",
            "4/4 [==============================] - 0s 8ms/step - loss: 0.0654 - accuracy: 0.9400\n",
            "Epoch 82/100\n",
            "4/4 [==============================] - 0s 8ms/step - loss: 0.0654 - accuracy: 0.9500\n",
            "Epoch 83/100\n",
            "4/4 [==============================] - 0s 7ms/step - loss: 0.0626 - accuracy: 0.9400\n",
            "Epoch 84/100\n",
            "4/4 [==============================] - 0s 7ms/step - loss: 0.0606 - accuracy: 0.9500\n",
            "Epoch 85/100\n",
            "4/4 [==============================] - 0s 8ms/step - loss: 0.0595 - accuracy: 0.9500\n",
            "Epoch 86/100\n",
            "4/4 [==============================] - 0s 8ms/step - loss: 0.0601 - accuracy: 0.9400\n",
            "Epoch 87/100\n",
            "4/4 [==============================] - 0s 9ms/step - loss: 0.0588 - accuracy: 0.9500\n",
            "Epoch 88/100\n",
            "4/4 [==============================] - 0s 8ms/step - loss: 0.0629 - accuracy: 0.9600\n",
            "Epoch 89/100\n",
            "4/4 [==============================] - 0s 9ms/step - loss: 0.0605 - accuracy: 0.9600\n",
            "Epoch 90/100\n",
            "4/4 [==============================] - 0s 9ms/step - loss: 0.0596 - accuracy: 0.9400\n",
            "Epoch 91/100\n",
            "4/4 [==============================] - 0s 8ms/step - loss: 0.0582 - accuracy: 0.9500\n",
            "Epoch 92/100\n",
            "4/4 [==============================] - 0s 9ms/step - loss: 0.0617 - accuracy: 0.9600\n",
            "Epoch 93/100\n",
            "4/4 [==============================] - 0s 9ms/step - loss: 0.0579 - accuracy: 0.9600\n",
            "Epoch 94/100\n",
            "4/4 [==============================] - 0s 8ms/step - loss: 0.0663 - accuracy: 0.9500\n",
            "Epoch 95/100\n",
            "4/4 [==============================] - 0s 8ms/step - loss: 0.0658 - accuracy: 0.9500\n",
            "Epoch 96/100\n",
            "4/4 [==============================] - 0s 8ms/step - loss: 0.0622 - accuracy: 0.9500\n",
            "Epoch 97/100\n",
            "4/4 [==============================] - 0s 8ms/step - loss: 0.0610 - accuracy: 0.9500\n",
            "Epoch 98/100\n",
            "4/4 [==============================] - 0s 8ms/step - loss: 0.0605 - accuracy: 0.9600\n",
            "Epoch 99/100\n",
            "4/4 [==============================] - 0s 8ms/step - loss: 0.0586 - accuracy: 0.9500\n",
            "Epoch 100/100\n",
            "4/4 [==============================] - 0s 7ms/step - loss: 0.0567 - accuracy: 0.9500\n"
          ]
        }
      ],
      "source": [
        "hist = model.fit(x_train_lstm, y_train, epochs=100, verbose=1)"
      ]
    },
    {
      "cell_type": "code",
      "execution_count": null,
      "metadata": {
        "id": "7FDk0hijU6-W",
        "colab": {
          "base_uri": "https://localhost:8080/",
          "height": 573
        },
        "outputId": "7462706e-10c6-4e57-c56a-832c342c5685"
      },
      "outputs": [
        {
          "output_type": "display_data",
          "data": {
            "text/plain": [
              "<Figure size 432x288 with 1 Axes>"
            ],
            "image/png": "[encoded data removed]"
          },
          "metadata": {
            "needs_background": "light"
          }
        },
        {
          "output_type": "display_data",
          "data": {
            "text/plain": [
              "<Figure size 432x288 with 1 Axes>"
            ],
            "image/png": "[encoded data removed]"
          },
          "metadata": {
            "needs_background": "light"
          }
        }
      ],
      "source": [
        "plt.plot(hist.history['accuracy'])\n",
        "plt.title('Model accuracy')\n",
        "plt.ylabel('Accuracy')\n",
        "plt.xlabel('Epoch')\n",
        "plt.legend(['Train', 'Validation'], loc='upper left')\n",
        "plt.show()\n",
        "\n",
        "plt.plot(hist.history['loss']) \n",
        "plt.title('Model loss') \n",
        "plt.ylabel('Loss') \n",
        "plt.xlabel('Epoch') \n",
        "plt.legend(['Train', 'Validation'], loc='upper right') \n",
        "plt.show()"
      ]
    },
    {
      "cell_type": "code",
      "execution_count": null,
      "metadata": {
        "id": "qVbAtvYAVnEf",
        "colab": {
          "base_uri": "https://localhost:8080/"
        },
        "outputId": "455c7d44-9a45-4300-c571-83efe7771e70"
      },
      "outputs": [
        {
          "output_type": "stream",
          "name": "stdout",
          "text": [
            "Accuracy: 90.00%\n"
          ]
        }
      ],
      "source": [
        "# from sklearn.metrics import classification_report, confusion_matrix\n",
        "# expected_y  = y_test\n",
        "# predicted_y = model.predict(x_test_lstm, verbose=0)\n",
        "scores = model.evaluate(x_test_lstm, y_test, verbose=0)\n",
        "print(\"Accuracy: %.2f%%\" % (scores[1]*100))"
      ]
    },
    {
      "cell_type": "code",
      "execution_count": null,
      "metadata": {
        "id": "B5tAc5mh1QcM",
        "colab": {
          "base_uri": "https://localhost:8080/"
        },
        "outputId": "b7f2a5c2-5147-41a5-f992-9372518b7f6d"
      },
      "outputs": [
        {
          "output_type": "stream",
          "name": "stdout",
          "text": [
            "              precision    recall  f1-score   support\n",
            "\n",
            "         0.0       0.81      1.00      0.89        25\n",
            "         1.0       1.00      0.76      0.86        25\n",
            "\n",
            "    accuracy                           0.88        50\n",
            "   macro avg       0.90      0.88      0.88        50\n",
            "weighted avg       0.90      0.88      0.88        50\n",
            "\n",
            "[[25  0]\n",
            " [ 6 19]]\n"
          ]
        }
      ],
      "source": [
        "import xgboost as xgb\n",
        "\n",
        "model = xgb.XGBClassifier()\n",
        "model.fit(x_train, y_train)\n",
        "expected_y  = y_test\n",
        "predicted_y = model.predict(x_test)\n",
        "print(metrics.classification_report(expected_y, predicted_y))\n",
        "print(metrics.confusion_matrix(expected_y, predicted_y))"
      ]
    },
    {
      "cell_type": "code",
      "execution_count": null,
      "metadata": {
        "id": "ZN9dkgcv4cEl"
      },
      "outputs": [],
      "source": [
        "from keras.layers import Bidirectional, Activation\n",
        "\n",
        "model = Sequential()\n",
        "model.add(Bidirectional(LSTM(50, return_sequences=True),\n",
        "                             input_shape=(24, 1)))\n",
        "model.add(Bidirectional(LSTM(50)))\n",
        "model.add(Dense(1))\n",
        "model.add(Activation('sigmoid'))\n",
        "model.compile(loss='mse',\n",
        "optimizer='adam',\n",
        "metrics=['accuracy'])"
      ]
    },
    {
      "cell_type": "code",
      "execution_count": null,
      "metadata": {
        "id": "8e1ujnQC4v9f",
        "colab": {
          "base_uri": "https://localhost:8080/"
        },
        "outputId": "607fd805-cd7d-4102-daef-78d5c27d22ff"
      },
      "outputs": [
        {
          "output_type": "stream",
          "name": "stdout",
          "text": [
            "Epoch 1/100\n",
            "4/4 [==============================] - 6s 31ms/step - loss: 0.2475 - accuracy: 0.5500\n",
            "Epoch 2/100\n",
            "4/4 [==============================] - 0s 25ms/step - loss: 0.2410 - accuracy: 0.6100\n",
            "Epoch 3/100\n",
            "4/4 [==============================] - 0s 24ms/step - loss: 0.2332 - accuracy: 0.6100\n",
            "Epoch 4/100\n",
            "4/4 [==============================] - 0s 26ms/step - loss: 0.2273 - accuracy: 0.6100\n",
            "Epoch 5/100\n",
            "4/4 [==============================] - 0s 24ms/step - loss: 0.2200 - accuracy: 0.6300\n",
            "Epoch 6/100\n",
            "4/4 [==============================] - 0s 26ms/step - loss: 0.2109 - accuracy: 0.6500\n",
            "Epoch 7/100\n",
            "4/4 [==============================] - 0s 24ms/step - loss: 0.2021 - accuracy: 0.6500\n",
            "Epoch 8/100\n",
            "4/4 [==============================] - 0s 24ms/step - loss: 0.1919 - accuracy: 0.6800\n",
            "Epoch 9/100\n",
            "4/4 [==============================] - 0s 30ms/step - loss: 0.1836 - accuracy: 0.7700\n",
            "Epoch 10/100\n",
            "4/4 [==============================] - 0s 27ms/step - loss: 0.1743 - accuracy: 0.7500\n",
            "Epoch 11/100\n",
            "4/4 [==============================] - 0s 24ms/step - loss: 0.1759 - accuracy: 0.7500\n",
            "Epoch 12/100\n",
            "4/4 [==============================] - 0s 25ms/step - loss: 0.1635 - accuracy: 0.7700\n",
            "Epoch 13/100\n",
            "4/4 [==============================] - 0s 33ms/step - loss: 0.1569 - accuracy: 0.7800\n",
            "Epoch 14/100\n",
            "4/4 [==============================] - 0s 27ms/step - loss: 0.1530 - accuracy: 0.7800\n",
            "Epoch 15/100\n",
            "4/4 [==============================] - 0s 24ms/step - loss: 0.1475 - accuracy: 0.7800\n",
            "Epoch 16/100\n",
            "4/4 [==============================] - 0s 25ms/step - loss: 0.1459 - accuracy: 0.7900\n",
            "Epoch 17/100\n",
            "4/4 [==============================] - 0s 25ms/step - loss: 0.1442 - accuracy: 0.8100\n",
            "Epoch 18/100\n",
            "4/4 [==============================] - 0s 26ms/step - loss: 0.1443 - accuracy: 0.7900\n",
            "Epoch 19/100\n",
            "4/4 [==============================] - 0s 29ms/step - loss: 0.1483 - accuracy: 0.8000\n",
            "Epoch 20/100\n",
            "4/4 [==============================] - 0s 26ms/step - loss: 0.1597 - accuracy: 0.7700\n",
            "Epoch 21/100\n",
            "4/4 [==============================] - 0s 25ms/step - loss: 0.1378 - accuracy: 0.7800\n",
            "Epoch 22/100\n",
            "4/4 [==============================] - 0s 26ms/step - loss: 0.1717 - accuracy: 0.7400\n",
            "Epoch 23/100\n",
            "4/4 [==============================] - 0s 24ms/step - loss: 0.1644 - accuracy: 0.7400\n",
            "Epoch 24/100\n",
            "4/4 [==============================] - 0s 24ms/step - loss: 0.1487 - accuracy: 0.7700\n",
            "Epoch 25/100\n",
            "4/4 [==============================] - 0s 24ms/step - loss: 0.1435 - accuracy: 0.7800\n",
            "Epoch 26/100\n",
            "4/4 [==============================] - 0s 26ms/step - loss: 0.1499 - accuracy: 0.8100\n",
            "Epoch 27/100\n",
            "4/4 [==============================] - 0s 25ms/step - loss: 0.1481 - accuracy: 0.8100\n",
            "Epoch 28/100\n",
            "4/4 [==============================] - 0s 26ms/step - loss: 0.1427 - accuracy: 0.8100\n",
            "Epoch 29/100\n",
            "4/4 [==============================] - 0s 24ms/step - loss: 0.1446 - accuracy: 0.7600\n",
            "Epoch 30/100\n",
            "4/4 [==============================] - 0s 26ms/step - loss: 0.1522 - accuracy: 0.7600\n",
            "Epoch 31/100\n",
            "4/4 [==============================] - 0s 27ms/step - loss: 0.1461 - accuracy: 0.7800\n",
            "Epoch 32/100\n",
            "4/4 [==============================] - 0s 28ms/step - loss: 0.1458 - accuracy: 0.8000\n",
            "Epoch 33/100\n",
            "4/4 [==============================] - 0s 27ms/step - loss: 0.1506 - accuracy: 0.8000\n",
            "Epoch 34/100\n",
            "4/4 [==============================] - 0s 24ms/step - loss: 0.1470 - accuracy: 0.8000\n",
            "Epoch 35/100\n",
            "4/4 [==============================] - 0s 25ms/step - loss: 0.1414 - accuracy: 0.7800\n",
            "Epoch 36/100\n",
            "4/4 [==============================] - 0s 27ms/step - loss: 0.1391 - accuracy: 0.7800\n",
            "Epoch 37/100\n",
            "4/4 [==============================] - 0s 33ms/step - loss: 0.1365 - accuracy: 0.7900\n",
            "Epoch 38/100\n",
            "4/4 [==============================] - 0s 28ms/step - loss: 0.1362 - accuracy: 0.8100\n",
            "Epoch 39/100\n",
            "4/4 [==============================] - 0s 25ms/step - loss: 0.1356 - accuracy: 0.8100\n",
            "Epoch 40/100\n",
            "4/4 [==============================] - 0s 30ms/step - loss: 0.1361 - accuracy: 0.7900\n",
            "Epoch 41/100\n",
            "4/4 [==============================] - 0s 25ms/step - loss: 0.1430 - accuracy: 0.7900\n",
            "Epoch 42/100\n",
            "4/4 [==============================] - 0s 27ms/step - loss: 0.1374 - accuracy: 0.8100\n",
            "Epoch 43/100\n",
            "4/4 [==============================] - 0s 26ms/step - loss: 0.1332 - accuracy: 0.8100\n",
            "Epoch 44/100\n",
            "4/4 [==============================] - 0s 24ms/step - loss: 0.1343 - accuracy: 0.8000\n",
            "Epoch 45/100\n",
            "4/4 [==============================] - 0s 26ms/step - loss: 0.1384 - accuracy: 0.8100\n",
            "Epoch 46/100\n",
            "4/4 [==============================] - 0s 27ms/step - loss: 0.1401 - accuracy: 0.8100\n",
            "Epoch 47/100\n",
            "4/4 [==============================] - 0s 25ms/step - loss: 0.1368 - accuracy: 0.8000\n",
            "Epoch 48/100\n",
            "4/4 [==============================] - 0s 25ms/step - loss: 0.1322 - accuracy: 0.8000\n",
            "Epoch 49/100\n",
            "4/4 [==============================] - 0s 28ms/step - loss: 0.1354 - accuracy: 0.7900\n",
            "Epoch 50/100\n",
            "4/4 [==============================] - 0s 26ms/step - loss: 0.1360 - accuracy: 0.7900\n",
            "Epoch 51/100\n",
            "4/4 [==============================] - 0s 26ms/step - loss: 0.1348 - accuracy: 0.8000\n",
            "Epoch 52/100\n",
            "4/4 [==============================] - 0s 25ms/step - loss: 0.1352 - accuracy: 0.8200\n",
            "Epoch 53/100\n",
            "4/4 [==============================] - 0s 26ms/step - loss: 0.1328 - accuracy: 0.8100\n",
            "Epoch 54/100\n",
            "4/4 [==============================] - 0s 26ms/step - loss: 0.1297 - accuracy: 0.8000\n",
            "Epoch 55/100\n",
            "4/4 [==============================] - 0s 27ms/step - loss: 0.1395 - accuracy: 0.7700\n",
            "Epoch 56/100\n",
            "4/4 [==============================] - 0s 27ms/step - loss: 0.1350 - accuracy: 0.7900\n",
            "Epoch 57/100\n",
            "4/4 [==============================] - 0s 25ms/step - loss: 0.2028 - accuracy: 0.6700\n",
            "Epoch 58/100\n",
            "4/4 [==============================] - 0s 27ms/step - loss: 0.1884 - accuracy: 0.6900\n",
            "Epoch 59/100\n",
            "4/4 [==============================] - 0s 27ms/step - loss: 0.1507 - accuracy: 0.7700\n",
            "Epoch 60/100\n",
            "4/4 [==============================] - 0s 25ms/step - loss: 0.1337 - accuracy: 0.8000\n",
            "Epoch 61/100\n",
            "4/4 [==============================] - 0s 25ms/step - loss: 0.1398 - accuracy: 0.7700\n",
            "Epoch 62/100\n",
            "4/4 [==============================] - 0s 25ms/step - loss: 0.1421 - accuracy: 0.7500\n",
            "Epoch 63/100\n",
            "4/4 [==============================] - 0s 25ms/step - loss: 0.1380 - accuracy: 0.7700\n",
            "Epoch 64/100\n",
            "4/4 [==============================] - 0s 25ms/step - loss: 0.1352 - accuracy: 0.7800\n",
            "Epoch 65/100\n",
            "4/4 [==============================] - 0s 25ms/step - loss: 0.1335 - accuracy: 0.7900\n",
            "Epoch 66/100\n",
            "4/4 [==============================] - 0s 26ms/step - loss: 0.1328 - accuracy: 0.8000\n",
            "Epoch 67/100\n",
            "4/4 [==============================] - 0s 28ms/step - loss: 0.1326 - accuracy: 0.8000\n",
            "Epoch 68/100\n",
            "4/4 [==============================] - 0s 49ms/step - loss: 0.1316 - accuracy: 0.8100\n",
            "Epoch 69/100\n",
            "4/4 [==============================] - 0s 61ms/step - loss: 0.1317 - accuracy: 0.8100\n",
            "Epoch 70/100\n",
            "4/4 [==============================] - 0s 53ms/step - loss: 0.1308 - accuracy: 0.8100\n",
            "Epoch 71/100\n",
            "4/4 [==============================] - 0s 48ms/step - loss: 0.1286 - accuracy: 0.8100\n",
            "Epoch 72/100\n",
            "4/4 [==============================] - 0s 65ms/step - loss: 0.1281 - accuracy: 0.8000\n",
            "Epoch 73/100\n",
            "4/4 [==============================] - 0s 47ms/step - loss: 0.1269 - accuracy: 0.8000\n",
            "Epoch 74/100\n",
            "4/4 [==============================] - 0s 41ms/step - loss: 0.1259 - accuracy: 0.8100\n",
            "Epoch 75/100\n",
            "4/4 [==============================] - 0s 41ms/step - loss: 0.1245 - accuracy: 0.8100\n",
            "Epoch 76/100\n",
            "4/4 [==============================] - 0s 78ms/step - loss: 0.1282 - accuracy: 0.8200\n",
            "Epoch 77/100\n",
            "4/4 [==============================] - 0s 85ms/step - loss: 0.1246 - accuracy: 0.8100\n",
            "Epoch 78/100\n",
            "4/4 [==============================] - 0s 80ms/step - loss: 0.1269 - accuracy: 0.7800\n",
            "Epoch 79/100\n",
            "4/4 [==============================] - 0s 76ms/step - loss: 0.1297 - accuracy: 0.7900\n",
            "Epoch 80/100\n",
            "4/4 [==============================] - 0s 53ms/step - loss: 0.1222 - accuracy: 0.8200\n",
            "Epoch 81/100\n",
            "4/4 [==============================] - 0s 49ms/step - loss: 0.1233 - accuracy: 0.8200\n",
            "Epoch 82/100\n",
            "4/4 [==============================] - 0s 59ms/step - loss: 0.1215 - accuracy: 0.8200\n",
            "Epoch 83/100\n",
            "4/4 [==============================] - 0s 56ms/step - loss: 0.1193 - accuracy: 0.8200\n",
            "Epoch 84/100\n",
            "4/4 [==============================] - 0s 33ms/step - loss: 0.1169 - accuracy: 0.8300\n",
            "Epoch 85/100\n",
            "4/4 [==============================] - 0s 26ms/step - loss: 0.1131 - accuracy: 0.8500\n",
            "Epoch 86/100\n",
            "4/4 [==============================] - 0s 46ms/step - loss: 0.1114 - accuracy: 0.8500\n",
            "Epoch 87/100\n",
            "4/4 [==============================] - 0s 49ms/step - loss: 0.1068 - accuracy: 0.8500\n",
            "Epoch 88/100\n",
            "4/4 [==============================] - 0s 50ms/step - loss: 0.1254 - accuracy: 0.7800\n",
            "Epoch 89/100\n",
            "4/4 [==============================] - 0s 29ms/step - loss: 0.1035 - accuracy: 0.8500\n",
            "Epoch 90/100\n",
            "4/4 [==============================] - 0s 26ms/step - loss: 0.1090 - accuracy: 0.8400\n",
            "Epoch 91/100\n",
            "4/4 [==============================] - 0s 41ms/step - loss: 0.1108 - accuracy: 0.8300\n",
            "Epoch 92/100\n",
            "4/4 [==============================] - 0s 46ms/step - loss: 0.1053 - accuracy: 0.8300\n",
            "Epoch 93/100\n",
            "4/4 [==============================] - 0s 26ms/step - loss: 0.1151 - accuracy: 0.8100\n",
            "Epoch 94/100\n",
            "4/4 [==============================] - 0s 27ms/step - loss: 0.1000 - accuracy: 0.8700\n",
            "Epoch 95/100\n",
            "4/4 [==============================] - 0s 46ms/step - loss: 0.1138 - accuracy: 0.8300\n",
            "Epoch 96/100\n",
            "4/4 [==============================] - 0s 26ms/step - loss: 0.1158 - accuracy: 0.8100\n",
            "Epoch 97/100\n",
            "4/4 [==============================] - 0s 41ms/step - loss: 0.1027 - accuracy: 0.8400\n",
            "Epoch 98/100\n",
            "4/4 [==============================] - 0s 67ms/step - loss: 0.1055 - accuracy: 0.8000\n",
            "Epoch 99/100\n",
            "4/4 [==============================] - 0s 59ms/step - loss: 0.0973 - accuracy: 0.8600\n",
            "Epoch 100/100\n",
            "4/4 [==============================] - 0s 26ms/step - loss: 0.0956 - accuracy: 0.8600\n"
          ]
        }
      ],
      "source": [
        "hist = model.fit(x_train_lstm, y_train, epochs = 100)"
      ]
    },
    {
      "cell_type": "code",
      "execution_count": null,
      "metadata": {
        "id": "3Hl_dLwE5P6U",
        "colab": {
          "base_uri": "https://localhost:8080/"
        },
        "outputId": "3a3bff63-a40c-445b-eae3-a484b353f119"
      },
      "outputs": [
        {
          "output_type": "stream",
          "name": "stdout",
          "text": [
            "Accuracy: 80.00%\n"
          ]
        }
      ],
      "source": [
        "scores = model.evaluate(x_test_lstm, y_test, verbose=0)\n",
        "print(\"Accuracy: %.2f%%\" % (scores[1]*100))"
      ]
    },
    {
      "cell_type": "code",
      "execution_count": null,
      "metadata": {
        "id": "dFSGIRCD8ZF_"
      },
      "outputs": [],
      "source": [
        "# LSTM EXPORTING\n",
        "# for i in range(array_shape[1]):\n",
        "#   #get the data for a line\n",
        "#   temp_array = array_NDVI[:,i,:]\n",
        "#   temp_df = pd.DataFrame(temp_array.T)\n",
        "#   temp_df.columns = pd.DataFrame(x_train).columns.tolist()\n",
        "#   temp_df_test = temp_df.to_numpy()\n",
        "#   temp_df_test = temp_df_test.reshape((temp_df_test.shape[0],temp_df_test.shape[1],1))\n",
        "#   predections = model.predict(temp_df_test)\n",
        "\n",
        "\n",
        "#RandomForest EXPORTING\n",
        "\n",
        "for i in range(array_shape[1]):\n",
        "  #get the data for a line\n",
        "  temp_array = array_NDVI[:,i,:]\n",
        "  temp_df = pd.DataFrame(temp_array.T)\n",
        "  temp_df.columns = pd.DataFrame(x_train).columns.tolist() #unnormalized_x_train (CAUTIONS) \n",
        "  array_result[i,:] = rf.predict(temp_df)"
      ]
    },
    {
      "cell_type": "code",
      "execution_count": null,
      "metadata": {
        "id": "C-rSAdKi8WEF"
      },
      "outputs": [],
      "source": [
        "Output_file = '/content/drive/MyDrive/results/Cropland_extent_SR_smooth.tif' #change\n",
        "driver = gdal.GetDriverByName('Gtiff')\n",
        "outRaster = driver.Create(Output_file, file_geo.RasterXSize, file_geo.RasterYSize, 1, gdal.GDT_Byte)\n",
        "outRaster.SetGeoTransform(file_geo.GetGeoTransform())\n",
        "outRaster.SetProjection(file_geo.GetProjection())\n",
        "outRaster.GetRasterBand(1).WriteArray(array_result)\n",
        "outRaster = None"
      ]
    }
  ],
  "metadata": {
    "colab": {
      "provenance": []
    },
    "kernelspec": {
      "display_name": "Python 3",
      "name": "python3"
    },
    "language_info": {
      "name": "python"
    },
    "widgets": {
      "application/vnd.jupyter.widget-state+json": {
        "09d528f746b84d2b9ad3e87325921806": {
          "model_module": "jupyter-leaflet",
          "model_name": "LeafletMapModel",
          "model_module_version": "^0.17",
          "state": {
            "_dom_classes": [],
            "_model_module": "jupyter-leaflet",
            "_model_module_version": "^0.17",
            "_model_name": "LeafletMapModel",
            "_view_count": null,
            "_view_module": "jupyter-leaflet",
            "_view_module_version": "^0.17",
            "_view_name": "LeafletMapView",
            "bottom": 125295,
            "bounce_at_zoom_limits": true,
            "box_zoom": true,
            "center": [
              8.316135757747409,
              80.33608763770762
            ],
            "close_popup_on_click": true,
            "controls": [
              "IPY_MODEL_2384241de70c4c7095d4f35dc3e353c1",
              "IPY_MODEL_9224aa7e28534e28a382f6cebc4b1ace",
              "IPY_MODEL_7498b0e320f042f1a26c3a5cc34c5c0e",
              "IPY_MODEL_95e0099fa65444409042f0559aee96c4",
              "IPY_MODEL_09fc41a5f50043608e0829d664e27a19",
              "IPY_MODEL_c609b2633fc6468bad6938b9124e181c",
              "IPY_MODEL_a5711e8eef4d40f392cf9bce513696de",
              "IPY_MODEL_942e7f1a38c445618c0372a835e469eb"
            ],
            "crs": {
              "name": "EPSG3857",
              "custom": false
            },
            "default_style": "IPY_MODEL_9ae2693d283843eb9cd60453404a5db5",
            "double_click_zoom": true,
            "dragging": true,
            "dragging_style": "IPY_MODEL_3fb85b480f854b8eb16ff355d37d8a88",
            "east": 81.1422094638795,
            "fullscreen": false,
            "inertia": true,
            "inertia_deceleration": 3000,
            "inertia_max_speed": 1500,
            "interpolation": "bilinear",
            "keyboard": true,
            "keyboard_pan_offset": 80,
            "keyboard_zoom_offset": 1,
            "layers": [
              "IPY_MODEL_8d21d9504b9b41b785991bc26b11e005",
              "IPY_MODEL_77da3622bc86423cbe490abbd7ffaba9",
              "IPY_MODEL_479a6957067f470da68955c04e39fa07",
              "IPY_MODEL_a7abb994d7d445ba85a2eab55c011f14",
              "IPY_MODEL_0ad3d7992cac42099e3a3993dcef31e5"
            ],
            "layout": "IPY_MODEL_97ace875187348c68149abd070eb9427",
            "left": 188983.95377138673,
            "max_zoom": 24,
            "min_zoom": null,
            "modisdate": "2022-10-13",
            "north": 8.72357571285125,
            "options": [
              "bounce_at_zoom_limits",
              "box_zoom",
              "center",
              "close_popup_on_click",
              "double_click_zoom",
              "dragging",
              "fullscreen",
              "inertia",
              "inertia_deceleration",
              "inertia_max_speed",
              "interpolation",
              "keyboard",
              "keyboard_pan_offset",
              "keyboard_zoom_offset",
              "max_zoom",
              "min_zoom",
              "prefer_canvas",
              "scroll_wheel_zoom",
              "tap",
              "tap_tolerance",
              "touch_zoom",
              "world_copy_jump",
              "zoom",
              "zoom_animation_threshold",
              "zoom_delta",
              "zoom_snap"
            ],
            "panes": {},
            "prefer_canvas": false,
            "right": 190157.95377138673,
            "scroll_wheel_zoom": true,
            "south": 7.9082718491943975,
            "style": "IPY_MODEL_9ae2693d283843eb9cd60453404a5db5",
            "tap": true,
            "tap_tolerance": 15,
            "top": 124695,
            "touch_zoom": true,
            "west": 79.52996581153575,
            "window_url": "https://6dfv6drfy7b-496ff2e9c6d22116-0-colab.googleusercontent.com/outputframe.html?vrz=colab-20221011-060057-RC01_480652161",
            "world_copy_jump": false,
            "zoom": 10,
            "zoom_animation_threshold": 4,
            "zoom_delta": 1,
            "zoom_snap": 1
          }
        },
        "2384241de70c4c7095d4f35dc3e353c1": {
          "model_module": "jupyter-leaflet",
          "model_name": "LeafletWidgetControlModel",
          "model_module_version": "^0.17",
          "state": {
            "_model_module": "jupyter-leaflet",
            "_model_module_version": "^0.17",
            "_model_name": "LeafletWidgetControlModel",
            "_view_count": null,
            "_view_module": "jupyter-leaflet",
            "_view_module_version": "^0.17",
            "_view_name": "LeafletWidgetControlView",
            "max_height": null,
            "max_width": null,
            "min_height": null,
            "min_width": null,
            "options": [
              "position",
              "transparent_bg"
            ],
            "position": "topleft",
            "transparent_bg": false,
            "widget": "IPY_MODEL_74df864ac9e5400b9df3fb6513b85ccc"
          }
        },
        "9224aa7e28534e28a382f6cebc4b1ace": {
          "model_module": "jupyter-leaflet",
          "model_name": "LeafletZoomControlModel",
          "model_module_version": "^0.17",
          "state": {
            "_model_module": "jupyter-leaflet",
            "_model_module_version": "^0.17",
            "_model_name": "LeafletZoomControlModel",
            "_view_count": null,
            "_view_module": "jupyter-leaflet",
            "_view_module_version": "^0.17",
            "_view_name": "LeafletZoomControlView",
            "options": [
              "position",
              "zoom_in_text",
              "zoom_in_title",
              "zoom_out_text",
              "zoom_out_title"
            ],
            "position": "topleft",
            "zoom_in_text": "+",
            "zoom_in_title": "Zoom in",
            "zoom_out_text": "-",
            "zoom_out_title": "Zoom out"
          }
        },
        "7498b0e320f042f1a26c3a5cc34c5c0e": {
          "model_module": "jupyter-leaflet",
          "model_name": "LeafletScaleControlModel",
          "model_module_version": "^0.17",
          "state": {
            "_model_module": "jupyter-leaflet",
            "_model_module_version": "^0.17",
            "_model_name": "LeafletScaleControlModel",
            "_view_count": null,
            "_view_module": "jupyter-leaflet",
            "_view_module_version": "^0.17",
            "_view_name": "LeafletScaleControlView",
            "imperial": true,
            "max_width": 100,
            "metric": true,
            "options": [
              "imperial",
              "max_width",
              "metric",
              "position",
              "update_when_idle"
            ],
            "position": "bottomleft",
            "update_when_idle": false
          }
        },
        "95e0099fa65444409042f0559aee96c4": {
          "model_module": "jupyter-leaflet",
          "model_name": "LeafletFullScreenControlModel",
          "model_module_version": "^0.17",
          "state": {
            "_model_module": "jupyter-leaflet",
            "_model_module_version": "^0.17",
            "_model_name": "LeafletFullScreenControlModel",
            "_view_count": null,
            "_view_module": "jupyter-leaflet",
            "_view_module_version": "^0.17",
            "_view_name": "LeafletFullScreenControlView",
            "options": [
              "position"
            ],
            "position": "topleft"
          }
        },
        "09fc41a5f50043608e0829d664e27a19": {
          "model_module": "jupyter-leaflet",
          "model_name": "LeafletMeasureControlModel",
          "model_module_version": "^0.17",
          "state": {
            "_custom_units": {},
            "_model_module": "jupyter-leaflet",
            "_model_module_version": "^0.17",
            "_model_name": "LeafletMeasureControlModel",
            "_view_count": null,
            "_view_module": "jupyter-leaflet",
            "_view_module_version": "^0.17",
            "_view_name": "LeafletMeasureControlView",
            "active_color": "orange",
            "capture_z_index": 10000,
            "completed_color": "#C8F2BE",
            "options": [
              "active_color",
              "capture_z_index",
              "completed_color",
              "popup_options",
              "position",
              "primary_area_unit",
              "primary_length_unit",
              "secondary_area_unit",
              "secondary_length_unit"
            ],
            "popup_options": {
              "className": "leaflet-measure-resultpopup",
              "autoPanPadding": [
                10,
                10
              ]
            },
            "position": "bottomleft",
            "primary_area_unit": "acres",
            "primary_length_unit": "kilometers",
            "secondary_area_unit": null,
            "secondary_length_unit": null
          }
        },
        "c609b2633fc6468bad6938b9124e181c": {
          "model_module": "jupyter-leaflet",
          "model_name": "LeafletAttributionControlModel",
          "model_module_version": "^0.17",
          "state": {
            "_model_module": "jupyter-leaflet",
            "_model_module_version": "^0.17",
            "_model_name": "LeafletAttributionControlModel",
            "_view_count": null,
            "_view_module": "jupyter-leaflet",
            "_view_module_version": "^0.17",
            "_view_name": "LeafletAttributionControlView",
            "options": [
              "position",
              "prefix"
            ],
            "position": "bottomright",
            "prefix": "ipyleaflet"
          }
        },
        "a5711e8eef4d40f392cf9bce513696de": {
          "model_module": "jupyter-leaflet",
          "model_name": "LeafletDrawControlModel",
          "model_module_version": "^0.17",
          "state": {
            "_model_module": "jupyter-leaflet",
            "_model_module_version": "^0.17",
            "_model_name": "LeafletDrawControlModel",
            "_view_count": null,
            "_view_module": "jupyter-leaflet",
            "_view_module_version": "^0.17",
            "_view_name": "LeafletDrawControlView",
            "circle": {
              "shapeOptions": {
                "color": "#3388ff"
              }
            },
            "circlemarker": {},
            "data": [],
            "edit": true,
            "marker": {
              "shapeOptions": {
                "color": "#3388ff"
              }
            },
            "options": [
              "position"
            ],
            "polygon": {
              "shapeOptions": {}
            },
            "polyline": {
              "shapeOptions": {}
            },
            "position": "topleft",
            "rectangle": {
              "shapeOptions": {
                "color": "#3388ff"
              }
            },
            "remove": true
          }
        },
        "942e7f1a38c445618c0372a835e469eb": {
          "model_module": "jupyter-leaflet",
          "model_name": "LeafletWidgetControlModel",
          "model_module_version": "^0.17",
          "state": {
            "_model_module": "jupyter-leaflet",
            "_model_module_version": "^0.17",
            "_model_name": "LeafletWidgetControlModel",
            "_view_count": null,
            "_view_module": "jupyter-leaflet",
            "_view_module_version": "^0.17",
            "_view_name": "LeafletWidgetControlView",
            "max_height": null,
            "max_width": null,
            "min_height": null,
            "min_width": null,
            "options": [
              "position",
              "transparent_bg"
            ],
            "position": "topright",
            "transparent_bg": false,
            "widget": "IPY_MODEL_170f5f66ef4e4f71aa382eef4de96ec5"
          }
        },
        "9ae2693d283843eb9cd60453404a5db5": {
          "model_module": "jupyter-leaflet",
          "model_name": "LeafletMapStyleModel",
          "model_module_version": "^0.17",
          "state": {
            "_model_module": "jupyter-leaflet",
            "_model_module_version": "^0.17",
            "_model_name": "LeafletMapStyleModel",
            "_view_count": null,
            "_view_module": "@jupyter-widgets/base",
            "_view_module_version": "1.2.0",
            "_view_name": "StyleView",
            "cursor": "grab"
          }
        },
        "3fb85b480f854b8eb16ff355d37d8a88": {
          "model_module": "jupyter-leaflet",
          "model_name": "LeafletMapStyleModel",
          "model_module_version": "^0.17",
          "state": {
            "_model_module": "jupyter-leaflet",
            "_model_module_version": "^0.17",
            "_model_name": "LeafletMapStyleModel",
            "_view_count": null,
            "_view_module": "@jupyter-widgets/base",
            "_view_module_version": "1.2.0",
            "_view_name": "StyleView",
            "cursor": "move"
          }
        },
        "8d21d9504b9b41b785991bc26b11e005": {
          "model_module": "jupyter-leaflet",
          "model_name": "LeafletTileLayerModel",
          "model_module_version": "^0.17",
          "state": {
            "_model_module": "jupyter-leaflet",
            "_model_module_version": "^0.17",
            "_model_name": "LeafletTileLayerModel",
            "_view_count": null,
            "_view_module": "jupyter-leaflet",
            "_view_module_version": "^0.17",
            "_view_name": "LeafletTileLayerView",
            "attribution": "&copy; <a href=\"https://www.openstreetmap.org/copyright\">OpenStreetMap</a> contributors",
            "base": true,
            "bottom": true,
            "bounds": null,
            "detect_retina": false,
            "loading": false,
            "max_native_zoom": null,
            "max_zoom": 19,
            "min_native_zoom": null,
            "min_zoom": 1,
            "name": "OpenStreetMap.Mapnik",
            "no_wrap": false,
            "opacity": 1,
            "options": [
              "attribution",
              "bounds",
              "detect_retina",
              "max_native_zoom",
              "max_zoom",
              "min_native_zoom",
              "min_zoom",
              "no_wrap",
              "tile_size",
              "tms",
              "zoom_offset"
            ],
            "pane": "",
            "popup": null,
            "popup_max_height": null,
            "popup_max_width": 300,
            "popup_min_width": 50,
            "show_loading": false,
            "tile_size": 256,
            "tms": false,
            "url": "https://tile.openstreetmap.org/{z}/{x}/{y}.png",
            "visible": true,
            "zoom_offset": 0
          }
        },
        "77da3622bc86423cbe490abbd7ffaba9": {
          "model_module": "jupyter-leaflet",
          "model_name": "LeafletTileLayerModel",
          "model_module_version": "^0.17",
          "state": {
            "_model_module": "jupyter-leaflet",
            "_model_module_version": "^0.17",
            "_model_name": "LeafletTileLayerModel",
            "_view_count": null,
            "_view_module": "jupyter-leaflet",
            "_view_module_version": "^0.17",
            "_view_name": "LeafletTileLayerView",
            "attribution": "Google",
            "base": false,
            "bottom": true,
            "bounds": null,
            "detect_retina": false,
            "loading": false,
            "max_native_zoom": null,
            "max_zoom": 22,
            "min_native_zoom": null,
            "min_zoom": 0,
            "name": "Google Maps",
            "no_wrap": false,
            "opacity": 1,
            "options": [
              "attribution",
              "bounds",
              "detect_retina",
              "max_native_zoom",
              "max_zoom",
              "min_native_zoom",
              "min_zoom",
              "no_wrap",
              "tile_size",
              "tms",
              "zoom_offset"
            ],
            "pane": "",
            "popup": null,
            "popup_max_height": null,
            "popup_max_width": 300,
            "popup_min_width": 50,
            "show_loading": false,
            "tile_size": 256,
            "tms": false,
            "url": "https://mt1.google.com/vt/lyrs=m&x={x}&y={y}&z={z}",
            "visible": true,
            "zoom_offset": 0
          }
        },
        "479a6957067f470da68955c04e39fa07": {
          "model_module": "jupyter-leaflet",
          "model_name": "LeafletTileLayerModel",
          "model_module_version": "^0.17",
          "state": {
            "_model_module": "jupyter-leaflet",
            "_model_module_version": "^0.17",
            "_model_name": "LeafletTileLayerModel",
            "_view_count": null,
            "_view_module": "jupyter-leaflet",
            "_view_module_version": "^0.17",
            "_view_name": "LeafletTileLayerView",
            "attribution": "Google Earth Engine",
            "base": false,
            "bottom": true,
            "bounds": null,
            "detect_retina": false,
            "loading": false,
            "max_native_zoom": null,
            "max_zoom": 24,
            "min_native_zoom": null,
            "min_zoom": 0,
            "name": "image",
            "no_wrap": false,
            "opacity": 1,
            "options": [
              "attribution",
              "bounds",
              "detect_retina",
              "max_native_zoom",
              "max_zoom",
              "min_native_zoom",
              "min_zoom",
              "no_wrap",
              "tile_size",
              "tms",
              "zoom_offset"
            ],
            "pane": "",
            "popup": null,
            "popup_max_height": null,
            "popup_max_width": 300,
            "popup_min_width": 50,
            "show_loading": false,
            "tile_size": 256,
            "tms": false,
            "url": "https://earthengine.googleapis.com/v1alpha/projects/earthengine-legacy/maps/ea8d5381a7c3526950f5eb16a639c609-f833fa1e1585365b42b090cb64e5335b/tiles/{z}/{x}/{y}",
            "visible": true,
            "zoom_offset": 0
          }
        },
        "a7abb994d7d445ba85a2eab55c011f14": {
          "model_module": "jupyter-leaflet",
          "model_name": "LeafletTileLayerModel",
          "model_module_version": "^0.17",
          "state": {
            "_model_module": "jupyter-leaflet",
            "_model_module_version": "^0.17",
            "_model_name": "LeafletTileLayerModel",
            "_view_count": null,
            "_view_module": "jupyter-leaflet",
            "_view_module_version": "^0.17",
            "_view_name": "LeafletTileLayerView",
            "attribution": "Google Earth Engine",
            "base": false,
            "bottom": true,
            "bounds": null,
            "detect_retina": false,
            "loading": false,
            "max_native_zoom": null,
            "max_zoom": 24,
            "min_native_zoom": null,
            "min_zoom": 0,
            "name": "classification",
            "no_wrap": false,
            "opacity": 1,
            "options": [
              "attribution",
              "bounds",
              "detect_retina",
              "max_native_zoom",
              "max_zoom",
              "min_native_zoom",
              "min_zoom",
              "no_wrap",
              "tile_size",
              "tms",
              "zoom_offset"
            ],
            "pane": "",
            "popup": null,
            "popup_max_height": null,
            "popup_max_width": 300,
            "popup_min_width": 50,
            "show_loading": false,
            "tile_size": 256,
            "tms": false,
            "url": "https://earthengine.googleapis.com/v1alpha/projects/earthengine-legacy/maps/2ffff9e8ae81ec3cdb9859a25221a39e-ab12d0ba2520fb33c08cf6a3e5c288e8/tiles/{z}/{x}/{y}",
            "visible": true,
            "zoom_offset": 0
          }
        },
        "97ace875187348c68149abd070eb9427": {
          "model_module": "@jupyter-widgets/base",
          "model_name": "LayoutModel",
          "model_module_version": "1.2.0",
          "state": {
            "_model_module": "@jupyter-widgets/base",
            "_model_module_version": "1.2.0",
            "_model_name": "LayoutModel",
            "_view_count": null,
            "_view_module": "@jupyter-widgets/base",
            "_view_module_version": "1.2.0",
            "_view_name": "LayoutView",
            "align_content": null,
            "align_items": null,
            "align_self": null,
            "border": null,
            "bottom": null,
            "display": null,
            "flex": null,
            "flex_flow": null,
            "grid_area": null,
            "grid_auto_columns": null,
            "grid_auto_flow": null,
            "grid_auto_rows": null,
            "grid_column": null,
            "grid_gap": null,
            "grid_row": null,
            "grid_template_areas": null,
            "grid_template_columns": null,
            "grid_template_rows": null,
            "height": "600px",
            "justify_content": null,
            "justify_items": null,
            "left": null,
            "margin": null,
            "max_height": null,
            "max_width": null,
            "min_height": null,
            "min_width": null,
            "object_fit": null,
            "object_position": null,
            "order": null,
            "overflow": null,
            "overflow_x": null,
            "overflow_y": null,
            "padding": null,
            "right": null,
            "top": null,
            "visibility": null,
            "width": null
          }
        },
        "7b4019190c5e4245952f14365955bdc8": {
          "model_module": "jupyter-leaflet",
          "model_name": "LeafletMapStyleModel",
          "model_module_version": "^0.17",
          "state": {
            "_model_module": "jupyter-leaflet",
            "_model_module_version": "^0.17",
            "_model_name": "LeafletMapStyleModel",
            "_view_count": null,
            "_view_module": "@jupyter-widgets/base",
            "_view_module_version": "1.2.0",
            "_view_name": "StyleView",
            "cursor": "grab"
          }
        },
        "74df864ac9e5400b9df3fb6513b85ccc": {
          "model_module": "@jupyter-widgets/controls",
          "model_name": "HBoxModel",
          "model_module_version": "1.5.0",
          "state": {
            "_dom_classes": [],
            "_model_module": "@jupyter-widgets/controls",
            "_model_module_version": "1.5.0",
            "_model_name": "HBoxModel",
            "_view_count": null,
            "_view_module": "@jupyter-widgets/controls",
            "_view_module_version": "1.5.0",
            "_view_name": "HBoxView",
            "box_style": "",
            "children": [
              "IPY_MODEL_63d5b5ba1914487bafc325c3e33c4ade"
            ],
            "layout": "IPY_MODEL_87b429a929fb4200a021ecdad325a422"
          }
        },
        "170f5f66ef4e4f71aa382eef4de96ec5": {
          "model_module": "@jupyter-widgets/controls",
          "model_name": "VBoxModel",
          "model_module_version": "1.5.0",
          "state": {
            "_dom_classes": [],
            "_model_module": "@jupyter-widgets/controls",
            "_model_module_version": "1.5.0",
            "_model_name": "VBoxModel",
            "_view_count": null,
            "_view_module": "@jupyter-widgets/controls",
            "_view_module_version": "1.5.0",
            "_view_name": "VBoxView",
            "box_style": "",
            "children": [
              "IPY_MODEL_396bb928586e404288d635c09c6ab469"
            ],
            "layout": "IPY_MODEL_f9e77fcbe1e046f2979f637891e30f06"
          }
        },
        "63d5b5ba1914487bafc325c3e33c4ade": {
          "model_module": "@jupyter-widgets/controls",
          "model_name": "ToggleButtonModel",
          "model_module_version": "1.5.0",
          "state": {
            "_dom_classes": [],
            "_model_module": "@jupyter-widgets/controls",
            "_model_module_version": "1.5.0",
            "_model_name": "ToggleButtonModel",
            "_view_count": null,
            "_view_module": "@jupyter-widgets/controls",
            "_view_module_version": "1.5.0",
            "_view_name": "ToggleButtonView",
            "button_style": "",
            "description": "",
            "description_tooltip": null,
            "disabled": false,
            "icon": "globe",
            "layout": "IPY_MODEL_0b3ab4367c5c48e0acf82f94af944c94",
            "style": "IPY_MODEL_3c811da4a55149598a20f1fa80d6e086",
            "tooltip": "Search location/data",
            "value": false
          }
        },
        "87b429a929fb4200a021ecdad325a422": {
          "model_module": "@jupyter-widgets/base",
          "model_name": "LayoutModel",
          "model_module_version": "1.2.0",
          "state": {
            "_model_module": "@jupyter-widgets/base",
            "_model_module_version": "1.2.0",
            "_model_name": "LayoutModel",
            "_view_count": null,
            "_view_module": "@jupyter-widgets/base",
            "_view_module_version": "1.2.0",
            "_view_name": "LayoutView",
            "align_content": null,
            "align_items": null,
            "align_self": null,
            "border": null,
            "bottom": null,
            "display": null,
            "flex": null,
            "flex_flow": null,
            "grid_area": null,
            "grid_auto_columns": null,
            "grid_auto_flow": null,
            "grid_auto_rows": null,
            "grid_column": null,
            "grid_gap": null,
            "grid_row": null,
            "grid_template_areas": null,
            "grid_template_columns": null,
            "grid_template_rows": null,
            "height": null,
            "justify_content": null,
            "justify_items": null,
            "left": null,
            "margin": null,
            "max_height": null,
            "max_width": null,
            "min_height": null,
            "min_width": null,
            "object_fit": null,
            "object_position": null,
            "order": null,
            "overflow": null,
            "overflow_x": null,
            "overflow_y": null,
            "padding": null,
            "right": null,
            "top": null,
            "visibility": null,
            "width": null
          }
        },
        "396bb928586e404288d635c09c6ab469": {
          "model_module": "@jupyter-widgets/controls",
          "model_name": "ToggleButtonModel",
          "model_module_version": "1.5.0",
          "state": {
            "_dom_classes": [],
            "_model_module": "@jupyter-widgets/controls",
            "_model_module_version": "1.5.0",
            "_model_name": "ToggleButtonModel",
            "_view_count": null,
            "_view_module": "@jupyter-widgets/controls",
            "_view_module_version": "1.5.0",
            "_view_name": "ToggleButtonView",
            "button_style": "",
            "description": "",
            "description_tooltip": null,
            "disabled": false,
            "icon": "wrench",
            "layout": "IPY_MODEL_b91d5a86c80d4eebbb0af19e4c4697f5",
            "style": "IPY_MODEL_49009daf690e43adb23910248555afba",
            "tooltip": "Toolbar",
            "value": false
          }
        },
        "f9e77fcbe1e046f2979f637891e30f06": {
          "model_module": "@jupyter-widgets/base",
          "model_name": "LayoutModel",
          "model_module_version": "1.2.0",
          "state": {
            "_model_module": "@jupyter-widgets/base",
            "_model_module_version": "1.2.0",
            "_model_name": "LayoutModel",
            "_view_count": null,
            "_view_module": "@jupyter-widgets/base",
            "_view_module_version": "1.2.0",
            "_view_name": "LayoutView",
            "align_content": null,
            "align_items": null,
            "align_self": null,
            "border": null,
            "bottom": null,
            "display": null,
            "flex": null,
            "flex_flow": null,
            "grid_area": null,
            "grid_auto_columns": null,
            "grid_auto_flow": null,
            "grid_auto_rows": null,
            "grid_column": null,
            "grid_gap": null,
            "grid_row": null,
            "grid_template_areas": null,
            "grid_template_columns": null,
            "grid_template_rows": null,
            "height": null,
            "justify_content": null,
            "justify_items": null,
            "left": null,
            "margin": null,
            "max_height": null,
            "max_width": null,
            "min_height": null,
            "min_width": null,
            "object_fit": null,
            "object_position": null,
            "order": null,
            "overflow": null,
            "overflow_x": null,
            "overflow_y": null,
            "padding": null,
            "right": null,
            "top": null,
            "visibility": null,
            "width": null
          }
        },
        "0b3ab4367c5c48e0acf82f94af944c94": {
          "model_module": "@jupyter-widgets/base",
          "model_name": "LayoutModel",
          "model_module_version": "1.2.0",
          "state": {
            "_model_module": "@jupyter-widgets/base",
            "_model_module_version": "1.2.0",
            "_model_name": "LayoutModel",
            "_view_count": null,
            "_view_module": "@jupyter-widgets/base",
            "_view_module_version": "1.2.0",
            "_view_name": "LayoutView",
            "align_content": null,
            "align_items": null,
            "align_self": null,
            "border": null,
            "bottom": null,
            "display": null,
            "flex": null,
            "flex_flow": null,
            "grid_area": null,
            "grid_auto_columns": null,
            "grid_auto_flow": null,
            "grid_auto_rows": null,
            "grid_column": null,
            "grid_gap": null,
            "grid_row": null,
            "grid_template_areas": null,
            "grid_template_columns": null,
            "grid_template_rows": null,
            "height": "28px",
            "justify_content": null,
            "justify_items": null,
            "left": null,
            "margin": null,
            "max_height": null,
            "max_width": null,
            "min_height": null,
            "min_width": null,
            "object_fit": null,
            "object_position": null,
            "order": null,
            "overflow": null,
            "overflow_x": null,
            "overflow_y": null,
            "padding": "0px 0px 0px 4px",
            "right": null,
            "top": null,
            "visibility": null,
            "width": "28px"
          }
        },
        "3c811da4a55149598a20f1fa80d6e086": {
          "model_module": "@jupyter-widgets/controls",
          "model_name": "DescriptionStyleModel",
          "model_module_version": "1.5.0",
          "state": {
            "_model_module": "@jupyter-widgets/controls",
            "_model_module_version": "1.5.0",
            "_model_name": "DescriptionStyleModel",
            "_view_count": null,
            "_view_module": "@jupyter-widgets/base",
            "_view_module_version": "1.2.0",
            "_view_name": "StyleView",
            "description_width": ""
          }
        },
        "b91d5a86c80d4eebbb0af19e4c4697f5": {
          "model_module": "@jupyter-widgets/base",
          "model_name": "LayoutModel",
          "model_module_version": "1.2.0",
          "state": {
            "_model_module": "@jupyter-widgets/base",
            "_model_module_version": "1.2.0",
            "_model_name": "LayoutModel",
            "_view_count": null,
            "_view_module": "@jupyter-widgets/base",
            "_view_module_version": "1.2.0",
            "_view_name": "LayoutView",
            "align_content": null,
            "align_items": null,
            "align_self": null,
            "border": null,
            "bottom": null,
            "display": null,
            "flex": null,
            "flex_flow": null,
            "grid_area": null,
            "grid_auto_columns": null,
            "grid_auto_flow": null,
            "grid_auto_rows": null,
            "grid_column": null,
            "grid_gap": null,
            "grid_row": null,
            "grid_template_areas": null,
            "grid_template_columns": null,
            "grid_template_rows": null,
            "height": "28px",
            "justify_content": null,
            "justify_items": null,
            "left": null,
            "margin": null,
            "max_height": null,
            "max_width": null,
            "min_height": null,
            "min_width": null,
            "object_fit": null,
            "object_position": null,
            "order": null,
            "overflow": null,
            "overflow_x": null,
            "overflow_y": null,
            "padding": "0px 0px 0px 4px",
            "right": null,
            "top": null,
            "visibility": null,
            "width": "28px"
          }
        },
        "49009daf690e43adb23910248555afba": {
          "model_module": "@jupyter-widgets/controls",
          "model_name": "DescriptionStyleModel",
          "model_module_version": "1.5.0",
          "state": {
            "_model_module": "@jupyter-widgets/controls",
            "_model_module_version": "1.5.0",
            "_model_name": "DescriptionStyleModel",
            "_view_count": null,
            "_view_module": "@jupyter-widgets/base",
            "_view_module_version": "1.2.0",
            "_view_name": "StyleView",
            "description_width": ""
          }
        },
        "9f7474859db546d2bbf1c61a3ad9086d": {
          "model_module": "@jupyter-widgets/controls",
          "model_name": "VBoxModel",
          "model_module_version": "1.5.0",
          "state": {
            "_dom_classes": [],
            "_model_module": "@jupyter-widgets/controls",
            "_model_module_version": "1.5.0",
            "_model_name": "VBoxModel",
            "_view_count": null,
            "_view_module": "@jupyter-widgets/controls",
            "_view_module_version": "1.5.0",
            "_view_name": "VBoxView",
            "box_style": "",
            "children": [
              "IPY_MODEL_680e263b2e634d4e85819a9101e8225f",
              "IPY_MODEL_a9a8deb4e18d4db9a627e08447d4a3f4"
            ],
            "layout": "IPY_MODEL_e510881762ca4bdc9d2c6d58fc654723"
          }
        },
        "680e263b2e634d4e85819a9101e8225f": {
          "model_module": "@jupyter-widgets/controls",
          "model_name": "ToggleButtonsModel",
          "model_module_version": "1.5.0",
          "state": {
            "_dom_classes": [],
            "_model_module": "@jupyter-widgets/controls",
            "_model_module_version": "1.5.0",
            "_model_name": "ToggleButtonsModel",
            "_options_labels": [
              "name/address",
              "lat-lon",
              "data"
            ],
            "_view_count": null,
            "_view_module": "@jupyter-widgets/controls",
            "_view_module_version": "1.5.0",
            "_view_name": "ToggleButtonsView",
            "button_style": "",
            "description": "",
            "description_tooltip": null,
            "disabled": false,
            "icons": [],
            "index": 0,
            "layout": "IPY_MODEL_24511ad02e764520bbcdde1899e5747d",
            "style": "IPY_MODEL_658c2d7c793641f3b274fc4366388282",
            "tooltips": [
              "Search by place name or address",
              "Search by lat-lon coordinates",
              "Search Earth Engine data catalog"
            ]
          }
        },
        "a9a8deb4e18d4db9a627e08447d4a3f4": {
          "model_module": "@jupyter-widgets/controls",
          "model_name": "TextModel",
          "model_module_version": "1.5.0",
          "state": {
            "_dom_classes": [],
            "_model_module": "@jupyter-widgets/controls",
            "_model_module_version": "1.5.0",
            "_model_name": "TextModel",
            "_view_count": null,
            "_view_module": "@jupyter-widgets/controls",
            "_view_module_version": "1.5.0",
            "_view_name": "TextView",
            "continuous_update": true,
            "description": "",
            "description_tooltip": null,
            "disabled": false,
            "layout": "IPY_MODEL_7f71ca054c984bf789bae0a1c408464f",
            "placeholder": "Search by place name or address, e.g., Paris",
            "style": "IPY_MODEL_8420075fa6cb49749a2e8734001b6404",
            "value": "Srilanka"
          }
        },
        "e510881762ca4bdc9d2c6d58fc654723": {
          "model_module": "@jupyter-widgets/base",
          "model_name": "LayoutModel",
          "model_module_version": "1.2.0",
          "state": {
            "_model_module": "@jupyter-widgets/base",
            "_model_module_version": "1.2.0",
            "_model_name": "LayoutModel",
            "_view_count": null,
            "_view_module": "@jupyter-widgets/base",
            "_view_module_version": "1.2.0",
            "_view_name": "LayoutView",
            "align_content": null,
            "align_items": null,
            "align_self": null,
            "border": null,
            "bottom": null,
            "display": null,
            "flex": null,
            "flex_flow": null,
            "grid_area": null,
            "grid_auto_columns": null,
            "grid_auto_flow": null,
            "grid_auto_rows": null,
            "grid_column": null,
            "grid_gap": null,
            "grid_row": null,
            "grid_template_areas": null,
            "grid_template_columns": null,
            "grid_template_rows": null,
            "height": null,
            "justify_content": null,
            "justify_items": null,
            "left": null,
            "margin": null,
            "max_height": null,
            "max_width": null,
            "min_height": null,
            "min_width": null,
            "object_fit": null,
            "object_position": null,
            "order": null,
            "overflow": null,
            "overflow_x": null,
            "overflow_y": null,
            "padding": null,
            "right": null,
            "top": null,
            "visibility": null,
            "width": null
          }
        },
        "24511ad02e764520bbcdde1899e5747d": {
          "model_module": "@jupyter-widgets/base",
          "model_name": "LayoutModel",
          "model_module_version": "1.2.0",
          "state": {
            "_model_module": "@jupyter-widgets/base",
            "_model_module_version": "1.2.0",
            "_model_name": "LayoutModel",
            "_view_count": null,
            "_view_module": "@jupyter-widgets/base",
            "_view_module_version": "1.2.0",
            "_view_name": "LayoutView",
            "align_content": null,
            "align_items": null,
            "align_self": null,
            "border": null,
            "bottom": null,
            "display": null,
            "flex": null,
            "flex_flow": null,
            "grid_area": null,
            "grid_auto_columns": null,
            "grid_auto_flow": null,
            "grid_auto_rows": null,
            "grid_column": null,
            "grid_gap": null,
            "grid_row": null,
            "grid_template_areas": null,
            "grid_template_columns": null,
            "grid_template_rows": null,
            "height": null,
            "justify_content": null,
            "justify_items": null,
            "left": null,
            "margin": null,
            "max_height": null,
            "max_width": null,
            "min_height": null,
            "min_width": null,
            "object_fit": null,
            "object_position": null,
            "order": null,
            "overflow": null,
            "overflow_x": null,
            "overflow_y": null,
            "padding": null,
            "right": null,
            "top": null,
            "visibility": null,
            "width": null
          }
        },
        "658c2d7c793641f3b274fc4366388282": {
          "model_module": "@jupyter-widgets/controls",
          "model_name": "ToggleButtonsStyleModel",
          "model_module_version": "1.5.0",
          "state": {
            "_model_module": "@jupyter-widgets/controls",
            "_model_module_version": "1.5.0",
            "_model_name": "ToggleButtonsStyleModel",
            "_view_count": null,
            "_view_module": "@jupyter-widgets/base",
            "_view_module_version": "1.2.0",
            "_view_name": "StyleView",
            "button_width": "110px",
            "description_width": "",
            "font_weight": ""
          }
        },
        "7f71ca054c984bf789bae0a1c408464f": {
          "model_module": "@jupyter-widgets/base",
          "model_name": "LayoutModel",
          "model_module_version": "1.2.0",
          "state": {
            "_model_module": "@jupyter-widgets/base",
            "_model_module_version": "1.2.0",
            "_model_name": "LayoutModel",
            "_view_count": null,
            "_view_module": "@jupyter-widgets/base",
            "_view_module_version": "1.2.0",
            "_view_name": "LayoutView",
            "align_content": null,
            "align_items": null,
            "align_self": null,
            "border": null,
            "bottom": null,
            "display": null,
            "flex": null,
            "flex_flow": null,
            "grid_area": null,
            "grid_auto_columns": null,
            "grid_auto_flow": null,
            "grid_auto_rows": null,
            "grid_column": null,
            "grid_gap": null,
            "grid_row": null,
            "grid_template_areas": null,
            "grid_template_columns": null,
            "grid_template_rows": null,
            "height": null,
            "justify_content": null,
            "justify_items": null,
            "left": null,
            "margin": null,
            "max_height": null,
            "max_width": null,
            "min_height": null,
            "min_width": null,
            "object_fit": null,
            "object_position": null,
            "order": null,
            "overflow": null,
            "overflow_x": null,
            "overflow_y": null,
            "padding": null,
            "right": null,
            "top": null,
            "visibility": null,
            "width": "340px"
          }
        },
        "8420075fa6cb49749a2e8734001b6404": {
          "model_module": "@jupyter-widgets/controls",
          "model_name": "DescriptionStyleModel",
          "model_module_version": "1.5.0",
          "state": {
            "_model_module": "@jupyter-widgets/controls",
            "_model_module_version": "1.5.0",
            "_model_name": "DescriptionStyleModel",
            "_view_count": null,
            "_view_module": "@jupyter-widgets/base",
            "_view_module_version": "1.2.0",
            "_view_name": "StyleView",
            "description_width": ""
          }
        },
        "0cb0c5c8780849bdae915b61f44908b6": {
          "model_module": "@jupyter-widgets/output",
          "model_name": "OutputModel",
          "model_module_version": "1.0.0",
          "state": {
            "_dom_classes": [],
            "_model_module": "@jupyter-widgets/output",
            "_model_module_version": "1.0.0",
            "_model_name": "OutputModel",
            "_view_count": null,
            "_view_module": "@jupyter-widgets/output",
            "_view_module_version": "1.0.0",
            "_view_name": "OutputView",
            "layout": "IPY_MODEL_e9edd41c709a49eebd9953efbdca270e",
            "msg_id": "",
            "outputs": [
              {
                "output_type": "display_data",
                "data": {
                  "text/plain": "RadioButtons(options=('Šrilanka', 'Srilanka, Shivaganj, Mechi', 'Srilanka, Shivasataxi, Province 1', 'Srilānkā…",
                  "application/vnd.jupyter.widget-view+json": {
                    "version_major": 2,
                    "version_minor": 0,
                    "model_id": "34e2b463d21148fa8d1ddbd74747e589"
                  }
                },
                "metadata": {
                  "application/vnd.jupyter.widget-view+json": {
                    "colab": {
                      "custom_widget_manager": {
                        "url": "https://ssl.gstatic.com/colaboratory-static/widgets/colab-cdn-widget-manager/d2e234f7cc04bf79/manager.min.js"
                      }
                    }
                  }
                }
              }
            ]
          }
        },
        "e9edd41c709a49eebd9953efbdca270e": {
          "model_module": "@jupyter-widgets/base",
          "model_name": "LayoutModel",
          "model_module_version": "1.2.0",
          "state": {
            "_model_module": "@jupyter-widgets/base",
            "_model_module_version": "1.2.0",
            "_model_name": "LayoutModel",
            "_view_count": null,
            "_view_module": "@jupyter-widgets/base",
            "_view_module_version": "1.2.0",
            "_view_name": "LayoutView",
            "align_content": null,
            "align_items": null,
            "align_self": null,
            "border": null,
            "bottom": null,
            "display": null,
            "flex": null,
            "flex_flow": null,
            "grid_area": null,
            "grid_auto_columns": null,
            "grid_auto_flow": null,
            "grid_auto_rows": null,
            "grid_column": null,
            "grid_gap": null,
            "grid_row": null,
            "grid_template_areas": null,
            "grid_template_columns": null,
            "grid_template_rows": null,
            "height": null,
            "justify_content": null,
            "justify_items": null,
            "left": null,
            "margin": null,
            "max_height": "350px",
            "max_width": "340px",
            "min_height": null,
            "min_width": null,
            "object_fit": null,
            "object_position": null,
            "order": null,
            "overflow": "scroll",
            "overflow_x": null,
            "overflow_y": null,
            "padding": null,
            "right": null,
            "top": null,
            "visibility": null,
            "width": null
          }
        },
        "0ad3d7992cac42099e3a3993dcef31e5": {
          "model_module": "jupyter-leaflet",
          "model_name": "LeafletMarkerModel",
          "model_module_version": "^0.17",
          "state": {
            "_model_module": "jupyter-leaflet",
            "_model_module_version": "^0.17",
            "_model_name": "LeafletMarkerModel",
            "_view_count": null,
            "_view_module": "jupyter-leaflet",
            "_view_module_version": "^0.17",
            "_view_name": "LeafletMarkerView",
            "alt": "",
            "base": false,
            "bottom": false,
            "draggable": false,
            "icon": null,
            "keyboard": true,
            "location": [
              7.617678409000064,
              80.69863241800005
            ],
            "name": "Search location",
            "opacity": 1,
            "options": [
              "alt",
              "draggable",
              "keyboard",
              "rise_offset",
              "rise_on_hover",
              "rotation_angle",
              "rotation_origin",
              "title",
              "z_index_offset"
            ],
            "pane": "",
            "popup": null,
            "popup_max_height": null,
            "popup_max_width": 300,
            "popup_min_width": 50,
            "rise_offset": 250,
            "rise_on_hover": false,
            "rotation_angle": 0,
            "rotation_origin": "",
            "title": "",
            "visible": true,
            "z_index_offset": 0
          }
        },
        "34e2b463d21148fa8d1ddbd74747e589": {
          "model_module": "@jupyter-widgets/controls",
          "model_name": "RadioButtonsModel",
          "model_module_version": "1.5.0",
          "state": {
            "_dom_classes": [],
            "_model_module": "@jupyter-widgets/controls",
            "_model_module_version": "1.5.0",
            "_model_name": "RadioButtonsModel",
            "_options_labels": [
              "Šrilanka",
              "Srilanka, Shivaganj, Mechi",
              "Srilanka, Shivasataxi, Province 1",
              "Srilānkā"
            ],
            "_view_count": null,
            "_view_module": "@jupyter-widgets/controls",
            "_view_module_version": "1.5.0",
            "_view_name": "RadioButtonsView",
            "description": "",
            "description_tooltip": null,
            "disabled": false,
            "index": 0,
            "layout": "IPY_MODEL_11a2d69adb5746268611519fc02bac4e",
            "style": "IPY_MODEL_b4357db987f74066a90bdb3abab11680"
          }
        },
        "11a2d69adb5746268611519fc02bac4e": {
          "model_module": "@jupyter-widgets/base",
          "model_name": "LayoutModel",
          "model_module_version": "1.2.0",
          "state": {
            "_model_module": "@jupyter-widgets/base",
            "_model_module_version": "1.2.0",
            "_model_name": "LayoutModel",
            "_view_count": null,
            "_view_module": "@jupyter-widgets/base",
            "_view_module_version": "1.2.0",
            "_view_name": "LayoutView",
            "align_content": null,
            "align_items": null,
            "align_self": null,
            "border": null,
            "bottom": null,
            "display": null,
            "flex": null,
            "flex_flow": null,
            "grid_area": null,
            "grid_auto_columns": null,
            "grid_auto_flow": null,
            "grid_auto_rows": null,
            "grid_column": null,
            "grid_gap": null,
            "grid_row": null,
            "grid_template_areas": null,
            "grid_template_columns": null,
            "grid_template_rows": null,
            "height": null,
            "justify_content": null,
            "justify_items": null,
            "left": null,
            "margin": null,
            "max_height": null,
            "max_width": null,
            "min_height": null,
            "min_width": null,
            "object_fit": null,
            "object_position": null,
            "order": null,
            "overflow": null,
            "overflow_x": null,
            "overflow_y": null,
            "padding": null,
            "right": null,
            "top": null,
            "visibility": null,
            "width": null
          }
        },
        "b4357db987f74066a90bdb3abab11680": {
          "model_module": "@jupyter-widgets/controls",
          "model_name": "DescriptionStyleModel",
          "model_module_version": "1.5.0",
          "state": {
            "_model_module": "@jupyter-widgets/controls",
            "_model_module_version": "1.5.0",
            "_model_name": "DescriptionStyleModel",
            "_view_count": null,
            "_view_module": "@jupyter-widgets/base",
            "_view_module_version": "1.2.0",
            "_view_name": "StyleView",
            "description_width": ""
          }
        }
      }
    }
  },
  "nbformat": 4,
  "nbformat_minor": 0
}